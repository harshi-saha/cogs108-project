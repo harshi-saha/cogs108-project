{
 "cells": [
  {
   "cell_type": "markdown",
   "metadata": {},
   "source": [
    "# UC San Diego: Data Science in Practice - EDA Checkpoint\n",
    "### Summer Session I 2023 | Instructor : C. Alex Simpkins Ph.D.\n",
    "\n",
    "## Identifying Relationships in Diabetes Clinical Data Towards Predicting Blood Glucose Levels."
   ]
  },
  {
   "cell_type": "markdown",
   "metadata": {},
   "source": [
    "# Names\n",
    "\n",
    "- Conner Hsu\n",
    "- Harshita Saha\n",
    "- Sidharth Srinath\n",
    "- Anastasiya Markova"
   ]
  },
  {
   "cell_type": "markdown",
   "metadata": {},
   "source": [
    "<a id='research_question'></a>\n",
    "# Research Question"
   ]
  },
  {
   "cell_type": "markdown",
   "metadata": {},
   "source": [
    "Given clinical data for cohorts with and without diabetes, which feature most correlates to the measure of 'blood_glucose_level' for each cohort, and are they different between the cohorts?"
   ]
  },
  {
   "cell_type": "markdown",
   "metadata": {},
   "source": [
    "# Setup and Data Wrangling"
   ]
  },
  {
   "cell_type": "code",
   "execution_count": 2,
   "metadata": {},
   "outputs": [
    {
     "name": "stdout",
     "output_type": "stream",
     "text": [
      "Requirement already satisfied: seaborn in /Users/sidharthsrinath/.pyenv/versions/3.9.9/lib/python3.9/site-packages (0.12.2)\n",
      "Requirement already satisfied: pandas>=0.25 in /Users/sidharthsrinath/.pyenv/versions/3.9.9/lib/python3.9/site-packages (from seaborn) (2.0.2)\n",
      "Requirement already satisfied: numpy!=1.24.0,>=1.17 in /Users/sidharthsrinath/.pyenv/versions/3.9.9/lib/python3.9/site-packages (from seaborn) (1.22.3)\n",
      "Requirement already satisfied: matplotlib!=3.6.1,>=3.1 in /Users/sidharthsrinath/.pyenv/versions/3.9.9/lib/python3.9/site-packages (from seaborn) (3.7.2)\n",
      "Requirement already satisfied: contourpy>=1.0.1 in /Users/sidharthsrinath/.pyenv/versions/3.9.9/lib/python3.9/site-packages (from matplotlib!=3.6.1,>=3.1->seaborn) (1.1.0)\n",
      "Requirement already satisfied: kiwisolver>=1.0.1 in /Users/sidharthsrinath/.pyenv/versions/3.9.9/lib/python3.9/site-packages (from matplotlib!=3.6.1,>=3.1->seaborn) (1.4.2)\n",
      "Requirement already satisfied: importlib-resources>=3.2.0 in /Users/sidharthsrinath/.pyenv/versions/3.9.9/lib/python3.9/site-packages (from matplotlib!=3.6.1,>=3.1->seaborn) (6.0.0)\n",
      "Requirement already satisfied: pillow>=6.2.0 in /Users/sidharthsrinath/.pyenv/versions/3.9.9/lib/python3.9/site-packages (from matplotlib!=3.6.1,>=3.1->seaborn) (9.1.0)\n",
      "Requirement already satisfied: python-dateutil>=2.7 in /Users/sidharthsrinath/.pyenv/versions/3.9.9/lib/python3.9/site-packages (from matplotlib!=3.6.1,>=3.1->seaborn) (2.8.2)\n",
      "Requirement already satisfied: cycler>=0.10 in /Users/sidharthsrinath/.pyenv/versions/3.9.9/lib/python3.9/site-packages (from matplotlib!=3.6.1,>=3.1->seaborn) (0.11.0)\n",
      "Requirement already satisfied: pyparsing<3.1,>=2.3.1 in /Users/sidharthsrinath/.pyenv/versions/3.9.9/lib/python3.9/site-packages (from matplotlib!=3.6.1,>=3.1->seaborn) (3.0.8)\n",
      "Requirement already satisfied: fonttools>=4.22.0 in /Users/sidharthsrinath/.pyenv/versions/3.9.9/lib/python3.9/site-packages (from matplotlib!=3.6.1,>=3.1->seaborn) (4.32.0)\n",
      "Requirement already satisfied: packaging>=20.0 in /Users/sidharthsrinath/.pyenv/versions/3.9.9/lib/python3.9/site-packages (from matplotlib!=3.6.1,>=3.1->seaborn) (21.3)\n",
      "Requirement already satisfied: zipp>=3.1.0 in /Users/sidharthsrinath/.pyenv/versions/3.9.9/lib/python3.9/site-packages (from importlib-resources>=3.2.0->matplotlib!=3.6.1,>=3.1->seaborn) (3.16.2)\n",
      "Requirement already satisfied: pytz>=2020.1 in /Users/sidharthsrinath/.pyenv/versions/3.9.9/lib/python3.9/site-packages (from pandas>=0.25->seaborn) (2023.3)\n",
      "Requirement already satisfied: tzdata>=2022.1 in /Users/sidharthsrinath/.pyenv/versions/3.9.9/lib/python3.9/site-packages (from pandas>=0.25->seaborn) (2023.3)\n",
      "Requirement already satisfied: six>=1.5 in /Users/sidharthsrinath/.pyenv/versions/3.9.9/lib/python3.9/site-packages (from python-dateutil>=2.7->matplotlib!=3.6.1,>=3.1->seaborn) (1.16.0)\n",
      "\u001b[33mWARNING: You are using pip version 21.2.4; however, version 23.2.1 is available.\n",
      "You should consider upgrading via the '/Users/sidharthsrinath/.pyenv/versions/3.9.9/bin/python3.9 -m pip install --upgrade pip' command.\u001b[0m\n"
     ]
    }
   ],
   "source": [
    "!pip install seaborn"
   ]
  },
  {
   "cell_type": "code",
   "execution_count": 3,
   "metadata": {},
   "outputs": [],
   "source": [
    "import numpy as np\n",
    "import pandas as pd\n",
    "import matplotlib.pyplot as plt\n",
    "import seaborn as sns\n",
    "from scipy import stats\n",
    "pd.options.mode.chained_assignment = None\n",
    "from sklearn.model_selection import train_test_split\n",
    "from sklearn.preprocessing import StandardScaler\n",
    "from sklearn.metrics import mean_squared_error\n",
    "from sklearn.linear_model import LinearRegression"
   ]
  },
  {
   "cell_type": "code",
   "execution_count": 4,
   "metadata": {},
   "outputs": [
    {
     "data": {
      "text/html": [
       "<div>\n",
       "<style scoped>\n",
       "    .dataframe tbody tr th:only-of-type {\n",
       "        vertical-align: middle;\n",
       "    }\n",
       "\n",
       "    .dataframe tbody tr th {\n",
       "        vertical-align: top;\n",
       "    }\n",
       "\n",
       "    .dataframe thead th {\n",
       "        text-align: right;\n",
       "    }\n",
       "</style>\n",
       "<table border=\"1\" class=\"dataframe\">\n",
       "  <thead>\n",
       "    <tr style=\"text-align: right;\">\n",
       "      <th></th>\n",
       "      <th>gender</th>\n",
       "      <th>age</th>\n",
       "      <th>hypertension</th>\n",
       "      <th>heart_disease</th>\n",
       "      <th>smoking_history</th>\n",
       "      <th>bmi</th>\n",
       "      <th>HbA1c_level</th>\n",
       "      <th>blood_glucose_level</th>\n",
       "      <th>diabetes</th>\n",
       "    </tr>\n",
       "  </thead>\n",
       "  <tbody>\n",
       "    <tr>\n",
       "      <th>0</th>\n",
       "      <td>Female</td>\n",
       "      <td>80.0</td>\n",
       "      <td>0</td>\n",
       "      <td>1</td>\n",
       "      <td>never</td>\n",
       "      <td>25.19</td>\n",
       "      <td>6.6</td>\n",
       "      <td>140</td>\n",
       "      <td>0</td>\n",
       "    </tr>\n",
       "    <tr>\n",
       "      <th>1</th>\n",
       "      <td>Female</td>\n",
       "      <td>54.0</td>\n",
       "      <td>0</td>\n",
       "      <td>0</td>\n",
       "      <td>No Info</td>\n",
       "      <td>27.32</td>\n",
       "      <td>6.6</td>\n",
       "      <td>80</td>\n",
       "      <td>0</td>\n",
       "    </tr>\n",
       "    <tr>\n",
       "      <th>2</th>\n",
       "      <td>Male</td>\n",
       "      <td>28.0</td>\n",
       "      <td>0</td>\n",
       "      <td>0</td>\n",
       "      <td>never</td>\n",
       "      <td>27.32</td>\n",
       "      <td>5.7</td>\n",
       "      <td>158</td>\n",
       "      <td>0</td>\n",
       "    </tr>\n",
       "    <tr>\n",
       "      <th>3</th>\n",
       "      <td>Female</td>\n",
       "      <td>36.0</td>\n",
       "      <td>0</td>\n",
       "      <td>0</td>\n",
       "      <td>current</td>\n",
       "      <td>23.45</td>\n",
       "      <td>5.0</td>\n",
       "      <td>155</td>\n",
       "      <td>0</td>\n",
       "    </tr>\n",
       "    <tr>\n",
       "      <th>4</th>\n",
       "      <td>Male</td>\n",
       "      <td>76.0</td>\n",
       "      <td>1</td>\n",
       "      <td>1</td>\n",
       "      <td>current</td>\n",
       "      <td>20.14</td>\n",
       "      <td>4.8</td>\n",
       "      <td>155</td>\n",
       "      <td>0</td>\n",
       "    </tr>\n",
       "  </tbody>\n",
       "</table>\n",
       "</div>"
      ],
      "text/plain": [
       "   gender   age  hypertension  heart_disease smoking_history    bmi  \\\n",
       "0  Female  80.0             0              1           never  25.19   \n",
       "1  Female  54.0             0              0         No Info  27.32   \n",
       "2    Male  28.0             0              0           never  27.32   \n",
       "3  Female  36.0             0              0         current  23.45   \n",
       "4    Male  76.0             1              1         current  20.14   \n",
       "\n",
       "   HbA1c_level  blood_glucose_level  diabetes  \n",
       "0          6.6                  140         0  \n",
       "1          6.6                   80         0  \n",
       "2          5.7                  158         0  \n",
       "3          5.0                  155         0  \n",
       "4          4.8                  155         0  "
      ]
     },
     "execution_count": 4,
     "metadata": {},
     "output_type": "execute_result"
    }
   ],
   "source": [
    "df = pd.read_csv('diabetes_prediction_dataset.csv')\n",
    "df.head()"
   ]
  },
  {
   "cell_type": "markdown",
   "metadata": {},
   "source": [
    "# Data Cleaning"
   ]
  },
  {
   "cell_type": "markdown",
   "metadata": {},
   "source": [
    "Describe your data cleaning steps here."
   ]
  },
  {
   "cell_type": "code",
   "execution_count": 5,
   "metadata": {},
   "outputs": [
    {
     "data": {
      "text/plain": [
       "0"
      ]
     },
     "execution_count": 5,
     "metadata": {},
     "output_type": "execute_result"
    }
   ],
   "source": [
    "# check if there is any missing data\n",
    "df.isna().sum().sum()"
   ]
  },
  {
   "cell_type": "code",
   "execution_count": 6,
   "metadata": {},
   "outputs": [
    {
     "data": {
      "text/plain": [
       "gender                  object\n",
       "age                    float64\n",
       "hypertension             int64\n",
       "heart_disease            int64\n",
       "smoking_history         object\n",
       "bmi                    float64\n",
       "HbA1c_level            float64\n",
       "blood_glucose_level      int64\n",
       "diabetes                 int64\n",
       "dtype: object"
      ]
     },
     "execution_count": 6,
     "metadata": {},
     "output_type": "execute_result"
    }
   ],
   "source": [
    "# check the datatypes of each column\n",
    "df.dtypes"
   ]
  },
  {
   "cell_type": "code",
   "execution_count": 7,
   "metadata": {},
   "outputs": [
    {
     "data": {
      "text/plain": [
       "gender\n",
       "Female    58552\n",
       "Male      41430\n",
       "Other        18\n",
       "Name: age, dtype: int64"
      ]
     },
     "execution_count": 7,
     "metadata": {},
     "output_type": "execute_result"
    }
   ],
   "source": [
    "# checking gender of patients\n",
    "df.groupby('gender').count()['age']"
   ]
  },
  {
   "cell_type": "code",
   "execution_count": 8,
   "metadata": {},
   "outputs": [
    {
     "data": {
      "text/html": [
       "<div>\n",
       "<style scoped>\n",
       "    .dataframe tbody tr th:only-of-type {\n",
       "        vertical-align: middle;\n",
       "    }\n",
       "\n",
       "    .dataframe tbody tr th {\n",
       "        vertical-align: top;\n",
       "    }\n",
       "\n",
       "    .dataframe thead th {\n",
       "        text-align: right;\n",
       "    }\n",
       "</style>\n",
       "<table border=\"1\" class=\"dataframe\">\n",
       "  <thead>\n",
       "    <tr style=\"text-align: right;\">\n",
       "      <th></th>\n",
       "      <th>gender</th>\n",
       "      <th>age</th>\n",
       "      <th>hypertension</th>\n",
       "      <th>heart_disease</th>\n",
       "      <th>smoking_history</th>\n",
       "      <th>bmi</th>\n",
       "      <th>HbA1c_level</th>\n",
       "      <th>blood_glucose_level</th>\n",
       "      <th>diabetes</th>\n",
       "    </tr>\n",
       "  </thead>\n",
       "  <tbody>\n",
       "    <tr>\n",
       "      <th>0</th>\n",
       "      <td>Female</td>\n",
       "      <td>80.0</td>\n",
       "      <td>0</td>\n",
       "      <td>1</td>\n",
       "      <td>never</td>\n",
       "      <td>25.19</td>\n",
       "      <td>6.6</td>\n",
       "      <td>140</td>\n",
       "      <td>0</td>\n",
       "    </tr>\n",
       "    <tr>\n",
       "      <th>1</th>\n",
       "      <td>Female</td>\n",
       "      <td>54.0</td>\n",
       "      <td>0</td>\n",
       "      <td>0</td>\n",
       "      <td>No Info</td>\n",
       "      <td>27.32</td>\n",
       "      <td>6.6</td>\n",
       "      <td>80</td>\n",
       "      <td>0</td>\n",
       "    </tr>\n",
       "    <tr>\n",
       "      <th>2</th>\n",
       "      <td>Male</td>\n",
       "      <td>28.0</td>\n",
       "      <td>0</td>\n",
       "      <td>0</td>\n",
       "      <td>never</td>\n",
       "      <td>27.32</td>\n",
       "      <td>5.7</td>\n",
       "      <td>158</td>\n",
       "      <td>0</td>\n",
       "    </tr>\n",
       "    <tr>\n",
       "      <th>3</th>\n",
       "      <td>Female</td>\n",
       "      <td>36.0</td>\n",
       "      <td>0</td>\n",
       "      <td>0</td>\n",
       "      <td>current</td>\n",
       "      <td>23.45</td>\n",
       "      <td>5.0</td>\n",
       "      <td>155</td>\n",
       "      <td>0</td>\n",
       "    </tr>\n",
       "    <tr>\n",
       "      <th>4</th>\n",
       "      <td>Male</td>\n",
       "      <td>76.0</td>\n",
       "      <td>1</td>\n",
       "      <td>1</td>\n",
       "      <td>current</td>\n",
       "      <td>20.14</td>\n",
       "      <td>4.8</td>\n",
       "      <td>155</td>\n",
       "      <td>0</td>\n",
       "    </tr>\n",
       "    <tr>\n",
       "      <th>...</th>\n",
       "      <td>...</td>\n",
       "      <td>...</td>\n",
       "      <td>...</td>\n",
       "      <td>...</td>\n",
       "      <td>...</td>\n",
       "      <td>...</td>\n",
       "      <td>...</td>\n",
       "      <td>...</td>\n",
       "      <td>...</td>\n",
       "    </tr>\n",
       "    <tr>\n",
       "      <th>99995</th>\n",
       "      <td>Female</td>\n",
       "      <td>80.0</td>\n",
       "      <td>0</td>\n",
       "      <td>0</td>\n",
       "      <td>No Info</td>\n",
       "      <td>27.32</td>\n",
       "      <td>6.2</td>\n",
       "      <td>90</td>\n",
       "      <td>0</td>\n",
       "    </tr>\n",
       "    <tr>\n",
       "      <th>99996</th>\n",
       "      <td>Female</td>\n",
       "      <td>2.0</td>\n",
       "      <td>0</td>\n",
       "      <td>0</td>\n",
       "      <td>No Info</td>\n",
       "      <td>17.37</td>\n",
       "      <td>6.5</td>\n",
       "      <td>100</td>\n",
       "      <td>0</td>\n",
       "    </tr>\n",
       "    <tr>\n",
       "      <th>99997</th>\n",
       "      <td>Male</td>\n",
       "      <td>66.0</td>\n",
       "      <td>0</td>\n",
       "      <td>0</td>\n",
       "      <td>former</td>\n",
       "      <td>27.83</td>\n",
       "      <td>5.7</td>\n",
       "      <td>155</td>\n",
       "      <td>0</td>\n",
       "    </tr>\n",
       "    <tr>\n",
       "      <th>99998</th>\n",
       "      <td>Female</td>\n",
       "      <td>24.0</td>\n",
       "      <td>0</td>\n",
       "      <td>0</td>\n",
       "      <td>never</td>\n",
       "      <td>35.42</td>\n",
       "      <td>4.0</td>\n",
       "      <td>100</td>\n",
       "      <td>0</td>\n",
       "    </tr>\n",
       "    <tr>\n",
       "      <th>99999</th>\n",
       "      <td>Female</td>\n",
       "      <td>57.0</td>\n",
       "      <td>0</td>\n",
       "      <td>0</td>\n",
       "      <td>current</td>\n",
       "      <td>22.43</td>\n",
       "      <td>6.6</td>\n",
       "      <td>90</td>\n",
       "      <td>0</td>\n",
       "    </tr>\n",
       "  </tbody>\n",
       "</table>\n",
       "<p>99982 rows × 9 columns</p>\n",
       "</div>"
      ],
      "text/plain": [
       "       gender   age  hypertension  heart_disease smoking_history    bmi  \\\n",
       "0      Female  80.0             0              1           never  25.19   \n",
       "1      Female  54.0             0              0         No Info  27.32   \n",
       "2        Male  28.0             0              0           never  27.32   \n",
       "3      Female  36.0             0              0         current  23.45   \n",
       "4        Male  76.0             1              1         current  20.14   \n",
       "...       ...   ...           ...            ...             ...    ...   \n",
       "99995  Female  80.0             0              0         No Info  27.32   \n",
       "99996  Female   2.0             0              0         No Info  17.37   \n",
       "99997    Male  66.0             0              0          former  27.83   \n",
       "99998  Female  24.0             0              0           never  35.42   \n",
       "99999  Female  57.0             0              0         current  22.43   \n",
       "\n",
       "       HbA1c_level  blood_glucose_level  diabetes  \n",
       "0              6.6                  140         0  \n",
       "1              6.6                   80         0  \n",
       "2              5.7                  158         0  \n",
       "3              5.0                  155         0  \n",
       "4              4.8                  155         0  \n",
       "...            ...                  ...       ...  \n",
       "99995          6.2                   90         0  \n",
       "99996          6.5                  100         0  \n",
       "99997          5.7                  155         0  \n",
       "99998          4.0                  100         0  \n",
       "99999          6.6                   90         0  \n",
       "\n",
       "[99982 rows x 9 columns]"
      ]
     },
     "execution_count": 8,
     "metadata": {},
     "output_type": "execute_result"
    }
   ],
   "source": [
    "# removing records where gender is not specified/recorded as it may affect predictions\n",
    "df = df[df['gender'] != 'Other']\n",
    "df"
   ]
  },
  {
   "cell_type": "code",
   "execution_count": 9,
   "metadata": {},
   "outputs": [
    {
     "data": {
      "text/plain": [
       "(80321, 9)"
      ]
     },
     "execution_count": 9,
     "metadata": {},
     "output_type": "execute_result"
    }
   ],
   "source": [
    "# removing records for patients less than 20\n",
    "# this is because the rates of diabetes are lower in these populations\n",
    "# and diabetes is less well studied as a result, and analyis based \n",
    "# on these groups might not generalizable\n",
    "# https://www.cdc.gov/diabetes/data/statistics-report/newly-diagnosed-diabetes.html\n",
    "# https://diabetesjournals.org/care/article/46/3/490/148482/Youth-Onset-Type-2-Diabetes-The-Epidemiology-of-an\n",
    "df = df[df['age'] >= 20]\n",
    "df.shape"
   ]
  },
  {
   "cell_type": "code",
   "execution_count": 10,
   "metadata": {},
   "outputs": [],
   "source": [
    "# bmi labeling\n",
    "bmi_bins = pd.cut(df['bmi'], [0, 18.5, 25, 30, round(df['bmi'].max())], right=False, \\\n",
    "                 labels=['underweight', 'healthy', 'overweight', 'obese']) \n",
    "df['bmi_label'] = bmi_bins"
   ]
  },
  {
   "cell_type": "code",
   "execution_count": 11,
   "metadata": {},
   "outputs": [],
   "source": [
    "# blood_glucose labeling\n",
    "bg_bins = pd.cut(df['blood_glucose_level'], [0, 90, 130, round(df['blood_glucose_level'].max())], right=False, \\\n",
    "                labels=['low', 'normal', 'high'])\n",
    "df['bg_label'] = bg_bins"
   ]
  },
  {
   "cell_type": "code",
   "execution_count": 12,
   "metadata": {},
   "outputs": [
    {
     "data": {
      "text/html": [
       "<div>\n",
       "<style scoped>\n",
       "    .dataframe tbody tr th:only-of-type {\n",
       "        vertical-align: middle;\n",
       "    }\n",
       "\n",
       "    .dataframe tbody tr th {\n",
       "        vertical-align: top;\n",
       "    }\n",
       "\n",
       "    .dataframe thead th {\n",
       "        text-align: right;\n",
       "    }\n",
       "</style>\n",
       "<table border=\"1\" class=\"dataframe\">\n",
       "  <thead>\n",
       "    <tr style=\"text-align: right;\">\n",
       "      <th></th>\n",
       "      <th>gender</th>\n",
       "      <th>age</th>\n",
       "      <th>hypertension</th>\n",
       "      <th>heart_disease</th>\n",
       "      <th>smoking_history</th>\n",
       "      <th>bmi</th>\n",
       "      <th>HbA1c_level</th>\n",
       "      <th>blood_glucose_level</th>\n",
       "      <th>diabetes</th>\n",
       "      <th>bmi_label</th>\n",
       "      <th>bg_label</th>\n",
       "      <th>age_label</th>\n",
       "      <th>HbA1c_label</th>\n",
       "    </tr>\n",
       "  </thead>\n",
       "  <tbody>\n",
       "    <tr>\n",
       "      <th>0</th>\n",
       "      <td>Female</td>\n",
       "      <td>80.0</td>\n",
       "      <td>0</td>\n",
       "      <td>1</td>\n",
       "      <td>never</td>\n",
       "      <td>25.19</td>\n",
       "      <td>6.6</td>\n",
       "      <td>140</td>\n",
       "      <td>0</td>\n",
       "      <td>overweight</td>\n",
       "      <td>high</td>\n",
       "      <td>g3</td>\n",
       "      <td>high</td>\n",
       "    </tr>\n",
       "    <tr>\n",
       "      <th>1</th>\n",
       "      <td>Female</td>\n",
       "      <td>54.0</td>\n",
       "      <td>0</td>\n",
       "      <td>0</td>\n",
       "      <td>No Info</td>\n",
       "      <td>27.32</td>\n",
       "      <td>6.6</td>\n",
       "      <td>80</td>\n",
       "      <td>0</td>\n",
       "      <td>overweight</td>\n",
       "      <td>low</td>\n",
       "      <td>g2</td>\n",
       "      <td>high</td>\n",
       "    </tr>\n",
       "    <tr>\n",
       "      <th>2</th>\n",
       "      <td>Male</td>\n",
       "      <td>28.0</td>\n",
       "      <td>0</td>\n",
       "      <td>0</td>\n",
       "      <td>never</td>\n",
       "      <td>27.32</td>\n",
       "      <td>5.7</td>\n",
       "      <td>158</td>\n",
       "      <td>0</td>\n",
       "      <td>overweight</td>\n",
       "      <td>high</td>\n",
       "      <td>g1</td>\n",
       "      <td>normal</td>\n",
       "    </tr>\n",
       "    <tr>\n",
       "      <th>3</th>\n",
       "      <td>Female</td>\n",
       "      <td>36.0</td>\n",
       "      <td>0</td>\n",
       "      <td>0</td>\n",
       "      <td>current</td>\n",
       "      <td>23.45</td>\n",
       "      <td>5.0</td>\n",
       "      <td>155</td>\n",
       "      <td>0</td>\n",
       "      <td>healthy</td>\n",
       "      <td>high</td>\n",
       "      <td>g1</td>\n",
       "      <td>normal</td>\n",
       "    </tr>\n",
       "    <tr>\n",
       "      <th>4</th>\n",
       "      <td>Male</td>\n",
       "      <td>76.0</td>\n",
       "      <td>1</td>\n",
       "      <td>1</td>\n",
       "      <td>current</td>\n",
       "      <td>20.14</td>\n",
       "      <td>4.8</td>\n",
       "      <td>155</td>\n",
       "      <td>0</td>\n",
       "      <td>healthy</td>\n",
       "      <td>high</td>\n",
       "      <td>g3</td>\n",
       "      <td>normal</td>\n",
       "    </tr>\n",
       "  </tbody>\n",
       "</table>\n",
       "</div>"
      ],
      "text/plain": [
       "   gender   age  hypertension  heart_disease smoking_history    bmi  \\\n",
       "0  Female  80.0             0              1           never  25.19   \n",
       "1  Female  54.0             0              0         No Info  27.32   \n",
       "2    Male  28.0             0              0           never  27.32   \n",
       "3  Female  36.0             0              0         current  23.45   \n",
       "4    Male  76.0             1              1         current  20.14   \n",
       "\n",
       "   HbA1c_level  blood_glucose_level  diabetes   bmi_label bg_label age_label  \\\n",
       "0          6.6                  140         0  overweight     high        g3   \n",
       "1          6.6                   80         0  overweight      low        g2   \n",
       "2          5.7                  158         0  overweight     high        g1   \n",
       "3          5.0                  155         0     healthy     high        g1   \n",
       "4          4.8                  155         0     healthy     high        g3   \n",
       "\n",
       "  HbA1c_label  \n",
       "0        high  \n",
       "1        high  \n",
       "2      normal  \n",
       "3      normal  \n",
       "4      normal  "
      ]
     },
     "execution_count": 12,
     "metadata": {},
     "output_type": "execute_result"
    }
   ],
   "source": [
    "# HbA1c labeling\n",
    "age_bins = pd.cut(df['age'], [19, 39, 59, round(df['age'].max())], labels=['g1', 'g2', 'g3'])\n",
    "df['age_label'] = age_bins\n",
    "\n",
    "#setting up thresholds for HbA1c levels\n",
    "conditions = [df['age_label']=='g1', df['age_label']=='g2', df['age_label']=='g3']\n",
    "choices = [6.0, 6.1, 6.5]\n",
    "HbA1c_exp = np.select(conditions, choices)\n",
    "df['HbA1c_label'] = HbA1c_exp\n",
    "\n",
    "#assigning high/normal based on the thresholds and current HbA1c levels\n",
    "df['HbA1c_label'] = (df['HbA1c_level'] <= df['HbA1c_label']).replace({True:'normal', False:'high'})\n",
    "df.head()"
   ]
  },
  {
   "cell_type": "code",
   "execution_count": 13,
   "metadata": {},
   "outputs": [
    {
     "data": {
      "text/html": [
       "<div>\n",
       "<style scoped>\n",
       "    .dataframe tbody tr th:only-of-type {\n",
       "        vertical-align: middle;\n",
       "    }\n",
       "\n",
       "    .dataframe tbody tr th {\n",
       "        vertical-align: top;\n",
       "    }\n",
       "\n",
       "    .dataframe thead th {\n",
       "        text-align: right;\n",
       "    }\n",
       "</style>\n",
       "<table border=\"1\" class=\"dataframe\">\n",
       "  <thead>\n",
       "    <tr style=\"text-align: right;\">\n",
       "      <th></th>\n",
       "      <th>gender</th>\n",
       "      <th>age</th>\n",
       "      <th>hypertension</th>\n",
       "      <th>heart_disease</th>\n",
       "      <th>smoking_history</th>\n",
       "      <th>bmi</th>\n",
       "      <th>bmi_label</th>\n",
       "      <th>hba1c</th>\n",
       "      <th>hba1c_label</th>\n",
       "      <th>bg</th>\n",
       "      <th>bg_label</th>\n",
       "      <th>diabetes</th>\n",
       "    </tr>\n",
       "  </thead>\n",
       "  <tbody>\n",
       "    <tr>\n",
       "      <th>0</th>\n",
       "      <td>Female</td>\n",
       "      <td>80.0</td>\n",
       "      <td>0</td>\n",
       "      <td>1</td>\n",
       "      <td>never</td>\n",
       "      <td>25.19</td>\n",
       "      <td>overweight</td>\n",
       "      <td>6.6</td>\n",
       "      <td>high</td>\n",
       "      <td>140</td>\n",
       "      <td>high</td>\n",
       "      <td>0</td>\n",
       "    </tr>\n",
       "    <tr>\n",
       "      <th>1</th>\n",
       "      <td>Female</td>\n",
       "      <td>54.0</td>\n",
       "      <td>0</td>\n",
       "      <td>0</td>\n",
       "      <td>No Info</td>\n",
       "      <td>27.32</td>\n",
       "      <td>overweight</td>\n",
       "      <td>6.6</td>\n",
       "      <td>high</td>\n",
       "      <td>80</td>\n",
       "      <td>low</td>\n",
       "      <td>0</td>\n",
       "    </tr>\n",
       "    <tr>\n",
       "      <th>2</th>\n",
       "      <td>Male</td>\n",
       "      <td>28.0</td>\n",
       "      <td>0</td>\n",
       "      <td>0</td>\n",
       "      <td>never</td>\n",
       "      <td>27.32</td>\n",
       "      <td>overweight</td>\n",
       "      <td>5.7</td>\n",
       "      <td>normal</td>\n",
       "      <td>158</td>\n",
       "      <td>high</td>\n",
       "      <td>0</td>\n",
       "    </tr>\n",
       "    <tr>\n",
       "      <th>3</th>\n",
       "      <td>Female</td>\n",
       "      <td>36.0</td>\n",
       "      <td>0</td>\n",
       "      <td>0</td>\n",
       "      <td>current</td>\n",
       "      <td>23.45</td>\n",
       "      <td>healthy</td>\n",
       "      <td>5.0</td>\n",
       "      <td>normal</td>\n",
       "      <td>155</td>\n",
       "      <td>high</td>\n",
       "      <td>0</td>\n",
       "    </tr>\n",
       "    <tr>\n",
       "      <th>4</th>\n",
       "      <td>Male</td>\n",
       "      <td>76.0</td>\n",
       "      <td>1</td>\n",
       "      <td>1</td>\n",
       "      <td>current</td>\n",
       "      <td>20.14</td>\n",
       "      <td>healthy</td>\n",
       "      <td>4.8</td>\n",
       "      <td>normal</td>\n",
       "      <td>155</td>\n",
       "      <td>high</td>\n",
       "      <td>0</td>\n",
       "    </tr>\n",
       "  </tbody>\n",
       "</table>\n",
       "</div>"
      ],
      "text/plain": [
       "   gender   age  hypertension  heart_disease smoking_history    bmi  \\\n",
       "0  Female  80.0             0              1           never  25.19   \n",
       "1  Female  54.0             0              0         No Info  27.32   \n",
       "2    Male  28.0             0              0           never  27.32   \n",
       "3  Female  36.0             0              0         current  23.45   \n",
       "4    Male  76.0             1              1         current  20.14   \n",
       "\n",
       "    bmi_label  hba1c hba1c_label   bg bg_label  diabetes  \n",
       "0  overweight    6.6        high  140     high         0  \n",
       "1  overweight    6.6        high   80      low         0  \n",
       "2  overweight    5.7      normal  158     high         0  \n",
       "3     healthy    5.0      normal  155     high         0  \n",
       "4     healthy    4.8      normal  155     high         0  "
      ]
     },
     "execution_count": 13,
     "metadata": {},
     "output_type": "execute_result"
    }
   ],
   "source": [
    "#reorderingthe columns\n",
    "df = df[list(df.columns[:6])+['bmi_label', 'HbA1c_level', 'HbA1c_label', 'blood_glucose_level', 'bg_label', 'diabetes']]\n",
    "#renaming the columns\n",
    "df = df.rename(columns={\"HbA1c_level\": \"hba1c\", \"HbA1c_label\": \"hba1c_label\", \"blood_glucose_level\": \"bg\"})\n",
    "df.head()"
   ]
  },
  {
   "cell_type": "code",
   "execution_count": 14,
   "metadata": {},
   "outputs": [],
   "source": [
    "df0 = df[df['diabetes'] == 0]\n",
    "df1 = df[df['diabetes'] == 1]"
   ]
  },
  {
   "cell_type": "code",
   "execution_count": 15,
   "metadata": {},
   "outputs": [
    {
     "data": {
      "text/html": [
       "<div>\n",
       "<style scoped>\n",
       "    .dataframe tbody tr th:only-of-type {\n",
       "        vertical-align: middle;\n",
       "    }\n",
       "\n",
       "    .dataframe tbody tr th {\n",
       "        vertical-align: top;\n",
       "    }\n",
       "\n",
       "    .dataframe thead th {\n",
       "        text-align: right;\n",
       "    }\n",
       "</style>\n",
       "<table border=\"1\" class=\"dataframe\">\n",
       "  <thead>\n",
       "    <tr style=\"text-align: right;\">\n",
       "      <th></th>\n",
       "      <th>gender</th>\n",
       "      <th>age</th>\n",
       "      <th>hypertension</th>\n",
       "      <th>heart_disease</th>\n",
       "      <th>smoking_history</th>\n",
       "      <th>bmi</th>\n",
       "      <th>bmi_label</th>\n",
       "      <th>hba1c</th>\n",
       "      <th>hba1c_label</th>\n",
       "      <th>bg</th>\n",
       "      <th>bg_label</th>\n",
       "      <th>diabetes</th>\n",
       "      <th>age_group</th>\n",
       "    </tr>\n",
       "  </thead>\n",
       "  <tbody>\n",
       "    <tr>\n",
       "      <th>0</th>\n",
       "      <td>Female</td>\n",
       "      <td>80.0</td>\n",
       "      <td>0</td>\n",
       "      <td>1</td>\n",
       "      <td>never</td>\n",
       "      <td>25.19</td>\n",
       "      <td>overweight</td>\n",
       "      <td>6.6</td>\n",
       "      <td>high</td>\n",
       "      <td>140</td>\n",
       "      <td>high</td>\n",
       "      <td>0</td>\n",
       "      <td>(60, 80]</td>\n",
       "    </tr>\n",
       "    <tr>\n",
       "      <th>1</th>\n",
       "      <td>Female</td>\n",
       "      <td>54.0</td>\n",
       "      <td>0</td>\n",
       "      <td>0</td>\n",
       "      <td>No Info</td>\n",
       "      <td>27.32</td>\n",
       "      <td>overweight</td>\n",
       "      <td>6.6</td>\n",
       "      <td>high</td>\n",
       "      <td>80</td>\n",
       "      <td>low</td>\n",
       "      <td>0</td>\n",
       "      <td>(45, 60]</td>\n",
       "    </tr>\n",
       "    <tr>\n",
       "      <th>2</th>\n",
       "      <td>Male</td>\n",
       "      <td>28.0</td>\n",
       "      <td>0</td>\n",
       "      <td>0</td>\n",
       "      <td>never</td>\n",
       "      <td>27.32</td>\n",
       "      <td>overweight</td>\n",
       "      <td>5.7</td>\n",
       "      <td>normal</td>\n",
       "      <td>158</td>\n",
       "      <td>high</td>\n",
       "      <td>0</td>\n",
       "      <td>(18, 30]</td>\n",
       "    </tr>\n",
       "    <tr>\n",
       "      <th>3</th>\n",
       "      <td>Female</td>\n",
       "      <td>36.0</td>\n",
       "      <td>0</td>\n",
       "      <td>0</td>\n",
       "      <td>current</td>\n",
       "      <td>23.45</td>\n",
       "      <td>healthy</td>\n",
       "      <td>5.0</td>\n",
       "      <td>normal</td>\n",
       "      <td>155</td>\n",
       "      <td>high</td>\n",
       "      <td>0</td>\n",
       "      <td>(30, 45]</td>\n",
       "    </tr>\n",
       "    <tr>\n",
       "      <th>4</th>\n",
       "      <td>Male</td>\n",
       "      <td>76.0</td>\n",
       "      <td>1</td>\n",
       "      <td>1</td>\n",
       "      <td>current</td>\n",
       "      <td>20.14</td>\n",
       "      <td>healthy</td>\n",
       "      <td>4.8</td>\n",
       "      <td>normal</td>\n",
       "      <td>155</td>\n",
       "      <td>high</td>\n",
       "      <td>0</td>\n",
       "      <td>(60, 80]</td>\n",
       "    </tr>\n",
       "    <tr>\n",
       "      <th>...</th>\n",
       "      <td>...</td>\n",
       "      <td>...</td>\n",
       "      <td>...</td>\n",
       "      <td>...</td>\n",
       "      <td>...</td>\n",
       "      <td>...</td>\n",
       "      <td>...</td>\n",
       "      <td>...</td>\n",
       "      <td>...</td>\n",
       "      <td>...</td>\n",
       "      <td>...</td>\n",
       "      <td>...</td>\n",
       "      <td>...</td>\n",
       "    </tr>\n",
       "    <tr>\n",
       "      <th>99994</th>\n",
       "      <td>Female</td>\n",
       "      <td>36.0</td>\n",
       "      <td>0</td>\n",
       "      <td>0</td>\n",
       "      <td>No Info</td>\n",
       "      <td>24.60</td>\n",
       "      <td>healthy</td>\n",
       "      <td>4.8</td>\n",
       "      <td>normal</td>\n",
       "      <td>145</td>\n",
       "      <td>high</td>\n",
       "      <td>0</td>\n",
       "      <td>(30, 45]</td>\n",
       "    </tr>\n",
       "    <tr>\n",
       "      <th>99995</th>\n",
       "      <td>Female</td>\n",
       "      <td>80.0</td>\n",
       "      <td>0</td>\n",
       "      <td>0</td>\n",
       "      <td>No Info</td>\n",
       "      <td>27.32</td>\n",
       "      <td>overweight</td>\n",
       "      <td>6.2</td>\n",
       "      <td>normal</td>\n",
       "      <td>90</td>\n",
       "      <td>normal</td>\n",
       "      <td>0</td>\n",
       "      <td>(60, 80]</td>\n",
       "    </tr>\n",
       "    <tr>\n",
       "      <th>99997</th>\n",
       "      <td>Male</td>\n",
       "      <td>66.0</td>\n",
       "      <td>0</td>\n",
       "      <td>0</td>\n",
       "      <td>former</td>\n",
       "      <td>27.83</td>\n",
       "      <td>overweight</td>\n",
       "      <td>5.7</td>\n",
       "      <td>normal</td>\n",
       "      <td>155</td>\n",
       "      <td>high</td>\n",
       "      <td>0</td>\n",
       "      <td>(60, 80]</td>\n",
       "    </tr>\n",
       "    <tr>\n",
       "      <th>99998</th>\n",
       "      <td>Female</td>\n",
       "      <td>24.0</td>\n",
       "      <td>0</td>\n",
       "      <td>0</td>\n",
       "      <td>never</td>\n",
       "      <td>35.42</td>\n",
       "      <td>obese</td>\n",
       "      <td>4.0</td>\n",
       "      <td>normal</td>\n",
       "      <td>100</td>\n",
       "      <td>normal</td>\n",
       "      <td>0</td>\n",
       "      <td>(18, 30]</td>\n",
       "    </tr>\n",
       "    <tr>\n",
       "      <th>99999</th>\n",
       "      <td>Female</td>\n",
       "      <td>57.0</td>\n",
       "      <td>0</td>\n",
       "      <td>0</td>\n",
       "      <td>current</td>\n",
       "      <td>22.43</td>\n",
       "      <td>healthy</td>\n",
       "      <td>6.6</td>\n",
       "      <td>high</td>\n",
       "      <td>90</td>\n",
       "      <td>normal</td>\n",
       "      <td>0</td>\n",
       "      <td>(45, 60]</td>\n",
       "    </tr>\n",
       "  </tbody>\n",
       "</table>\n",
       "<p>80321 rows × 13 columns</p>\n",
       "</div>"
      ],
      "text/plain": [
       "       gender   age  hypertension  heart_disease smoking_history    bmi  \\\n",
       "0      Female  80.0             0              1           never  25.19   \n",
       "1      Female  54.0             0              0         No Info  27.32   \n",
       "2        Male  28.0             0              0           never  27.32   \n",
       "3      Female  36.0             0              0         current  23.45   \n",
       "4        Male  76.0             1              1         current  20.14   \n",
       "...       ...   ...           ...            ...             ...    ...   \n",
       "99994  Female  36.0             0              0         No Info  24.60   \n",
       "99995  Female  80.0             0              0         No Info  27.32   \n",
       "99997    Male  66.0             0              0          former  27.83   \n",
       "99998  Female  24.0             0              0           never  35.42   \n",
       "99999  Female  57.0             0              0         current  22.43   \n",
       "\n",
       "        bmi_label  hba1c hba1c_label   bg bg_label  diabetes age_group  \n",
       "0      overweight    6.6        high  140     high         0  (60, 80]  \n",
       "1      overweight    6.6        high   80      low         0  (45, 60]  \n",
       "2      overweight    5.7      normal  158     high         0  (18, 30]  \n",
       "3         healthy    5.0      normal  155     high         0  (30, 45]  \n",
       "4         healthy    4.8      normal  155     high         0  (60, 80]  \n",
       "...           ...    ...         ...  ...      ...       ...       ...  \n",
       "99994     healthy    4.8      normal  145     high         0  (30, 45]  \n",
       "99995  overweight    6.2      normal   90   normal         0  (60, 80]  \n",
       "99997  overweight    5.7      normal  155     high         0  (60, 80]  \n",
       "99998       obese    4.0      normal  100   normal         0  (18, 30]  \n",
       "99999     healthy    6.6        high   90   normal         0  (45, 60]  \n",
       "\n",
       "[80321 rows x 13 columns]"
      ]
     },
     "execution_count": 15,
     "metadata": {},
     "output_type": "execute_result"
    }
   ],
   "source": [
    "# create age group bins to explore features by age group\n",
    "# justify and/or change ages chosen here\n",
    "bins = pd.cut(df['age'], [18, 30, 45, 60, 80]) \n",
    "df['age_group'] = bins\n",
    "\n",
    "df"
   ]
  },
  {
   "cell_type": "code",
   "execution_count": 16,
   "metadata": {},
   "outputs": [],
   "source": [
    "df['diabetes_label'] = df['diabetes'].replace({0: \"no diabetes\", 1: \"diabetes\"})"
   ]
  },
  {
   "cell_type": "markdown",
   "metadata": {},
   "source": [
    "# Data Analysis & Results (EDA)"
   ]
  },
  {
   "cell_type": "markdown",
   "metadata": {},
   "source": [
    "Carry out EDA on your dataset(s); Describe in this section"
   ]
  },
  {
   "cell_type": "code",
   "execution_count": 17,
   "metadata": {},
   "outputs": [
    {
     "data": {
      "text/html": [
       "<div>\n",
       "<style scoped>\n",
       "    .dataframe tbody tr th:only-of-type {\n",
       "        vertical-align: middle;\n",
       "    }\n",
       "\n",
       "    .dataframe tbody tr th {\n",
       "        vertical-align: top;\n",
       "    }\n",
       "\n",
       "    .dataframe thead th {\n",
       "        text-align: right;\n",
       "    }\n",
       "</style>\n",
       "<table border=\"1\" class=\"dataframe\">\n",
       "  <thead>\n",
       "    <tr style=\"text-align: right;\">\n",
       "      <th></th>\n",
       "      <th>age</th>\n",
       "      <th>hypertension</th>\n",
       "      <th>heart_disease</th>\n",
       "      <th>bmi</th>\n",
       "      <th>hba1c</th>\n",
       "      <th>bg</th>\n",
       "      <th>diabetes</th>\n",
       "    </tr>\n",
       "  </thead>\n",
       "  <tbody>\n",
       "    <tr>\n",
       "      <th>count</th>\n",
       "      <td>80321.000000</td>\n",
       "      <td>80321.000000</td>\n",
       "      <td>80321.000000</td>\n",
       "      <td>80321.000000</td>\n",
       "      <td>80321.000000</td>\n",
       "      <td>80321.000000</td>\n",
       "      <td>80321.000000</td>\n",
       "    </tr>\n",
       "    <tr>\n",
       "      <th>mean</th>\n",
       "      <td>49.782946</td>\n",
       "      <td>0.093064</td>\n",
       "      <td>0.049003</td>\n",
       "      <td>28.711241</td>\n",
       "      <td>5.555272</td>\n",
       "      <td>139.280101</td>\n",
       "      <td>0.104506</td>\n",
       "    </tr>\n",
       "    <tr>\n",
       "      <th>std</th>\n",
       "      <td>17.478788</td>\n",
       "      <td>0.290524</td>\n",
       "      <td>0.215876</td>\n",
       "      <td>6.057741</td>\n",
       "      <td>1.090123</td>\n",
       "      <td>41.974772</td>\n",
       "      <td>0.305917</td>\n",
       "    </tr>\n",
       "    <tr>\n",
       "      <th>min</th>\n",
       "      <td>20.000000</td>\n",
       "      <td>0.000000</td>\n",
       "      <td>0.000000</td>\n",
       "      <td>10.010000</td>\n",
       "      <td>3.500000</td>\n",
       "      <td>80.000000</td>\n",
       "      <td>0.000000</td>\n",
       "    </tr>\n",
       "    <tr>\n",
       "      <th>25%</th>\n",
       "      <td>35.000000</td>\n",
       "      <td>0.000000</td>\n",
       "      <td>0.000000</td>\n",
       "      <td>25.700000</td>\n",
       "      <td>4.800000</td>\n",
       "      <td>100.000000</td>\n",
       "      <td>0.000000</td>\n",
       "    </tr>\n",
       "    <tr>\n",
       "      <th>50%</th>\n",
       "      <td>49.000000</td>\n",
       "      <td>0.000000</td>\n",
       "      <td>0.000000</td>\n",
       "      <td>27.320000</td>\n",
       "      <td>5.800000</td>\n",
       "      <td>140.000000</td>\n",
       "      <td>0.000000</td>\n",
       "    </tr>\n",
       "    <tr>\n",
       "      <th>75%</th>\n",
       "      <td>63.000000</td>\n",
       "      <td>0.000000</td>\n",
       "      <td>0.000000</td>\n",
       "      <td>30.750000</td>\n",
       "      <td>6.200000</td>\n",
       "      <td>159.000000</td>\n",
       "      <td>0.000000</td>\n",
       "    </tr>\n",
       "    <tr>\n",
       "      <th>max</th>\n",
       "      <td>80.000000</td>\n",
       "      <td>1.000000</td>\n",
       "      <td>1.000000</td>\n",
       "      <td>91.820000</td>\n",
       "      <td>9.000000</td>\n",
       "      <td>300.000000</td>\n",
       "      <td>1.000000</td>\n",
       "    </tr>\n",
       "  </tbody>\n",
       "</table>\n",
       "</div>"
      ],
      "text/plain": [
       "                age  hypertension  heart_disease           bmi         hba1c  \\\n",
       "count  80321.000000  80321.000000   80321.000000  80321.000000  80321.000000   \n",
       "mean      49.782946      0.093064       0.049003     28.711241      5.555272   \n",
       "std       17.478788      0.290524       0.215876      6.057741      1.090123   \n",
       "min       20.000000      0.000000       0.000000     10.010000      3.500000   \n",
       "25%       35.000000      0.000000       0.000000     25.700000      4.800000   \n",
       "50%       49.000000      0.000000       0.000000     27.320000      5.800000   \n",
       "75%       63.000000      0.000000       0.000000     30.750000      6.200000   \n",
       "max       80.000000      1.000000       1.000000     91.820000      9.000000   \n",
       "\n",
       "                 bg      diabetes  \n",
       "count  80321.000000  80321.000000  \n",
       "mean     139.280101      0.104506  \n",
       "std       41.974772      0.305917  \n",
       "min       80.000000      0.000000  \n",
       "25%      100.000000      0.000000  \n",
       "50%      140.000000      0.000000  \n",
       "75%      159.000000      0.000000  \n",
       "max      300.000000      1.000000  "
      ]
     },
     "execution_count": 17,
     "metadata": {},
     "output_type": "execute_result"
    }
   ],
   "source": [
    "df.describe()"
   ]
  },
  {
   "cell_type": "code",
   "execution_count": 18,
   "metadata": {},
   "outputs": [
    {
     "data": {
      "text/plain": [
       "['gender',\n",
       " 'age',\n",
       " 'hypertension',\n",
       " 'heart_disease',\n",
       " 'smoking_history',\n",
       " 'bmi',\n",
       " 'bmi_label',\n",
       " 'hba1c',\n",
       " 'hba1c_label',\n",
       " 'bg',\n",
       " 'bg_label',\n",
       " 'diabetes',\n",
       " 'age_group',\n",
       " 'diabetes_label']"
      ]
     },
     "execution_count": 18,
     "metadata": {},
     "output_type": "execute_result"
    }
   ],
   "source": [
    "# proportion of 'hypertension', 'heart_disease', 'diabetes' by gender\n",
    "#df.groupby(['gender']).agg('mean')[['hypertension', 'heart_disease', 'diabetes']]\n",
    "list(df.columns)"
   ]
  },
  {
   "cell_type": "code",
   "execution_count": 19,
   "metadata": {},
   "outputs": [
    {
     "data": {
      "text/plain": [
       "gender               object\n",
       "age                 float64\n",
       "hypertension          int64\n",
       "heart_disease         int64\n",
       "smoking_history      object\n",
       "bmi                 float64\n",
       "bmi_label          category\n",
       "hba1c               float64\n",
       "hba1c_label          object\n",
       "bg                    int64\n",
       "bg_label           category\n",
       "diabetes              int64\n",
       "age_group          category\n",
       "diabetes_label       object\n",
       "dtype: object"
      ]
     },
     "execution_count": 19,
     "metadata": {},
     "output_type": "execute_result"
    }
   ],
   "source": [
    "df.dtypes"
   ]
  },
  {
   "cell_type": "markdown",
   "metadata": {},
   "source": [
    "## Bar Charts and Box Plots"
   ]
  },
  {
   "cell_type": "code",
   "execution_count": 20,
   "metadata": {},
   "outputs": [
    {
     "data": {
      "text/html": [
       "<div>\n",
       "<style scoped>\n",
       "    .dataframe tbody tr th:only-of-type {\n",
       "        vertical-align: middle;\n",
       "    }\n",
       "\n",
       "    .dataframe tbody tr th {\n",
       "        vertical-align: top;\n",
       "    }\n",
       "\n",
       "    .dataframe thead th {\n",
       "        text-align: right;\n",
       "    }\n",
       "</style>\n",
       "<table border=\"1\" class=\"dataframe\">\n",
       "  <thead>\n",
       "    <tr style=\"text-align: right;\">\n",
       "      <th></th>\n",
       "      <th>hypertension</th>\n",
       "      <th>diabetes</th>\n",
       "    </tr>\n",
       "    <tr>\n",
       "      <th>heart_disease</th>\n",
       "      <th></th>\n",
       "      <th></th>\n",
       "    </tr>\n",
       "  </thead>\n",
       "  <tbody>\n",
       "    <tr>\n",
       "      <th>0</th>\n",
       "      <td>0.085868</td>\n",
       "      <td>0.093317</td>\n",
       "    </tr>\n",
       "    <tr>\n",
       "      <th>1</th>\n",
       "      <td>0.232724</td>\n",
       "      <td>0.321646</td>\n",
       "    </tr>\n",
       "  </tbody>\n",
       "</table>\n",
       "</div>"
      ],
      "text/plain": [
       "               hypertension  diabetes\n",
       "heart_disease                        \n",
       "0                  0.085868  0.093317\n",
       "1                  0.232724  0.321646"
      ]
     },
     "execution_count": 20,
     "metadata": {},
     "output_type": "execute_result"
    }
   ],
   "source": [
    "tmp = df.groupby('heart_disease')[['hypertension', 'diabetes']].mean()\n",
    "# tmp.reset_index(inplace=True)\n",
    "tmp"
   ]
  },
  {
   "cell_type": "code",
   "execution_count": 21,
   "metadata": {},
   "outputs": [
    {
     "data": {
      "text/html": [
       "<div>\n",
       "<style scoped>\n",
       "    .dataframe tbody tr th:only-of-type {\n",
       "        vertical-align: middle;\n",
       "    }\n",
       "\n",
       "    .dataframe tbody tr th {\n",
       "        vertical-align: top;\n",
       "    }\n",
       "\n",
       "    .dataframe thead th {\n",
       "        text-align: right;\n",
       "    }\n",
       "</style>\n",
       "<table border=\"1\" class=\"dataframe\">\n",
       "  <thead>\n",
       "    <tr style=\"text-align: right;\">\n",
       "      <th></th>\n",
       "      <th>heart_disease</th>\n",
       "      <th>diabetes</th>\n",
       "    </tr>\n",
       "    <tr>\n",
       "      <th>hypertension</th>\n",
       "      <th></th>\n",
       "      <th></th>\n",
       "    </tr>\n",
       "  </thead>\n",
       "  <tbody>\n",
       "    <tr>\n",
       "      <th>0</th>\n",
       "      <td>0.041457</td>\n",
       "      <td>0.086566</td>\n",
       "    </tr>\n",
       "    <tr>\n",
       "      <th>1</th>\n",
       "      <td>0.122542</td>\n",
       "      <td>0.279331</td>\n",
       "    </tr>\n",
       "  </tbody>\n",
       "</table>\n",
       "</div>"
      ],
      "text/plain": [
       "              heart_disease  diabetes\n",
       "hypertension                         \n",
       "0                  0.041457  0.086566\n",
       "1                  0.122542  0.279331"
      ]
     },
     "execution_count": 21,
     "metadata": {},
     "output_type": "execute_result"
    }
   ],
   "source": [
    "# proportion of 'heart_disease', 'diabetes' by hypertension status\n",
    "tmp = df.groupby('hypertension')[['heart_disease', 'diabetes']].mean()\n",
    "# tmp.reset_index(inplace=True)\n",
    "tmp"
   ]
  },
  {
   "cell_type": "code",
   "execution_count": 22,
   "metadata": {},
   "outputs": [
    {
     "data": {
      "text/html": [
       "<div>\n",
       "<style scoped>\n",
       "    .dataframe tbody tr th:only-of-type {\n",
       "        vertical-align: middle;\n",
       "    }\n",
       "\n",
       "    .dataframe tbody tr th {\n",
       "        vertical-align: top;\n",
       "    }\n",
       "\n",
       "    .dataframe thead th {\n",
       "        text-align: right;\n",
       "    }\n",
       "</style>\n",
       "<table border=\"1\" class=\"dataframe\">\n",
       "  <thead>\n",
       "    <tr style=\"text-align: right;\">\n",
       "      <th></th>\n",
       "      <th>index</th>\n",
       "      <th>bmi_label</th>\n",
       "      <th>proportion</th>\n",
       "      <th>diabetes</th>\n",
       "    </tr>\n",
       "  </thead>\n",
       "  <tbody>\n",
       "    <tr>\n",
       "      <th>0</th>\n",
       "      <td>0</td>\n",
       "      <td>underweight</td>\n",
       "      <td>0.012360</td>\n",
       "      <td>0</td>\n",
       "    </tr>\n",
       "    <tr>\n",
       "      <th>1</th>\n",
       "      <td>1</td>\n",
       "      <td>healthy</td>\n",
       "      <td>0.215941</td>\n",
       "      <td>0</td>\n",
       "    </tr>\n",
       "    <tr>\n",
       "      <th>2</th>\n",
       "      <td>2</td>\n",
       "      <td>overweight</td>\n",
       "      <td>0.517469</td>\n",
       "      <td>0</td>\n",
       "    </tr>\n",
       "    <tr>\n",
       "      <th>3</th>\n",
       "      <td>3</td>\n",
       "      <td>obese</td>\n",
       "      <td>0.254230</td>\n",
       "      <td>0</td>\n",
       "    </tr>\n",
       "    <tr>\n",
       "      <th>4</th>\n",
       "      <td>0</td>\n",
       "      <td>underweight</td>\n",
       "      <td>0.005004</td>\n",
       "      <td>1</td>\n",
       "    </tr>\n",
       "    <tr>\n",
       "      <th>5</th>\n",
       "      <td>1</td>\n",
       "      <td>healthy</td>\n",
       "      <td>0.097331</td>\n",
       "      <td>1</td>\n",
       "    </tr>\n",
       "    <tr>\n",
       "      <th>6</th>\n",
       "      <td>2</td>\n",
       "      <td>overweight</td>\n",
       "      <td>0.394568</td>\n",
       "      <td>1</td>\n",
       "    </tr>\n",
       "    <tr>\n",
       "      <th>7</th>\n",
       "      <td>3</td>\n",
       "      <td>obese</td>\n",
       "      <td>0.503097</td>\n",
       "      <td>1</td>\n",
       "    </tr>\n",
       "  </tbody>\n",
       "</table>\n",
       "</div>"
      ],
      "text/plain": [
       "   index    bmi_label  proportion  diabetes\n",
       "0      0  underweight    0.012360         0\n",
       "1      1      healthy    0.215941         0\n",
       "2      2   overweight    0.517469         0\n",
       "3      3        obese    0.254230         0\n",
       "4      0  underweight    0.005004         1\n",
       "5      1      healthy    0.097331         1\n",
       "6      2   overweight    0.394568         1\n",
       "7      3        obese    0.503097         1"
      ]
     },
     "execution_count": 22,
     "metadata": {},
     "output_type": "execute_result"
    }
   ],
   "source": [
    "tmp0 = df0.groupby('bmi_label')['diabetes'].count()\n",
    "tmp0 = {'bmi_label': list(tmp0.index), 'count': tmp0.values}\n",
    "tmp0 = pd.DataFrame(tmp0)\n",
    "tmp0['diabetes'] = 0 \n",
    "\n",
    "tmp1 = df1.groupby('bmi_label')['diabetes'].count()\n",
    "tmp1 = {'bmi_label': list(tmp1.index), 'count': tmp1.values}\n",
    "tmp1 = pd.DataFrame(tmp1)\n",
    "tmp1['diabetes'] = 1 \n",
    "\n",
    "tmp = pd.concat([tmp0, tmp1]).reset_index()\n",
    "\n",
    "for diabetes in [0, 1]:\n",
    "    tmp.loc[tmp['diabetes']==diabetes, 'count'] /= tmp.loc[tmp['diabetes']==diabetes, 'count'].sum()\n",
    "\n",
    "tmp = tmp.rename({'count':'proportion'}, axis='columns')\n",
    "tmp"
   ]
  },
  {
   "cell_type": "code",
   "execution_count": 23,
   "metadata": {
    "scrolled": false
   },
   "outputs": [
    {
     "name": "stderr",
     "output_type": "stream",
     "text": [
      "/Users/sidharthsrinath/.pyenv/versions/3.9.9/lib/python3.9/site-packages/seaborn/axisgrid.py:118: UserWarning: The figure layout has changed to tight\n",
      "  self._figure.tight_layout(*args, **kwargs)\n"
     ]
    },
    {
     "data": {
      "text/plain": [
       "Text(0.5, 1.0, 'BMI label distribution')"
      ]
     },
     "execution_count": 23,
     "metadata": {},
     "output_type": "execute_result"
    },
    {
     "data": {
      "image/png": "[encoded data removed]",
      "text/plain": [
       "<Figure size 411x360 with 1 Axes>"
      ]
     },
     "metadata": {
      "needs_background": "light"
     },
     "output_type": "display_data"
    }
   ],
   "source": [
    "ax = sns.catplot(data=tmp, kind='bar', x=\"bmi_label\", y=\"proportion\", hue=\"diabetes\")\n",
    "plt.title('BMI label distribution')"
   ]
  },
  {
   "cell_type": "code",
   "execution_count": 24,
   "metadata": {},
   "outputs": [
    {
     "data": {
      "text/html": [
       "<div>\n",
       "<style scoped>\n",
       "    .dataframe tbody tr th:only-of-type {\n",
       "        vertical-align: middle;\n",
       "    }\n",
       "\n",
       "    .dataframe tbody tr th {\n",
       "        vertical-align: top;\n",
       "    }\n",
       "\n",
       "    .dataframe thead th {\n",
       "        text-align: right;\n",
       "    }\n",
       "</style>\n",
       "<table border=\"1\" class=\"dataframe\">\n",
       "  <thead>\n",
       "    <tr style=\"text-align: right;\">\n",
       "      <th></th>\n",
       "      <th>index</th>\n",
       "      <th>bg_label</th>\n",
       "      <th>proportion</th>\n",
       "      <th>diabetes</th>\n",
       "    </tr>\n",
       "  </thead>\n",
       "  <tbody>\n",
       "    <tr>\n",
       "      <th>0</th>\n",
       "      <td>0</td>\n",
       "      <td>low</td>\n",
       "      <td>0.152669</td>\n",
       "      <td>0</td>\n",
       "    </tr>\n",
       "    <tr>\n",
       "      <th>1</th>\n",
       "      <td>1</td>\n",
       "      <td>normal</td>\n",
       "      <td>0.232124</td>\n",
       "      <td>0</td>\n",
       "    </tr>\n",
       "    <tr>\n",
       "      <th>2</th>\n",
       "      <td>2</td>\n",
       "      <td>high</td>\n",
       "      <td>0.615207</td>\n",
       "      <td>0</td>\n",
       "    </tr>\n",
       "    <tr>\n",
       "      <th>3</th>\n",
       "      <td>0</td>\n",
       "      <td>low</td>\n",
       "      <td>0.000000</td>\n",
       "      <td>1</td>\n",
       "    </tr>\n",
       "    <tr>\n",
       "      <th>4</th>\n",
       "      <td>1</td>\n",
       "      <td>normal</td>\n",
       "      <td>0.080875</td>\n",
       "      <td>1</td>\n",
       "    </tr>\n",
       "    <tr>\n",
       "      <th>5</th>\n",
       "      <td>2</td>\n",
       "      <td>high</td>\n",
       "      <td>0.919125</td>\n",
       "      <td>1</td>\n",
       "    </tr>\n",
       "  </tbody>\n",
       "</table>\n",
       "</div>"
      ],
      "text/plain": [
       "   index bg_label  proportion  diabetes\n",
       "0      0      low    0.152669         0\n",
       "1      1   normal    0.232124         0\n",
       "2      2     high    0.615207         0\n",
       "3      0      low    0.000000         1\n",
       "4      1   normal    0.080875         1\n",
       "5      2     high    0.919125         1"
      ]
     },
     "execution_count": 24,
     "metadata": {},
     "output_type": "execute_result"
    }
   ],
   "source": [
    "tmp0 = df0.groupby('bg_label')['diabetes'].count()\n",
    "tmp0 = {'bg_label': list(tmp0.index), 'count': tmp0.values}\n",
    "tmp0 = pd.DataFrame(tmp0)\n",
    "tmp0['diabetes'] = 0 \n",
    "\n",
    "tmp1 = df1.groupby('bg_label')['diabetes'].count()\n",
    "tmp1 = {'bg_label': list(tmp1.index), 'count': tmp1.values}\n",
    "tmp1 = pd.DataFrame(tmp1)\n",
    "tmp1['diabetes'] = 1 \n",
    "\n",
    "tmp = pd.concat([tmp0, tmp1]).reset_index()\n",
    "\n",
    "for diabetes in [0, 1]:\n",
    "    tmp.loc[tmp['diabetes']==diabetes, 'count'] /= tmp.loc[tmp['diabetes']==diabetes, 'count'].sum()\n",
    "\n",
    "tmp = tmp.rename({'count':'proportion'}, axis='columns')\n",
    "tmp"
   ]
  },
  {
   "cell_type": "code",
   "execution_count": 25,
   "metadata": {
    "scrolled": false
   },
   "outputs": [
    {
     "name": "stderr",
     "output_type": "stream",
     "text": [
      "/Users/sidharthsrinath/.pyenv/versions/3.9.9/lib/python3.9/site-packages/seaborn/axisgrid.py:118: UserWarning: The figure layout has changed to tight\n",
      "  self._figure.tight_layout(*args, **kwargs)\n"
     ]
    },
    {
     "data": {
      "text/plain": [
       "Text(0.5, 1.0, 'Blood glucose label distribution')"
      ]
     },
     "execution_count": 25,
     "metadata": {},
     "output_type": "execute_result"
    },
    {
     "data": {
      "image/png": "[encoded data removed]",
      "text/plain": [
       "<Figure size 411x360 with 1 Axes>"
      ]
     },
     "metadata": {
      "needs_background": "light"
     },
     "output_type": "display_data"
    }
   ],
   "source": [
    "ax = sns.catplot(data=tmp, kind='bar', x=\"bg_label\", y=\"proportion\", hue=\"diabetes\")\n",
    "plt.title('Blood glucose label distribution')"
   ]
  },
  {
   "cell_type": "code",
   "execution_count": 26,
   "metadata": {},
   "outputs": [
    {
     "data": {
      "text/html": [
       "<div>\n",
       "<style scoped>\n",
       "    .dataframe tbody tr th:only-of-type {\n",
       "        vertical-align: middle;\n",
       "    }\n",
       "\n",
       "    .dataframe tbody tr th {\n",
       "        vertical-align: top;\n",
       "    }\n",
       "\n",
       "    .dataframe thead th {\n",
       "        text-align: right;\n",
       "    }\n",
       "</style>\n",
       "<table border=\"1\" class=\"dataframe\">\n",
       "  <thead>\n",
       "    <tr style=\"text-align: right;\">\n",
       "      <th></th>\n",
       "      <th>hba1c_label</th>\n",
       "      <th>nondiabetic</th>\n",
       "      <th>diabetic</th>\n",
       "    </tr>\n",
       "  </thead>\n",
       "  <tbody>\n",
       "    <tr>\n",
       "      <th>0</th>\n",
       "      <td>high</td>\n",
       "      <td>0.233515</td>\n",
       "      <td>0.605552</td>\n",
       "    </tr>\n",
       "    <tr>\n",
       "      <th>1</th>\n",
       "      <td>normal</td>\n",
       "      <td>0.766485</td>\n",
       "      <td>0.394448</td>\n",
       "    </tr>\n",
       "  </tbody>\n",
       "</table>\n",
       "</div>"
      ],
      "text/plain": [
       "  hba1c_label  nondiabetic  diabetic\n",
       "0        high     0.233515  0.605552\n",
       "1      normal     0.766485  0.394448"
      ]
     },
     "execution_count": 26,
     "metadata": {},
     "output_type": "execute_result"
    }
   ],
   "source": [
    "tmp = df0.groupby('hba1c_label')['diabetes'].count()\n",
    "tmp2 = df1.groupby('hba1c_label')['diabetes'].count()\n",
    "tmp = pd.concat([tmp, tmp2], axis=1)\n",
    "tmp.reset_index(inplace=True)\n",
    "tmp.columns = ['hba1c_label', 'nondiabetic','diabetic']\n",
    "tmp['nondiabetic'] = tmp['nondiabetic']/tmp['nondiabetic'].sum()\n",
    "tmp['diabetic'] = tmp['diabetic']/tmp['diabetic'].sum()\n",
    "tmp"
   ]
  },
  {
   "cell_type": "code",
   "execution_count": 27,
   "metadata": {},
   "outputs": [
    {
     "data": {
      "text/plain": [
       "<Figure size 432x288 with 0 Axes>"
      ]
     },
     "execution_count": 27,
     "metadata": {},
     "output_type": "execute_result"
    },
    {
     "data": {
      "image/png": "[encoded data removed]",
      "text/plain": [
       "<Figure size 432x288 with 1 Axes>"
      ]
     },
     "metadata": {
      "needs_background": "light"
     },
     "output_type": "display_data"
    },
    {
     "data": {
      "image/png": "[encoded data removed]",
      "text/plain": [
       "<Figure size 432x288 with 1 Axes>"
      ]
     },
     "metadata": {
      "needs_background": "light"
     },
     "output_type": "display_data"
    },
    {
     "data": {
      "image/png": "[encoded data removed]",
      "text/plain": [
       "<Figure size 432x288 with 1 Axes>"
      ]
     },
     "metadata": {
      "needs_background": "light"
     },
     "output_type": "display_data"
    },
    {
     "data": {
      "text/plain": [
       "<Figure size 432x288 with 0 Axes>"
      ]
     },
     "metadata": {},
     "output_type": "display_data"
    }
   ],
   "source": [
    "sns.boxplot(x='hba1c_label', y='bmi', hue='diabetes', data=df); plt.figure()\n",
    "sns.boxplot(x='hba1c_label', y='hba1c', hue='diabetes', data=df); plt.figure()\n",
    "sns.boxplot(x='hba1c_label', y='bg', hue='diabetes', data=df); plt.figure()"
   ]
  },
  {
   "cell_type": "code",
   "execution_count": 28,
   "metadata": {
    "scrolled": false
   },
   "outputs": [
    {
     "data": {
      "text/plain": [
       "<Figure size 432x288 with 0 Axes>"
      ]
     },
     "execution_count": 28,
     "metadata": {},
     "output_type": "execute_result"
    },
    {
     "data": {
      "image/png": "[encoded data removed]",
      "text/plain": [
       "<Figure size 432x288 with 1 Axes>"
      ]
     },
     "metadata": {
      "needs_background": "light"
     },
     "output_type": "display_data"
    },
    {
     "data": {
      "image/png": "[encoded data removed]",
      "text/plain": [
       "<Figure size 432x288 with 1 Axes>"
      ]
     },
     "metadata": {
      "needs_background": "light"
     },
     "output_type": "display_data"
    },
    {
     "data": {
      "image/png": "[encoded data removed]",
      "text/plain": [
       "<Figure size 432x288 with 1 Axes>"
      ]
     },
     "metadata": {
      "needs_background": "light"
     },
     "output_type": "display_data"
    },
    {
     "data": {
      "image/png": "[encoded data removed]",
      "text/plain": [
       "<Figure size 432x288 with 1 Axes>"
      ]
     },
     "metadata": {
      "needs_background": "light"
     },
     "output_type": "display_data"
    },
    {
     "data": {
      "text/plain": [
       "<Figure size 432x288 with 0 Axes>"
      ]
     },
     "metadata": {},
     "output_type": "display_data"
    }
   ],
   "source": [
    "sns.boxplot(x='age_group', y='bmi', hue='diabetes', data=df); plt.figure()\n",
    "sns.boxplot(x='age_group', y='hba1c', hue='diabetes', data=df); plt.figure()\n",
    "sns.boxplot(x='age_group', y='bg', hue='diabetes', data=df); plt.figure()\n",
    "sns.lineplot(x='age', y='bg', hue='bmi_label', data=df); plt.figure()"
   ]
  },
  {
   "cell_type": "code",
   "execution_count": 29,
   "metadata": {},
   "outputs": [
    {
     "data": {
      "text/plain": [
       "<Axes: xlabel='diabetes', ylabel='proportion'>"
      ]
     },
     "execution_count": 29,
     "metadata": {},
     "output_type": "execute_result"
    },
    {
     "data": {
      "image/png": "[encoded data removed]",
      "text/plain": [
       "<Figure size 576x576 with 3 Axes>"
      ]
     },
     "metadata": {
      "needs_background": "light"
     },
     "output_type": "display_data"
    }
   ],
   "source": [
    "gen_hyp = (df.groupby(['gender'])['hypertension']\n",
    "                        .value_counts(normalize=True)\n",
    "                        .rename('proportion')\n",
    "                        .rename({0:'No',1:\"Yes\"})\n",
    "                        .reset_index()\n",
    ")\n",
    "gen_hd = (df.groupby(['gender'])['heart_disease']\n",
    "                        .value_counts(normalize=True)\n",
    "                        .rename('proportion')\n",
    "                        .rename({0:'No',1:\"Yes\"})\n",
    "                        .reset_index()\n",
    ")\n",
    "gen_d = (df.groupby(['gender'])['diabetes']\n",
    "                        .value_counts(normalize=True)\n",
    "                        .rename('proportion')\n",
    "                        .rename({0:'No',1:\"Yes\"})\n",
    "                        .reset_index()\n",
    ")\n",
    "fig, axs = plt.subplots(ncols=3,figsize=(8,8))\n",
    "fig.tight_layout()\n",
    "sns.barplot(x='hypertension',y='proportion',hue='gender',data=gen_hyp,ax=axs[0])\n",
    "sns.barplot(x='heart_disease',y='proportion',hue='gender',data=gen_hd,ax=axs[1])\n",
    "sns.barplot(x='diabetes',y='proportion',hue='gender',data=gen_d,ax=axs[2])"
   ]
  },
  {
   "cell_type": "markdown",
   "metadata": {},
   "source": [
    "Here we can see that females are represented more than males in incidences of hypertension, heart disease, and diabetes"
   ]
  },
  {
   "cell_type": "code",
   "execution_count": 30,
   "metadata": {},
   "outputs": [
    {
     "data": {
      "text/plain": [
       "<Axes: xlabel='labels', ylabel='heart_disease'>"
      ]
     },
     "execution_count": 30,
     "metadata": {},
     "output_type": "execute_result"
    },
    {
     "data": {
      "image/png": "[encoded data removed]",
      "text/plain": [
       "<Figure size 576x576 with 2 Axes>"
      ]
     },
     "metadata": {
      "needs_background": "light"
     },
     "output_type": "display_data"
    }
   ],
   "source": [
    "# proportion of 'hypertension', 'heart_disease' by diabetes status and gender\n",
    "dg_hthd = df.groupby(['diabetes', 'gender'])[['hypertension', 'heart_disease']].mean().rename({'Female':1,'Male':0}).reset_index()\n",
    "labels = ['Females w/o diabetes','Males w/o diabetes','Females w/ diabetes', 'Males w/ diabetes']\n",
    "dg_hthd['labels'] = labels\n",
    "fig, axs = plt.subplots(nrows=2,figsize=(8,8))\n",
    "fig.tight_layout()\n",
    "sns.barplot(x='labels',y='hypertension',data=dg_hthd, ax=axs[0])\n",
    "sns.barplot(x='labels',y='heart_disease',data=dg_hthd, ax=axs[1])"
   ]
  },
  {
   "cell_type": "markdown",
   "metadata": {},
   "source": [
    "Here we can see that females w/ diabetes are represented more than males w/ diabetes in incidences of hypertension males w/diabetes are represnted more than females w/ diabetes in incidences of heart disease."
   ]
  },
  {
   "cell_type": "code",
   "execution_count": 31,
   "metadata": {},
   "outputs": [
    {
     "data": {
      "image/png": "[encoded data removed]",
      "text/plain": [
       "<Figure size 576x576 with 4 Axes>"
      ]
     },
     "metadata": {
      "needs_background": "light"
     },
     "output_type": "display_data"
    }
   ],
   "source": [
    "data2 = df[['diabetes','gender','age', 'bmi', 'hba1c', 'bg']]\n",
    "\n",
    "fig, axs = plt.subplots(nrows=4,figsize=(8,8))\n",
    "fig.tight_layout()\n",
    "#fix legend\n",
    "\n",
    "sns.boxplot(x='gender',y='age', hue='diabetes', data=data2, ax=axs[0])\n",
    "sns.boxplot(x='gender',y='bmi',  hue='diabetes', data=data2, ax=axs[1])\n",
    "sns.boxplot(x='gender',y='hba1c', hue='diabetes', data=data2, ax=axs[2])\n",
    "sns.boxplot(x='gender',y='bg', hue='diabetes', data=data2, ax=axs[3])\n",
    "\n",
    "sns.move_legend(axs[0], \"upper left\", bbox_to_anchor=(1, 1))\n",
    "sns.move_legend(axs[1], \"upper left\", bbox_to_anchor=(1, 1))\n",
    "sns.move_legend(axs[2], \"upper left\", bbox_to_anchor=(1, 1))\n",
    "sns.move_legend(axs[3], \"upper left\", bbox_to_anchor=(1, 1))"
   ]
  },
  {
   "cell_type": "markdown",
   "metadata": {},
   "source": [
    "Here we can see that across females and males w/ and w/o diabetes, those in either sex with diabetes are represented more than those without for features, age, bmi, hba1c level, and blood glucose level. Additionally, we can see that there is not much of a difference in representation across these features between sexes."
   ]
  },
  {
   "cell_type": "code",
   "execution_count": 32,
   "metadata": {},
   "outputs": [
    {
     "data": {
      "text/plain": [
       "<Axes: xlabel='age_group', ylabel='heart_disease'>"
      ]
     },
     "execution_count": 32,
     "metadata": {},
     "output_type": "execute_result"
    },
    {
     "data": {
      "image/png": "[encoded data removed]",
      "text/plain": [
       "<Figure size 576x576 with 2 Axes>"
      ]
     },
     "metadata": {
      "needs_background": "light"
     },
     "output_type": "display_data"
    }
   ],
   "source": [
    "# proportion of 'hypertension', 'heart_disease', 'diabetes' by age group\n",
    "data3 = df.groupby(['age_group'])[['hypertension', 'heart_disease']].mean().reset_index()\n",
    "\n",
    "fig, axs = plt.subplots(nrows=2,figsize=(8,8))\n",
    "fig.tight_layout()\n",
    "sns.barplot(x='age_group',y='hypertension',data=data3,ax=axs[0])\n",
    "sns.barplot(x='age_group',y='heart_disease',data=data3,ax=axs[1])"
   ]
  },
  {
   "cell_type": "markdown",
   "metadata": {},
   "source": [
    "Here we can see that inidividuals under 18 have been dropped from the dataset, and as age rises, incidences of heart disease and hypertension rise as well."
   ]
  },
  {
   "cell_type": "code",
   "execution_count": 33,
   "metadata": {},
   "outputs": [
    {
     "data": {
      "text/plain": [
       "<Axes: xlabel='age_group', ylabel='bg'>"
      ]
     },
     "execution_count": 33,
     "metadata": {},
     "output_type": "execute_result"
    },
    {
     "data": {
      "image/png": "[encoded data removed]",
      "text/plain": [
       "<Figure size 576x576 with 3 Axes>"
      ]
     },
     "metadata": {
      "needs_background": "light"
     },
     "output_type": "display_data"
    }
   ],
   "source": [
    "# average 'bmi', 'HbA1c_level', 'blood_glucose_level' by age group\n",
    "data4 = df[['age_group','bmi', 'hba1c', 'bg']] # or median\n",
    "\n",
    "fig, axs = plt.subplots(nrows=3,figsize=(8,8))\n",
    "fig.tight_layout()\n",
    "sns.boxplot(x='age_group',y='bmi',data=data4, ax=axs[0])\n",
    "sns.boxplot(x='age_group',y='hba1c',data=data4, ax=axs[1])\n",
    "sns.boxplot(x='age_group',y='bg',data=data4, ax=axs[2])"
   ]
  },
  {
   "cell_type": "markdown",
   "metadata": {},
   "source": [
    "Here we can see that values of bmi, hba1c level, and blood glucose level remain consistent across adult age groups."
   ]
  },
  {
   "cell_type": "markdown",
   "metadata": {},
   "source": [
    "## Boxplots, Correlations, and Clusters"
   ]
  },
  {
   "cell_type": "code",
   "execution_count": 34,
   "metadata": {},
   "outputs": [],
   "source": [
    "df_sub = df[['diabetes', 'bmi', 'hba1c', 'bg']]\n",
    "df0 = df_sub[df_sub['diabetes']==0]\n",
    "df1 = df_sub[df_sub['diabetes']==1]"
   ]
  },
  {
   "cell_type": "code",
   "execution_count": 35,
   "metadata": {},
   "outputs": [
    {
     "data": {
      "text/plain": [
       "<Axes: xlabel='diabetes', ylabel='hba1c'>"
      ]
     },
     "execution_count": 35,
     "metadata": {},
     "output_type": "execute_result"
    },
    {
     "data": {
      "image/png": "[encoded data removed]",
      "text/plain": [
       "<Figure size 432x288 with 1 Axes>"
      ]
     },
     "metadata": {
      "needs_background": "light"
     },
     "output_type": "display_data"
    }
   ],
   "source": [
    "sns.boxplot(x='diabetes', y='hba1c', data=df_sub)"
   ]
  },
  {
   "cell_type": "markdown",
   "metadata": {},
   "source": [
    "Above we can see that HbA1c levels are higher for those with diabetes than those without."
   ]
  },
  {
   "cell_type": "code",
   "execution_count": 36,
   "metadata": {
    "scrolled": false
   },
   "outputs": [
    {
     "data": {
      "text/plain": [
       "<Axes: xlabel='diabetes', ylabel='bmi'>"
      ]
     },
     "execution_count": 36,
     "metadata": {},
     "output_type": "execute_result"
    },
    {
     "data": {
      "image/png": "[encoded data removed]",
      "text/plain": [
       "<Figure size 432x288 with 1 Axes>"
      ]
     },
     "metadata": {
      "needs_background": "light"
     },
     "output_type": "display_data"
    }
   ],
   "source": [
    "sns.boxplot(x='diabetes', y='bmi', data=df_sub)"
   ]
  },
  {
   "cell_type": "markdown",
   "metadata": {},
   "source": [
    "Here we can see that the bmi of those with diabetes is slightly higher than those without."
   ]
  },
  {
   "cell_type": "code",
   "execution_count": 37,
   "metadata": {},
   "outputs": [
    {
     "data": {
      "text/plain": [
       "<Axes: xlabel='diabetes', ylabel='bg'>"
      ]
     },
     "execution_count": 37,
     "metadata": {},
     "output_type": "execute_result"
    },
    {
     "data": {
      "image/png": "[encoded data removed]",
      "text/plain": [
       "<Figure size 432x288 with 1 Axes>"
      ]
     },
     "metadata": {
      "needs_background": "light"
     },
     "output_type": "display_data"
    }
   ],
   "source": [
    "sns.boxplot(x='diabetes', y='bg', data=df_sub)"
   ]
  },
  {
   "cell_type": "markdown",
   "metadata": {},
   "source": [
    "Similar to the patterns observed in HbA1c levels separated by diabetes status, blood glucose levels are higehr in those with diabetes than in those without."
   ]
  },
  {
   "cell_type": "code",
   "execution_count": 38,
   "metadata": {},
   "outputs": [
    {
     "data": {
      "image/png": "[encoded data removed]",
      "text/plain": [
       "<Figure size 360x360 with 2 Axes>"
      ]
     },
     "metadata": {
      "needs_background": "light"
     },
     "output_type": "display_data"
    }
   ],
   "source": [
    "# creating correlation plot for entire dataset\n",
    "corr = df_sub[['bmi', 'hba1c', 'bg']].corr()\n",
    "plt.figure(figsize=(5,5))\n",
    "sns.heatmap(corr, annot=True, vmin=-1)\n",
    "plt.show()"
   ]
  },
  {
   "cell_type": "code",
   "execution_count": 39,
   "metadata": {},
   "outputs": [
    {
     "data": {
      "image/png": "[encoded data removed]",
      "text/plain": [
       "<Figure size 360x360 with 2 Axes>"
      ]
     },
     "metadata": {
      "needs_background": "light"
     },
     "output_type": "display_data"
    }
   ],
   "source": [
    "# creating correlation plot for those without diabetes\n",
    "corr = df0[['bmi', 'hba1c', 'bg']].corr()\n",
    "plt.figure(figsize=(5,5))\n",
    "sns.heatmap(corr, annot=True, vmin=-1)\n",
    "plt.show()"
   ]
  },
  {
   "cell_type": "code",
   "execution_count": 40,
   "metadata": {},
   "outputs": [
    {
     "data": {
      "image/png": "[encoded data removed]",
      "text/plain": [
       "<Figure size 360x360 with 2 Axes>"
      ]
     },
     "metadata": {
      "needs_background": "light"
     },
     "output_type": "display_data"
    }
   ],
   "source": [
    "# creating correlation plot for those with diabetes\n",
    "corr = df1[['bmi', 'hba1c', 'bg']].corr()\n",
    "plt.figure(figsize=(5,5))\n",
    "sns.heatmap(corr, annot=True, vmin=-1)\n",
    "plt.show()"
   ]
  },
  {
   "cell_type": "markdown",
   "metadata": {},
   "source": [
    "As seen in the plots above, focusing on the features of bmi, hba1c, and bg by diabetes status, when taking the entire dataset, bg is correlated more highly to hba1c than bmi (0.19 and 0.087 respectively). For the subset of patients without diabetes, bg was slightly more correlated to bmi than hba1c (0.0023 and -0.0021 respectively), while for those with diabetes bg was slightly more correlated to hba1c than bmi (-0.0083 and 0.0028 respectively). Interestingly, hba1c and bmi are both positively correlated to bg when taking the entire dataset, but when considering subsets by diabetes status, bmi is positively correlated while hba1c is negatively correlated. The correlations also indicate a much weaker relationship in the subsets than when analyzing entire dataset."
   ]
  },
  {
   "cell_type": "code",
   "execution_count": 41,
   "metadata": {},
   "outputs": [
    {
     "data": {
      "image/png": "[encoded data removed]",
      "text/plain": [
       "<Figure size 432x288 with 1 Axes>"
      ]
     },
     "metadata": {
      "needs_background": "light"
     },
     "output_type": "display_data"
    }
   ],
   "source": [
    "# seeing 2d clustering of datapoints, bg vs hba1c\n",
    "ax = plt.subplots()\n",
    "ax = sns.scatterplot(x='bg', y='hba1c', data=df0, label='0')\n",
    "ax = sns.scatterplot(x='bg', y='hba1c', data=df1, label='1')\n",
    "ax.set(xlabel='blood_glucose_level', ylabel='HbA1c_level')\n",
    "ax.legend()\n",
    "plt.show()"
   ]
  },
  {
   "cell_type": "markdown",
   "metadata": {},
   "source": [
    "Here we can see that patients with diabetes have higher hba1c levels at the same blood glucose levels as those without diabetes, and similarly patients with diabetes have higher blood glucose levels at the same hba1c levels as those without diabetes. The datapoints of those with diabetes have higher blood glucose levels and hba1c levels than those without diabetes. The values across which the groups appear to separate are hba1c$\\approx$5.6 to 6.6 and bg$\\approx$125 to 200. The diabetic patients cluster to the top right of this plot."
   ]
  },
  {
   "cell_type": "code",
   "execution_count": 42,
   "metadata": {},
   "outputs": [
    {
     "data": {
      "image/png": "[encoded data removed]",
      "text/plain": [
       "<Figure size 432x288 with 1 Axes>"
      ]
     },
     "metadata": {
      "needs_background": "light"
     },
     "output_type": "display_data"
    }
   ],
   "source": [
    "# seeing 2d clustering of datapoints, bg vs bmi\n",
    "ax = plt.subplots()\n",
    "ax = sns.scatterplot(x='bg', y='bmi', data=df0, label='0')\n",
    "ax = sns.scatterplot(x='bg', y='bmi', data=df1, label='1')\n",
    "ax.set(xlabel='blood_glucose_level', ylabel='bmi')\n",
    "ax.legend()\n",
    "plt.show()"
   ]
  },
  {
   "cell_type": "markdown",
   "metadata": {},
   "source": [
    "Here we can see that patients with diabetes have higher bg levels at the same bmi than those without diabetes, but at the same blood glucose level, those with diabetes do not necessarily have a higher bmi. The datapoints of those with diabetes have higher blood glucose levels than those without diabetes. The values across which the groups appear to separate are bg$\\approx$125 to 200. The diabetic patients cluster to the right of this plot."
   ]
  },
  {
   "cell_type": "code",
   "execution_count": 43,
   "metadata": {},
   "outputs": [
    {
     "data": {
      "image/png": "[encoded data removed]",
      "text/plain": [
       "<Figure size 432x288 with 1 Axes>"
      ]
     },
     "metadata": {
      "needs_background": "light"
     },
     "output_type": "display_data"
    }
   ],
   "source": [
    "# seeing 2d clustering of datapoints, hba1c vs bmi\n",
    "ax = plt.subplots()\n",
    "ax = sns.scatterplot(x='bmi', y='hba1c', data=df0, label='0')\n",
    "ax = sns.scatterplot(x='bmi', y='hba1c', data=df1, label='1')\n",
    "ax.set(xlabel='bmi', ylabel='HbA1c_level')\n",
    "ax.legend()\n",
    "plt.show()"
   ]
  },
  {
   "cell_type": "markdown",
   "metadata": {},
   "source": [
    "Here we can see that patients with diabetes have higher hba1c levels at the same bmi than those without diabetes, but at the same hba1c, those with diabetes do not necessarily have a higher bmi. The datapoints of those with diabetes have higher hba1c levels than those without diabetes. The values across which the groups appear to separate are hba1c$\\approx$5.6 to 6.6. The diabetic patients cluster to the top of this plot."
   ]
  },
  {
   "cell_type": "code",
   "execution_count": 44,
   "metadata": {
    "scrolled": true
   },
   "outputs": [
    {
     "data": {
      "image/png": "[encoded data removed]",
      "text/plain": [
       "<Figure size 432x288 with 1 Axes>"
      ]
     },
     "metadata": {
      "needs_background": "light"
     },
     "output_type": "display_data"
    }
   ],
   "source": [
    "# creating a 3d plot to see bmi vs bg vs hba1c\n",
    "# %matplotlib notebook\n",
    "fig = plt.figure()\n",
    "ax = fig.add_subplot(projection='3d')\n",
    "\n",
    "X1,Y1,Z1 = zip(*[(x,y,z) for x,y,z in zip(df0['bmi'], df0['bg'], df0['hba1c'])])\n",
    "X2,Y2,Z2 = zip(*[(x,y,z) for x,y,z in zip(df1['bmi'], df1['bg'], df1['hba1c'])])\n",
    "\n",
    "ax.scatter(X1, Y1, Z1, c='b', marker='x', label='0')   \n",
    "ax.scatter(X2, Y2, Z2, c='orange', marker='o', label='1')\n",
    "ax.set_xlabel('bmi')\n",
    "ax.set_ylabel('bg')\n",
    "ax.set_zlabel('hba1c')\n",
    "ax.legend()\n",
    "# uncomment the line below to turn on interactive plot mode\n",
    "# plt.ion\n",
    "# uncomment the line below to turn off interactive plot mode\n",
    "# plt.ioff\n",
    "plt.show()"
   ]
  },
  {
   "cell_type": "markdown",
   "metadata": {},
   "source": [
    "As seen in the plot above, datapoints for patients with and without diabetes appear to cluster most differently along the axes of bg and hba1c. This is corroborated by the conclusions drawn from the 2d scatterplots shown prior to this 3d visualization. This means that bg and hba1c are the features that most set the two groups apart are bg and hba1c levels, in comparison to bmi values. "
   ]
  },
  {
   "cell_type": "code",
   "execution_count": 45,
   "metadata": {},
   "outputs": [
    {
     "data": {
      "image/png": "[encoded data removed]",
      "text/plain": [
       "<Figure size 432x288 with 2 Axes>"
      ]
     },
     "metadata": {
      "needs_background": "light"
     },
     "output_type": "display_data"
    }
   ],
   "source": [
    "# creating a 4d plot to see bmi vs bg vs hba1c vs age\n",
    "df_sub = df[['diabetes', 'bmi', 'hba1c', 'bg', 'age']]\n",
    "df_0 = df_sub[df_sub['diabetes']==0]\n",
    "df_1 = df_sub[df_sub['diabetes']==1]\n",
    "\n",
    "fig_4d = plt.figure()\n",
    "ax = fig_4d.add_subplot(projection='3d')\n",
    "\n",
    "\n",
    "X1,Y1,Z1,C1 = zip(*[(x,y,z,c) for x,y,z,c in zip(df_0['bmi'], df_0['bg'], df_0['hba1c'], df_0['age'])])\n",
    "X2,Y2,Z2,C2 = zip(*[(x,y,z,c) for x,y,z,c in zip(df_1['bmi'], df_1['bg'], df_1['hba1c'], df_1['age'])])\n",
    "\n",
    "img = ax.scatter(X1, Y1, Z1, c=C1, marker='x', label='0') \n",
    "img = ax.scatter(X2, Y2, Z2, c=C2, marker='o', label='1')\n",
    "  \n",
    "ax.set_xlabel('bmi')\n",
    "ax.set_ylabel('bg')\n",
    "ax.set_zlabel('hba1c')\n",
    "fig_4d.colorbar(img)\n",
    "ax.legend()\n",
    "plt.show()"
   ]
  },
  {
   "cell_type": "markdown",
   "metadata": {},
   "source": [
    "In the plot above, in addition to the variables visualized in the previos 3d plot, the 4th feature of age is included using the color density. In addition to the conclusion drawn for the previous plot, which are still seen here, it appears that patients with diabetes are a lot older than those without diabetes. However, it is not immediately apparent from this plot as to whether or not there are specific clusters by age group within clusters of patients with and without diabetes when it comes to bmi, bg, and hba1c values."
   ]
  },
  {
   "cell_type": "markdown",
   "metadata": {},
   "source": [
    "## A/B Testing"
   ]
  },
  {
   "cell_type": "markdown",
   "metadata": {},
   "source": [
    "#### Preparing"
   ]
  },
  {
   "cell_type": "code",
   "execution_count": 46,
   "metadata": {},
   "outputs": [],
   "source": [
    "#resample the diabetes patients so that our data is less skewed\n",
    "n = df.shape[0] - (df['diabetes'] == 1).sum()\n",
    "#since the data has many more patients without diabetes than with diabetes this can skew our A/B, so we took a random\n",
    "#sample of the the people with diabetes to create an even split of those with and without diabetes.\n",
    "sapmle_df = df[df['diabetes'] == 1].sample(n=n, replace=True)\n",
    "sample_df = pd.concat([sapmle_df, df[df['diabetes'] == 0]], ignore_index=True)"
   ]
  },
  {
   "cell_type": "code",
   "execution_count": 47,
   "metadata": {},
   "outputs": [
    {
     "data": {
      "text/html": [
       "<div>\n",
       "<style scoped>\n",
       "    .dataframe tbody tr th:only-of-type {\n",
       "        vertical-align: middle;\n",
       "    }\n",
       "\n",
       "    .dataframe tbody tr th {\n",
       "        vertical-align: top;\n",
       "    }\n",
       "\n",
       "    .dataframe thead th {\n",
       "        text-align: right;\n",
       "    }\n",
       "</style>\n",
       "<table border=\"1\" class=\"dataframe\">\n",
       "  <thead>\n",
       "    <tr style=\"text-align: right;\">\n",
       "      <th></th>\n",
       "      <th>bg</th>\n",
       "      <th>hba1c</th>\n",
       "      <th>bmi</th>\n",
       "      <th>age</th>\n",
       "    </tr>\n",
       "    <tr>\n",
       "      <th>diabetes</th>\n",
       "      <th></th>\n",
       "      <th></th>\n",
       "      <th></th>\n",
       "      <th></th>\n",
       "    </tr>\n",
       "  </thead>\n",
       "  <tbody>\n",
       "    <tr>\n",
       "      <th>0</th>\n",
       "      <td>NaN</td>\n",
       "      <td>NaN</td>\n",
       "      <td>NaN</td>\n",
       "      <td>NaN</td>\n",
       "    </tr>\n",
       "    <tr>\n",
       "      <th>1</th>\n",
       "      <td>61.161289</td>\n",
       "      <td>1.543322</td>\n",
       "      <td>3.738694</td>\n",
       "      <td>13.156089</td>\n",
       "    </tr>\n",
       "  </tbody>\n",
       "</table>\n",
       "</div>"
      ],
      "text/plain": [
       "                 bg     hba1c       bmi        age\n",
       "diabetes                                          \n",
       "0               NaN       NaN       NaN        NaN\n",
       "1         61.161289  1.543322  3.738694  13.156089"
      ]
     },
     "execution_count": 47,
     "metadata": {},
     "output_type": "execute_result"
    }
   ],
   "source": [
    "#finding average values of all numeric columns for people with and without diabetes\n",
    "df_observed = sample_df.groupby('diabetes')[['bg', 'hba1c', 'bmi', 'age']].mean()\n",
    "\n",
    "#difference in means\n",
    "diffs = abs(df_observed.diff(axis=0))\n",
    "diffs"
   ]
  },
  {
   "cell_type": "code",
   "execution_count": 48,
   "metadata": {},
   "outputs": [],
   "source": [
    "#This is the function to find absolute difference in means\n",
    "def abs_diff_means(df, col):\n",
    "    means = df.groupby('diabetes')[col].mean()\n",
    "    diff = (abs(means.diff()))\n",
    "    return diff.loc[1]"
   ]
  },
  {
   "cell_type": "code",
   "execution_count": 49,
   "metadata": {},
   "outputs": [],
   "source": [
    "#This fucntion performs a permutation test\n",
    "def permutation(df, col):\n",
    "    copy = df[['diabetes', col]]\n",
    "    diffs = []\n",
    "    for i in range(100):\n",
    "        copy['diabetes'] = np.random.permutation(copy['diabetes'])\n",
    "        diffs.append(abs_diff_means(copy, col))\n",
    "\n",
    "    return diffs\n"
   ]
  },
  {
   "cell_type": "markdown",
   "metadata": {},
   "source": [
    "#### Blood Glucose Levels\n",
    "\n",
    "Null: The `blood glucose` levels of patients with and without diabetes have the same distribution\n",
    "\n",
    "Alternative: The `blood glucose` levels of the patients with and without diabetes come from different distributions"
   ]
  },
  {
   "cell_type": "code",
   "execution_count": 50,
   "metadata": {},
   "outputs": [],
   "source": [
    "bg_observed = diffs.iloc[1,0]"
   ]
  },
  {
   "cell_type": "code",
   "execution_count": 51,
   "metadata": {},
   "outputs": [
    {
     "data": {
      "text/plain": [
       "[Text(0.5, 1.0, 'Distribution of Blood Glucose Levels For Diabetes/Non-Diabetes Patients')]"
      ]
     },
     "execution_count": 51,
     "metadata": {},
     "output_type": "execute_result"
    },
    {
     "data": {
      "image/png": "[encoded data removed]",
      "text/plain": [
       "<Figure size 432x288 with 1 Axes>"
      ]
     },
     "metadata": {
      "needs_background": "light"
     },
     "output_type": "display_data"
    }
   ],
   "source": [
    "#Plot the Distributions of Blood Glucose Levels for Diabetes and Non-Diabetes Patients\n",
    "ax = plt.subplot()\n",
    "ax.set_xlabel('Blood Glucose Levels')\n",
    "sns.histplot(x='bg', hue = 'diabetes', data=sample_df, stat='density', kde=False, bins=15).set(title='Distribution of Blood Glucose Levels For Diabetes/Non-Diabetes Patients')"
   ]
  },
  {
   "cell_type": "code",
   "execution_count": 52,
   "metadata": {},
   "outputs": [
    {
     "data": {
      "image/png": "[encoded data removed]",
      "text/plain": [
       "<Figure size 1080x288 with 1 Axes>"
      ]
     },
     "metadata": {
      "needs_background": "light"
     },
     "output_type": "display_data"
    }
   ],
   "source": [
    "#we find the results of our permutation test and plot them\n",
    "fig1, ax1 = plt.subplots()\n",
    "perm_diffs_bg = permutation(sample_df, 'bg')\n",
    "sns.histplot(data = perm_diffs_bg, stat='density', bins=3).set(title='Distribution of Mean Absolute Differences')\n",
    "plt.axvline(bg_observed, color='red')\n",
    "ax.set_xlabel('Absolute Difference in Means')\n",
    "fig1.set_figwidth(15) \n"
   ]
  },
  {
   "cell_type": "code",
   "execution_count": 53,
   "metadata": {},
   "outputs": [
    {
     "data": {
      "text/plain": [
       "0"
      ]
     },
     "execution_count": 53,
     "metadata": {},
     "output_type": "execute_result"
    }
   ],
   "source": [
    "#this calculates the p-value for the permutation test on blood glucose level\n",
    "p_value_bg = (perm_diffs_bg >= bg_observed).sum()\n",
    "p_value_bg"
   ]
  },
  {
   "cell_type": "markdown",
   "metadata": {},
   "source": [
    "Conclustion: Based on our permutation test we conclude the blood_glucose levels of Diabetes and Non-diabetes patients seem to come from different distributions. We reject the null with 0.01 significance level since out p-value of 0.0 is less than 0.01"
   ]
  },
  {
   "cell_type": "markdown",
   "metadata": {},
   "source": [
    "#### HbA1c Levels\n",
    "\n",
    "Null: The `hba1c` levels of patients with and without diabetes have the same distribution\n",
    "\n",
    "Alternative: The `hba1c` levels of the patients with and without diabetes come from different distributions\n"
   ]
  },
  {
   "cell_type": "code",
   "execution_count": 54,
   "metadata": {},
   "outputs": [
    {
     "data": {
      "text/plain": [
       "[Text(0.5, 1.0, 'Distribution of HbA1c Levels For Diabetes/Non-Diabetes Patients')]"
      ]
     },
     "execution_count": 54,
     "metadata": {},
     "output_type": "execute_result"
    },
    {
     "data": {
      "image/png": "[encoded data removed]",
      "text/plain": [
       "<Figure size 432x288 with 1 Axes>"
      ]
     },
     "metadata": {
      "needs_background": "light"
     },
     "output_type": "display_data"
    }
   ],
   "source": [
    "#Distribution of the HbA1c Levels for people with and without Diabetes\n",
    "ax = plt.subplot()\n",
    "ax.set_xlabel('HbA1c Levels')\n",
    "sns.histplot(x='hba1c', hue = 'diabetes', data=sample_df, stat='density', kde=False, bins=15).set(title=\"Distribution of HbA1c Levels For Diabetes/Non-Diabetes Patients\")"
   ]
  },
  {
   "cell_type": "code",
   "execution_count": 55,
   "metadata": {},
   "outputs": [],
   "source": [
    "#Our observed test statistic for hba1c levels\n",
    "hba1c_observed = diffs.iloc[1,1]"
   ]
  },
  {
   "cell_type": "code",
   "execution_count": 56,
   "metadata": {},
   "outputs": [
    {
     "data": {
      "image/png": "[encoded data removed]",
      "text/plain": [
       "<Figure size 1080x288 with 1 Axes>"
      ]
     },
     "metadata": {
      "needs_background": "light"
     },
     "output_type": "display_data"
    }
   ],
   "source": [
    "#The result of our permutation tests\n",
    "perm_diffs = permutation(sample_df, 'hba1c')\n",
    "fig2, ax2 = plt.subplots()\n",
    "ax2.set_xlabel('Absolute Difference in Means')\n",
    "sns.histplot(data = perm_diffs, stat='density', bins=3).set(title='Distribution of HbA1c Levels For Diabetes/Non-Diabetes Patients')\n",
    "plt.axvline(hba1c_observed, color='red')\n",
    "fig2.set_figwidth(15) "
   ]
  },
  {
   "cell_type": "code",
   "execution_count": 57,
   "metadata": {},
   "outputs": [
    {
     "data": {
      "text/plain": [
       "0"
      ]
     },
     "execution_count": 57,
     "metadata": {},
     "output_type": "execute_result"
    }
   ],
   "source": [
    "#This is the p value for hba1c levels\n",
    "p_value_bg = (perm_diffs >= hba1c_observed).sum()\n",
    "p_value_bg"
   ]
  },
  {
   "cell_type": "markdown",
   "metadata": {},
   "source": [
    "Conclustion: Based on our permutation test we conclude the hba1c levels of Diabetes and Non-diabetes patients seem to come from different distributions. We reject the null with 0.01 significance level since out p-value of 0.0 is less than 0.01"
   ]
  },
  {
   "cell_type": "markdown",
   "metadata": {},
   "source": [
    "#### BMI Levels\n",
    "\n",
    "Null: The `bmi` levels of patients with and without diabetes have the same distribution\n",
    "\n",
    "Alternative: The `bmi` levels of the patients with and without diabetes come from different distributions"
   ]
  },
  {
   "cell_type": "code",
   "execution_count": 58,
   "metadata": {},
   "outputs": [
    {
     "data": {
      "text/plain": [
       "[Text(0.5, 1.0, 'Distribution of BMI Levels For Diabetes/Non-Diabetes Patients')]"
      ]
     },
     "execution_count": 58,
     "metadata": {},
     "output_type": "execute_result"
    },
    {
     "data": {
      "image/png": "[encoded data removed]",
      "text/plain": [
       "<Figure size 432x288 with 1 Axes>"
      ]
     },
     "metadata": {
      "needs_background": "light"
     },
     "output_type": "display_data"
    }
   ],
   "source": [
    "sns.histplot(x='bmi', hue = 'diabetes', data=sample_df, stat='density', kde=False, bins=15).set(title='Distribution of BMI Levels For Diabetes/Non-Diabetes Patients')"
   ]
  },
  {
   "cell_type": "code",
   "execution_count": 59,
   "metadata": {},
   "outputs": [],
   "source": [
    "bmi_observed = diffs.iloc[1,2]"
   ]
  },
  {
   "cell_type": "code",
   "execution_count": 60,
   "metadata": {},
   "outputs": [
    {
     "data": {
      "image/png": "[encoded data removed]",
      "text/plain": [
       "<Figure size 1080x288 with 1 Axes>"
      ]
     },
     "metadata": {
      "needs_background": "light"
     },
     "output_type": "display_data"
    }
   ],
   "source": [
    "perm_diffs = permutation(sample_df, 'bmi')\n",
    "fig3, ax3 = plt.subplots()\n",
    "ax3.set_xlabel('Absolute Difference in Means')\n",
    "sns.histplot(data = perm_diffs, stat='density', bins=5).set(title='Distribution of BMI Levels For Diabetes/Non-Diabetes Patients')\n",
    "plt.axvline(hba1c_observed, color='red')\n",
    "fig3.set_figwidth(15) "
   ]
  },
  {
   "cell_type": "code",
   "execution_count": 61,
   "metadata": {},
   "outputs": [
    {
     "data": {
      "text/plain": [
       "0"
      ]
     },
     "execution_count": 61,
     "metadata": {},
     "output_type": "execute_result"
    }
   ],
   "source": [
    "p_value_bg = (perm_diffs >= bmi_observed).sum()\n",
    "p_value_bg"
   ]
  },
  {
   "cell_type": "markdown",
   "metadata": {},
   "source": [
    "Conclustion: Based on our permutation test we conclude the bmi levels of Diabetes and Non-diabetes patients seem to come from different distributions. We reject the null with 0.01 significance level since out p-value of 0.0 is less than 0.01"
   ]
  },
  {
   "cell_type": "markdown",
   "metadata": {},
   "source": [
    "#### Ages\n",
    "\n",
    "Null: The `age` of patients with and without diabetes have the same distribution\n",
    "\n",
    "Alternative: The `age` of the patients with and without diabetes come from different distributions"
   ]
  },
  {
   "cell_type": "code",
   "execution_count": 62,
   "metadata": {},
   "outputs": [
    {
     "data": {
      "text/plain": [
       "[Text(0.5, 1.0, 'Distribution of Ages For Diabetes/Non-Diabetes Patients')]"
      ]
     },
     "execution_count": 62,
     "metadata": {},
     "output_type": "execute_result"
    },
    {
     "data": {
      "image/png": "[encoded data removed]",
      "text/plain": [
       "<Figure size 432x288 with 1 Axes>"
      ]
     },
     "metadata": {
      "needs_background": "light"
     },
     "output_type": "display_data"
    }
   ],
   "source": [
    "sns.histplot(x='age', hue = 'diabetes', data=sample_df, stat='density', kde=False, bins=15).set(title=\"Distribution of Ages For Diabetes/Non-Diabetes Patients\")"
   ]
  },
  {
   "cell_type": "code",
   "execution_count": 63,
   "metadata": {},
   "outputs": [
    {
     "data": {
      "text/plain": [
       "13.156088812267996"
      ]
     },
     "execution_count": 63,
     "metadata": {},
     "output_type": "execute_result"
    }
   ],
   "source": [
    "age_observed = diffs.iloc[1, 3]\n",
    "age_observed"
   ]
  },
  {
   "cell_type": "code",
   "execution_count": 64,
   "metadata": {},
   "outputs": [
    {
     "data": {
      "text/plain": [
       "0"
      ]
     },
     "execution_count": 64,
     "metadata": {},
     "output_type": "execute_result"
    }
   ],
   "source": [
    "p_value_bg = (perm_diffs >= age_observed).sum()\n",
    "p_value_bg"
   ]
  },
  {
   "cell_type": "markdown",
   "metadata": {},
   "source": [
    "Conclustion: Based on our permutation test we conclude the ages of Diabetes and Non-diabetes patients seem to come from different distributions. We reject the null with 0.01 significance level since out p-value of 0.0 is less than 0.01"
   ]
  },
  {
   "cell_type": "markdown",
   "metadata": {},
   "source": [
    "### Relationships Between Different Varibles"
   ]
  },
  {
   "cell_type": "markdown",
   "metadata": {},
   "source": [
    "Since we are trying to predict which features correlates with blood_glucose the most we wanted to see some of the relationships between blood_glucose and other variables individually."
   ]
  },
  {
   "cell_type": "code",
   "execution_count": 98,
   "metadata": {},
   "outputs": [
    {
     "data": {
      "text/plain": [
       "<Axes: xlabel='bg', ylabel='diabetes'>"
      ]
     },
     "execution_count": 98,
     "metadata": {},
     "output_type": "execute_result"
    },
    {
     "data": {
      "image/png": "[encoded data removed]",
      "text/plain": [
       "<Figure size 432x288 with 1 Axes>"
      ]
     },
     "metadata": {
      "needs_background": "light"
     },
     "output_type": "display_data"
    }
   ],
   "source": [
    "fig, ax = plt.subplots(nrows=1)\n",
    "fig.tight_layout()\n",
    "sns.pointplot(x='bg', y='diabetes', data=sample_df, ax=ax)\n",
    "# sns.histplot(x='bg', y='diabetes', data=sample_df, ax=ax[0])"
   ]
  },
  {
   "cell_type": "markdown",
   "metadata": {},
   "source": [
    "This plot shows the relationship between diabetes and blood_glucose levels. Since diabetes is a binary variable, we can see that there are some values of blood_glucose that occur in both diabetes and non-diabetes patients (range from 100, 200). There are also values that of blood glucose that only occur in the diabetes patients (>200), knowing this information we can analyze other variables in relation to blood glucose level and put it into perspective of diabetes and non-diabetes patients."
   ]
  },
  {
   "cell_type": "code",
   "execution_count": 66,
   "metadata": {},
   "outputs": [
    {
     "data": {
      "text/plain": [
       "<Axes: xlabel='bg', ylabel='hypertension'>"
      ]
     },
     "execution_count": 66,
     "metadata": {},
     "output_type": "execute_result"
    },
    {
     "data": {
      "image/png": "[encoded data removed]",
      "text/plain": [
       "<Figure size 432x288 with 1 Axes>"
      ]
     },
     "metadata": {
      "needs_background": "light"
     },
     "output_type": "display_data"
    }
   ],
   "source": [
    "fig, ax = plt.subplots(nrows=1)\n",
    "fig.tight_layout()\n",
    "sns.pointplot(x='bg', y='hypertension', data=sample_df, ax=ax)\n",
    "# superimpose the hisplots on the pointplot\n",
    "# sns.histplot(x='bg', y='hypertension', data=sample_df, ax=ax[0])\n"
   ]
  },
  {
   "cell_type": "markdown",
   "metadata": {},
   "source": [
    "Here we see that hypertension occurs in people of all blood glucose levels however, on average as the blood glucose level increases the higher the likelihood that the person has hypertension."
   ]
  },
  {
   "cell_type": "code",
   "execution_count": 67,
   "metadata": {},
   "outputs": [
    {
     "data": {
      "text/plain": [
       "<Axes: xlabel='bg', ylabel='heart_disease'>"
      ]
     },
     "execution_count": 67,
     "metadata": {},
     "output_type": "execute_result"
    },
    {
     "data": {
      "image/png": "[encoded data removed]",
      "text/plain": [
       "<Figure size 432x288 with 1 Axes>"
      ]
     },
     "metadata": {
      "needs_background": "light"
     },
     "output_type": "display_data"
    }
   ],
   "source": [
    "fig, ax = plt.subplots(nrows=1)\n",
    "fig.tight_layout()\n",
    "sns.pointplot(x='bg', y='heart_disease', data=sample_df, ax=ax)\n",
    "# sns.histplot(x='bg', y='heart_disease', data=sample_df, ax=ax[0])"
   ]
  },
  {
   "cell_type": "markdown",
   "metadata": {},
   "source": [
    "We see a similar trend in heart_disease. Heart disease occurs in patients of all ages, however, as the blood glucose increases the likelihood of the heart_disease increases as well. Looking back at our bg vs. diabetes graph, we know that the non-diabetes patients fall within the 80 to 200 blood glucose range. Heart disease and hypertension levels within that range tend to increase. Same goes for the range over 200, so we would want to explore both of these features as predictors of blood glucose levels in diabetes and non-diabetes patients"
   ]
  },
  {
   "cell_type": "markdown",
   "metadata": {},
   "source": [
    "Another plot we want to explore is age vs. bg levels. As you can see below, the blood glucose levels increase as people age, there is a strong positive correlation."
   ]
  },
  {
   "cell_type": "code",
   "execution_count": 68,
   "metadata": {},
   "outputs": [
    {
     "data": {
      "image/png": "[encoded data removed]",
      "text/plain": [
       "<Figure size 432x288 with 1 Axes>"
      ]
     },
     "metadata": {
      "needs_background": "light"
     },
     "output_type": "display_data"
    }
   ],
   "source": [
    "fig, ax = plt.subplots(nrows=1)\n",
    "\n",
    "sns.lineplot(x='age', y='bg', hue='diabetes', data=sample_df)\n",
    "sns.lineplot(x='age', y='bg', data=sample_df, label = \"0 and 1\")\n",
    "\n",
    "sns.move_legend(ax, \"upper left\", bbox_to_anchor=(1, 1))"
   ]
  },
  {
   "cell_type": "markdown",
   "metadata": {},
   "source": [
    "## Using Linear Regression to find the best features"
   ]
  },
  {
   "cell_type": "markdown",
   "metadata": {},
   "source": [
    "#### How well does age predict blood glucose levels?"
   ]
  },
  {
   "cell_type": "code",
   "execution_count": 69,
   "metadata": {},
   "outputs": [],
   "source": [
    "df0 = df[df['diabetes'] == 0]\n",
    "df1 = df[df['diabetes'] == 1]"
   ]
  },
  {
   "cell_type": "markdown",
   "metadata": {},
   "source": [
    "On the whole dataset"
   ]
  },
  {
   "cell_type": "code",
   "execution_count": 70,
   "metadata": {},
   "outputs": [
    {
     "data": {
      "text/plain": [
       "55.5829208902402"
      ]
     },
     "execution_count": 70,
     "metadata": {},
     "output_type": "execute_result"
    }
   ],
   "source": [
    "#split the data into train and test\n",
    "X = np.array(sample_df['age']).reshape((-1, 1))\n",
    "y = np.array(sample_df['bg'])\n",
    "X_train, X_test, y_train, y_test = train_test_split(X, y, test_size=0.33, random_state=42)\n",
    "#fit and predict\n",
    "reg = LinearRegression().fit(X_train, y_train)\n",
    "reg.predict(X_test)\n",
    "#rmse\n",
    "np.sqrt(mean_squared_error(y_test, reg.predict(X_test)))"
   ]
  },
  {
   "cell_type": "markdown",
   "metadata": {},
   "source": [
    "On the diabetes patients"
   ]
  },
  {
   "cell_type": "code",
   "execution_count": 71,
   "metadata": {},
   "outputs": [
    {
     "data": {
      "text/plain": [
       "58.5149290810686"
      ]
     },
     "execution_count": 71,
     "metadata": {},
     "output_type": "execute_result"
    }
   ],
   "source": [
    "#split the data into train and test\n",
    "X = np.array(df1['age']).reshape((-1, 1))\n",
    "y = np.array(df1['bg'])\n",
    "X_train, X_test, y_train, y_test = train_test_split(X, y, test_size=0.33, random_state=42)\n",
    "#fit and predict\n",
    "reg = LinearRegression().fit(X_train, y_train)\n",
    "reg.predict(X_test)\n",
    "#rmse\n",
    "np.sqrt(mean_squared_error(y_test, reg.predict(X_test)))"
   ]
  },
  {
   "cell_type": "markdown",
   "metadata": {},
   "source": [
    "On the non-diabetes patients"
   ]
  },
  {
   "cell_type": "code",
   "execution_count": 72,
   "metadata": {},
   "outputs": [
    {
     "data": {
      "text/plain": [
       "34.32799194869588"
      ]
     },
     "execution_count": 72,
     "metadata": {},
     "output_type": "execute_result"
    }
   ],
   "source": [
    "#split the data into train and test\n",
    "X = np.array(df0['age']).reshape((-1, 1))\n",
    "y = np.array(df0['bg'])\n",
    "X_train, X_test, y_train, y_test = train_test_split(X, y, test_size=0.33, random_state=42)\n",
    "#fit and predict\n",
    "reg = LinearRegression().fit(X_train, y_train)\n",
    "reg.predict(X_test)\n",
    "#rmse\n",
    "np.sqrt(mean_squared_error(y_test, reg.predict(X_test)))"
   ]
  },
  {
   "cell_type": "markdown",
   "metadata": {},
   "source": [
    "#### Rating Features On the Whole Dataset"
   ]
  },
  {
   "cell_type": "code",
   "execution_count": 73,
   "metadata": {},
   "outputs": [
    {
     "data": {
      "text/plain": [
       "53.00883243528096"
      ]
     },
     "execution_count": 73,
     "metadata": {},
     "output_type": "execute_result"
    }
   ],
   "source": [
    "#define necessary features\n",
    "features = ['age', 'bmi', 'hba1c']\n",
    "#splite into train and test\n",
    "X = np.array(sample_df.loc[:,features]).reshape((-1, 3))\n",
    "y = np.array(sample_df['bg'])\n",
    "X_train, X_test, y_train, y_test = train_test_split(X, y, test_size=0.33, random_state=42)\n",
    "\n",
    "#standardize all of the data \n",
    "scaler = StandardScaler()\n",
    "X_train = scaler.fit_transform(X_train)\n",
    "X_test = scaler.transform(X_test)\n",
    "\n",
    "#predict with linear regression\n",
    "model = LinearRegression()\n",
    "model.fit(X_train, y_train)\n",
    "model.predict(X_test)\n",
    "#rmse\n",
    "np.sqrt(mean_squared_error(y_test, model.predict(X_test)))"
   ]
  },
  {
   "cell_type": "code",
   "execution_count": 74,
   "metadata": {},
   "outputs": [
    {
     "data": {
      "text/html": [
       "<div>\n",
       "<style scoped>\n",
       "    .dataframe tbody tr th:only-of-type {\n",
       "        vertical-align: middle;\n",
       "    }\n",
       "\n",
       "    .dataframe tbody tr th {\n",
       "        vertical-align: top;\n",
       "    }\n",
       "\n",
       "    .dataframe thead th {\n",
       "        text-align: right;\n",
       "    }\n",
       "</style>\n",
       "<table border=\"1\" class=\"dataframe\">\n",
       "  <thead>\n",
       "    <tr style=\"text-align: right;\">\n",
       "      <th></th>\n",
       "      <th>Feature</th>\n",
       "      <th>Importance</th>\n",
       "    </tr>\n",
       "  </thead>\n",
       "  <tbody>\n",
       "    <tr>\n",
       "      <th>2</th>\n",
       "      <td>hba1c</td>\n",
       "      <td>15.169483</td>\n",
       "    </tr>\n",
       "    <tr>\n",
       "      <th>0</th>\n",
       "      <td>age</td>\n",
       "      <td>8.699088</td>\n",
       "    </tr>\n",
       "    <tr>\n",
       "      <th>1</th>\n",
       "      <td>bmi</td>\n",
       "      <td>5.720365</td>\n",
       "    </tr>\n",
       "  </tbody>\n",
       "</table>\n",
       "</div>"
      ],
      "text/plain": [
       "  Feature  Importance\n",
       "2   hba1c   15.169483\n",
       "0     age    8.699088\n",
       "1     bmi    5.720365"
      ]
     },
     "execution_count": 74,
     "metadata": {},
     "output_type": "execute_result"
    }
   ],
   "source": [
    "coefficients = model.coef_\n",
    "feature_importance = pd.DataFrame({'Feature': features, 'Importance': np.abs(coefficients)})\n",
    "feature_importance.sort_values(by='Importance', ascending=False)"
   ]
  },
  {
   "cell_type": "markdown",
   "metadata": {},
   "source": [
    "#### Rating Features on the non-diabetes patients"
   ]
  },
  {
   "cell_type": "code",
   "execution_count": 75,
   "metadata": {},
   "outputs": [
    {
     "data": {
      "text/plain": [
       "34.33034188127072"
      ]
     },
     "execution_count": 75,
     "metadata": {},
     "output_type": "execute_result"
    }
   ],
   "source": [
    "#define the features\n",
    "features = ['age', 'bmi', 'hba1c']\n",
    "#split into train and test sets\n",
    "X = np.array(df0.loc[:,features]).reshape((-1, 3))\n",
    "y = np.array(df0['bg'])\n",
    "X_train, X_test, y_train, y_test = train_test_split(X, y, test_size=0.33, random_state=42)\n",
    "#standardize the data\n",
    "scaler = StandardScaler()\n",
    "X_train = scaler.fit_transform(X_train)\n",
    "X_test = scaler.transform(X_test)\n",
    "#fit and predict to linear regression\n",
    "model = LinearRegression()\n",
    "model.fit(X_train, y_train)\n",
    "model.predict(X_test)\n",
    "#rmse\n",
    "np.sqrt(mean_squared_error(y_test, model.predict(X_test)))"
   ]
  },
  {
   "cell_type": "code",
   "execution_count": 76,
   "metadata": {},
   "outputs": [
    {
     "data": {
      "text/html": [
       "<div>\n",
       "<style scoped>\n",
       "    .dataframe tbody tr th:only-of-type {\n",
       "        vertical-align: middle;\n",
       "    }\n",
       "\n",
       "    .dataframe tbody tr th {\n",
       "        vertical-align: top;\n",
       "    }\n",
       "\n",
       "    .dataframe thead th {\n",
       "        text-align: right;\n",
       "    }\n",
       "</style>\n",
       "<table border=\"1\" class=\"dataframe\">\n",
       "  <thead>\n",
       "    <tr style=\"text-align: right;\">\n",
       "      <th></th>\n",
       "      <th>Feature</th>\n",
       "      <th>Importance</th>\n",
       "    </tr>\n",
       "  </thead>\n",
       "  <tbody>\n",
       "    <tr>\n",
       "      <th>2</th>\n",
       "      <td>hba1c</td>\n",
       "      <td>0.139120</td>\n",
       "    </tr>\n",
       "    <tr>\n",
       "      <th>1</th>\n",
       "      <td>bmi</td>\n",
       "      <td>0.118313</td>\n",
       "    </tr>\n",
       "    <tr>\n",
       "      <th>0</th>\n",
       "      <td>age</td>\n",
       "      <td>0.097183</td>\n",
       "    </tr>\n",
       "  </tbody>\n",
       "</table>\n",
       "</div>"
      ],
      "text/plain": [
       "  Feature  Importance\n",
       "2   hba1c    0.139120\n",
       "1     bmi    0.118313\n",
       "0     age    0.097183"
      ]
     },
     "execution_count": 76,
     "metadata": {},
     "output_type": "execute_result"
    }
   ],
   "source": [
    "coefficients = model.coef_\n",
    "feature_importance = pd.DataFrame({'Feature': features, 'Importance': np.abs(coefficients)})\n",
    "feature_importance.sort_values('Importance', ascending=False)"
   ]
  },
  {
   "cell_type": "markdown",
   "metadata": {},
   "source": [
    "#### Rating Features on the diabetes patients"
   ]
  },
  {
   "cell_type": "code",
   "execution_count": 77,
   "metadata": {},
   "outputs": [
    {
     "data": {
      "text/plain": [
       "58.59826710580004"
      ]
     },
     "execution_count": 77,
     "metadata": {},
     "output_type": "execute_result"
    }
   ],
   "source": [
    "#define the features\n",
    "features = ['age', 'bmi', 'hba1c']\n",
    "#split into train and test sets\n",
    "X = np.array(df1.loc[:,features]).reshape((-1, 3))\n",
    "y = np.array(df1['bg'])\n",
    "X_train, X_test, y_train, y_test = train_test_split(X, y, test_size=0.33, random_state=42)\n",
    "#standardize the data\n",
    "scaler = StandardScaler()\n",
    "X_train = scaler.fit_transform(X_train)\n",
    "X_test = scaler.transform(X_test)\n",
    "#fit and predict to linear regression\n",
    "model = LinearRegression()\n",
    "model.fit(X_train, y_train)\n",
    "model.predict(X_test)\n",
    "#rmse\n",
    "np.sqrt(mean_squared_error(y_test, model.predict(X_test)))"
   ]
  },
  {
   "cell_type": "code",
   "execution_count": 78,
   "metadata": {},
   "outputs": [
    {
     "data": {
      "text/html": [
       "<div>\n",
       "<style scoped>\n",
       "    .dataframe tbody tr th:only-of-type {\n",
       "        vertical-align: middle;\n",
       "    }\n",
       "\n",
       "    .dataframe tbody tr th {\n",
       "        vertical-align: top;\n",
       "    }\n",
       "\n",
       "    .dataframe thead th {\n",
       "        text-align: right;\n",
       "    }\n",
       "</style>\n",
       "<table border=\"1\" class=\"dataframe\">\n",
       "  <thead>\n",
       "    <tr style=\"text-align: right;\">\n",
       "      <th></th>\n",
       "      <th>Feature</th>\n",
       "      <th>Importance</th>\n",
       "    </tr>\n",
       "  </thead>\n",
       "  <tbody>\n",
       "    <tr>\n",
       "      <th>0</th>\n",
       "      <td>age</td>\n",
       "      <td>1.798097</td>\n",
       "    </tr>\n",
       "    <tr>\n",
       "      <th>1</th>\n",
       "      <td>bmi</td>\n",
       "      <td>1.667859</td>\n",
       "    </tr>\n",
       "    <tr>\n",
       "      <th>2</th>\n",
       "      <td>hba1c</td>\n",
       "      <td>0.566682</td>\n",
       "    </tr>\n",
       "  </tbody>\n",
       "</table>\n",
       "</div>"
      ],
      "text/plain": [
       "  Feature  Importance\n",
       "0     age    1.798097\n",
       "1     bmi    1.667859\n",
       "2   hba1c    0.566682"
      ]
     },
     "execution_count": 78,
     "metadata": {},
     "output_type": "execute_result"
    }
   ],
   "source": [
    "coefficients = model.coef_\n",
    "feature_importance = pd.DataFrame({'Feature': features, 'Importance': np.abs(coefficients)})\n",
    "feature_importance.sort_values('Importance', ascending=False)"
   ]
  },
  {
   "cell_type": "markdown",
   "metadata": {},
   "source": [
    "## PCA"
   ]
  },
  {
   "cell_type": "markdown",
   "metadata": {},
   "source": [
    "### Whole dataset"
   ]
  },
  {
   "cell_type": "code",
   "execution_count": 79,
   "metadata": {},
   "outputs": [
    {
     "data": {
      "text/plain": [
       "array([0.25868871, 0.1808441 , 0.16238092, 0.1432022 , 0.13493648,\n",
       "       0.11994759])"
      ]
     },
     "execution_count": 79,
     "metadata": {},
     "output_type": "execute_result"
    }
   ],
   "source": [
    "from sklearn.decomposition import PCA\n",
    "from sklearn.preprocessing import StandardScaler\n",
    "\n",
    "features = ['age', 'hypertension', 'heart_disease', 'bmi', 'hba1c', 'bg']\n",
    "\n",
    "data_all = StandardScaler().fit_transform(df.loc[:, features].values) # normalizing the features\n",
    "\n",
    "pca_all = PCA()\n",
    "PC_all = pca_all.fit_transform(data_all)\n",
    "\n",
    "pca_all.explained_variance_ratio_"
   ]
  },
  {
   "cell_type": "code",
   "execution_count": 80,
   "metadata": {},
   "outputs": [
    {
     "data": {
      "text/plain": [
       "array([0.51392136, 0.4516009 , 0.41552963, 0.24893859, 0.38229083,\n",
       "       0.38879286])"
      ]
     },
     "execution_count": 80,
     "metadata": {},
     "output_type": "execute_result"
    }
   ],
   "source": [
    "abs(pca_all.components_[0])"
   ]
  },
  {
   "cell_type": "markdown",
   "metadata": {},
   "source": [
    "From greatest to least: `age`, `hypertension`, `heart_disease`, `bg`, `hba1c`, `bmi`\n",
    "\n",
    "In the entire dataset, `age` is the most dominant feature in the principle component with the largest eigenvalue. "
   ]
  },
  {
   "cell_type": "markdown",
   "metadata": {},
   "source": [
    "### Non diabetic"
   ]
  },
  {
   "cell_type": "code",
   "execution_count": 81,
   "metadata": {},
   "outputs": [
    {
     "data": {
      "text/plain": [
       "array([0.22734364, 0.17067367, 0.16694338, 0.1662953 , 0.14568562,\n",
       "       0.12305839])"
      ]
     },
     "execution_count": 81,
     "metadata": {},
     "output_type": "execute_result"
    }
   ],
   "source": [
    "data_nondiabetic = StandardScaler().fit_transform(df0.loc[:, features].values) # normalizing the features\n",
    "\n",
    "pca_nondiabetic = PCA()\n",
    "PC_nondiabetic = pca_nondiabetic.fit_transform(data_nondiabetic)\n",
    "\n",
    "pca_nondiabetic.explained_variance_ratio_"
   ]
  },
  {
   "cell_type": "code",
   "execution_count": 82,
   "metadata": {},
   "outputs": [
    {
     "data": {
      "text/plain": [
       "array([6.32994518e-01, 5.41993670e-01, 5.33007257e-01, 1.46498483e-01,\n",
       "       1.41142694e-03, 5.18379547e-04])"
      ]
     },
     "execution_count": 82,
     "metadata": {},
     "output_type": "execute_result"
    }
   ],
   "source": [
    "abs(pca_nondiabetic.components_[0])"
   ]
  },
  {
   "cell_type": "markdown",
   "metadata": {},
   "source": [
    "From greatest to least: `age`, `hypertension`, `heart_disease`, `bmi`, `hba1c`, `bg`\n",
    "\n",
    "In the nondiabetic subset of the dataset, `age` is the most dominant feature in the principle component with the largest eigenvalue. `hypertension` and `heart_disease` are also quite large."
   ]
  },
  {
   "cell_type": "markdown",
   "metadata": {},
   "source": [
    "### Diabetic"
   ]
  },
  {
   "cell_type": "code",
   "execution_count": 83,
   "metadata": {},
   "outputs": [
    {
     "data": {
      "text/plain": [
       "array([0.22234018, 0.17286144, 0.16833244, 0.16519725, 0.15253172,\n",
       "       0.11873698])"
      ]
     },
     "execution_count": 83,
     "metadata": {},
     "output_type": "execute_result"
    }
   ],
   "source": [
    "data_diabetic = StandardScaler().fit_transform(df1.loc[:, features].values) # normalizing the features\n",
    "\n",
    "pca_diabetic = PCA()\n",
    "PC_diabetic = pca_diabetic.fit_transform(data_diabetic)\n",
    "\n",
    "pca_diabetic.explained_variance_ratio_"
   ]
  },
  {
   "cell_type": "code",
   "execution_count": 84,
   "metadata": {},
   "outputs": [
    {
     "data": {
      "text/plain": [
       "array([0.6764846 , 0.17709617, 0.51460062, 0.49384099, 0.03775497,\n",
       "       0.0297888 ])"
      ]
     },
     "execution_count": 84,
     "metadata": {},
     "output_type": "execute_result"
    }
   ],
   "source": [
    "abs(pca_diabetic.components_[0])"
   ]
  },
  {
   "cell_type": "markdown",
   "metadata": {},
   "source": [
    "From greatest to least: `age`, `heart_disease`, `bmi`, `hypertension`, `hba1c`, `bg`\n",
    "\n",
    "In the diabetic subset of the dataset, `age` is the most dominant feature in the principle component with the largest eigenvalue. `hypertension` and `bmi` are also quite large."
   ]
  },
  {
   "cell_type": "markdown",
   "metadata": {},
   "source": [
    "# START OF FINAL REPORT"
   ]
  },
  {
   "cell_type": "markdown",
   "metadata": {},
   "source": [
    "## Identifying Relationships in Diabetes Clinical Data Regarding Blood Glucose Levels."
   ]
  },
  {
   "cell_type": "markdown",
   "metadata": {},
   "source": [
    "## Overview (!)\n",
    "\n",
    "In this project we investigate the relationships between clinical variables collected for patients with and without diabetes. Specifically, we aim to quantify the correlations between these variables and find the features that are most correlated to blood glucose level, in cohorts with and without diabetes. Diabetes is tied to blood glucose levels, and identifying variables that correlate most closely to this condition could allow for a better understanding of patient health characteristics relating to diabetes. \n",
    "\n",
    "We used data from publically available and anonymized Electronic Health Records and created several figures to visualize the correlations between the variables provided in the data. We further separated the datasets based on whether or not the patients had diabetes, and created visualizations on these subsets as well. We then created 3d and 4d plots to see how the datapoints clustered for each cohort, conducted A/B testing to check if the distributions of specific variables were different between cohorts, and conducted PCA to better understand the relationships between the variables. \n",
    "\n",
    "As a result of our analyses, we found that ... **Add in results here!**"
   ]
  },
  {
   "cell_type": "markdown",
   "metadata": {},
   "source": [
    "## Names\n",
    "- Harshita Saha\n",
    "- Anastasiya Markova\n",
    "- Conner Hsu\n",
    "- Sidharth Srinath"
   ]
  },
  {
   "cell_type": "markdown",
   "metadata": {},
   "source": [
    "## Research Question\n",
    "Given clinical data for cohorts with and without diabetes, which feature most correlates to the measure of 'blood_glucose_level' for each cohort, and are they different between the cohorts?"
   ]
  },
  {
   "cell_type": "markdown",
   "metadata": {},
   "source": [
    "## Background and Prior Work\n",
    "\n",
    "### **Background**\n",
    "\n",
    "When food enters the body, it is broken down into sugar (glucose), which is then absorbed by cells to use as energy. Specifically, an increase of sugar in the bloodstream signals the pancreas to release insulin, and then insulin in turn signals cells to absorb the sugar, which can then be used as energy (1). \n",
    "    \n",
    " Diabetes is a disease that involves the inability of the body to effectively process sugar in this manner, and when sugar accumulates in the blood stream it results in the symptoms associated with diabetes, such as heart and kidney disease, vision loss, and nerve damage (1). \n",
    "    \n",
    " When cells are exposed to high levels of insulin for long durations, they develop insulin resistance, which means they do not absorb glucose from the bloodstream at levels they are supposed to (2). This is type 2 diabetes, which can develop over many years, and is the type that affects 90-95% of those with diabetes (2).  \n",
    "    \n",
    " In contrast, even when cells have the ability to respond to insulin, autoimmune reactions can cause the body to destroy the cells in the pancreas that produce insulin, so the cells never receive a signal to absorb glucose from the bloodstream (3). This is type 1 diabetes, which involves the trigerring of genetic factors, and is the type that affects 5-10% of those with diabetes (3). \n",
    "\n",
    " The inability of the body to effectively process sugar when affected by diabetes results in higher blood glucose levels, increasing the risk of heart disease and hypertension (4). Diabetes is also linked to increased HbA1c, which refers to the amount of red blood cells coated in glucose as a result of sugar in the bloodstream (5). Factors like age, bmi, and smoking can affect the risk of developing diabetes, and men are also more likely to have diabetes than women (6, 7, 8). \n",
    "\n",
    "- (1) Centers for Disease Control and Prevention. (2023, April 24). What is diabetes?. Centers for Disease Control and Prevention. https://www.cdc.gov/diabetes/basics/diabetes.html \n",
    "- (2) Centers for Disease Control and Prevention. (2023, April 18). Type 2 diabetes. Centers for Disease Control and Prevention. https://www.cdc.gov/diabetes/basics/type2.html \n",
    "- (3) Centers for Disease Control and Prevention. (2022, March 11). What is type 1 diabetes?. Centers for Disease Control and Prevention. https://www.cdc.gov/diabetes/basics/what-is-type-1-diabetes.html \n",
    "- (4) Centers for Disease Control and Prevention. (2022, June 20). Diabetes and your heart. Centers for Disease Control and Prevention. https://www.cdc.gov/diabetes/library/features/diabetes-and-heart.html \n",
    "- (5) Centers for Disease Control and Prevention. (2022, September 30). All about your A1C. Centers for Disease Control and Prevention. https://www.cdc.gov/diabetes/managing/managing-blood-sugar/a1c.html\n",
    "- (6) Centers for Disease Control and Prevention. (2022, April 5). Diabetes risk factors. Centers for Disease Control and Prevention. https://www.cdc.gov/diabetes/basics/risk-factors.html \n",
    "- (7) FDA. (2020, April 5). Cigarette smoking: A risk factor for type 2 diabetes. U.S. Food and Drug Administration. https://www.fda.gov/tobacco-products/health-effects-tobacco-use/cigarette-smoking-risk-factor-type-2-diabetes\n",
    "- (8) Nordstrom, A., Hadrevi, J., Olsson, T., Franks, P. W., Nordstrom, P. (2016, October 16). Higher Prevalence of Type 2 Diabetes in Men Than in Women Is Associated With Differences in Visceral Fat Mass . The Journal of Clinical Endocrinology and Metabolism. https://academic.oup.com/jcem/article/101/10/3740/2764924 \n",
    "\n",
    "\n",
    "### **Prior Research**\n",
    "\n",
    "Since diabetes is a very common illness there have been many research studies associated with its risk factors. Previous research study that synthesized multiple data sources and analysis found that there are many different risk factors of diabetes. Some of these risk factos are alcohol consumption, tobacco use, lack of exercise, obesity, high blood pressure, stress, hereditary conditions, and demographics. \n",
    "\n",
    "Overall, they found that the two most influencing factors to developing diabetes are Triglyceride (TG) and hemoglobin (A1C), both heavily influenced by BMI. (1) Other studies seems to agree with this finding. In a study that used logistic regression and classification tree to predict diabetes, the researchers found that the most influential factors in predicting diabetes are BMI, pedigree, and glucose. Using these 3 main features both models were able to achieve accuracy of 78% and 74% respectively. (2) \n",
    "\n",
    "Another study utilized various analysis methods (bivariate Pearson Analysis, network analysis, ROC analysis) and concluded that out of all of the features BMI was the most influention in predicting Diabetes. Furthermore, it also found high colinearity between diabetes, BMI, cholestrol, HbA1c, and age, as well as some other features used in the study. (3) \n",
    "\n",
    "It seems that most of the studies agree that BMI, family history and glucose levels are good predictors of diabetes. BMI appears to be the most influential one, but it also seems to have a relationship with other features. Based on this information we want to further explore if one feature can be predicted by another and whether this differs for those with and without diabetes.\n",
    " \n",
    "- (1) Hussein, W. N., Mohammed, Z. M., &amp; Mohammed, A. N. (2022). Identifying risk factors associated with type 2 diabetes based on data analysis. Measurement: Sensors, 24, 100543. https://doi.org/10.1016/j.measen.2022.100543 \n",
    "- (2) Joshi, R. D., &amp; Dhakal, C. K. (2021). Predicting type 2 diabetes using logistic regression and machine learning approaches. International Journal of Environmental Research and Public Health, 18(14), 7346. https://doi.org/10.3390/ijerph18147346 \n",
    "- (3) Kowsar, R., &amp; Mansouri, A. (2022). Multi-level analysis reveals the association between diabetes, body mass index, and hba1c in an Iraqi population. Scientific Reports, 12(1). https://doi.org/10.1038/s41598-022-25813-y "
   ]
  },
  {
   "cell_type": "markdown",
   "metadata": {},
   "source": [
    "## Hypothesis\n",
    "For cohorts with and without diabetes, we hypothesize that the features that most correlate to the measure of `blood_glucose_level` are different, and are `hba1c` and `bmi` respectively. "
   ]
  },
  {
   "cell_type": "markdown",
   "metadata": {},
   "source": [
    "## Dataset\n",
    "- **Dataset Name:** Diabetes prediction dataset\n",
    "- **Link to the dataset:** [kaggle](https://www.kaggle.com/datasets/iammustafatz/diabetes-prediction-dataset)\n",
    "- **Number of observations:** 100,000\n",
    "- **Number of features:** 9\n",
    "\n",
    "This dataset is a collection of medical and demographic data sourced from Electronic Health Records (EHRs), collected by medical professionals and institutions. The Diabetes Prediction Dataset is built off of multiple EHRs that were collected and combined together.\n",
    "\n",
    "This dataset contains records for 100,000 patients, and contains the following data for each patient:\n",
    "\n",
    "| feature | notes |\n",
    "| :---        |    :----   |        \n",
    "| `gender`| Male, Female, or Other |\n",
    "| `age`| float |\n",
    "| `hypertension`| 0 or 1 |\n",
    "| `heart_disease`| 0 or 1 |\n",
    "| `smoking_history` | never, No Info, current, former, ever, not current |\n",
    "| `bmi`| float | \n",
    "| `HbA1c_level`| float |\n",
    "| `blood_glucose_level` | float |\n",
    "| `diabetes` | 0 or 1 |\n"
   ]
  },
  {
   "cell_type": "markdown",
   "metadata": {},
   "source": [
    "## Setup (!)"
   ]
  },
  {
   "cell_type": "code",
   "execution_count": 85,
   "metadata": {},
   "outputs": [],
   "source": [
    "import numpy as np\n",
    "\n",
    "import pandas as pd\n",
    "pd.options.mode.chained_assignment = None\n",
    "\n",
    "import matplotlib.pyplot as plt\n",
    "import seaborn as sns\n",
    "#%matplotlib notebook\n",
    "\n",
    "from scipy import stats\n",
    "\n",
    "from sklearn.model_selection import train_test_split\n",
    "from sklearn.preprocessing import StandardScaler\n",
    "from sklearn.metrics import mean_squared_error\n",
    "from sklearn.linear_model import LinearRegression\n",
    "from sklearn.decomposition import PCA\n",
    "from sklearn.preprocessing import StandardScaler"
   ]
  },
  {
   "cell_type": "markdown",
   "metadata": {},
   "source": [
    "Since our dataset is sourced from Kaggle, we will use the steps below to pull the data we need into Python:\n",
    "\n",
    "1. Manually download the dataset from [this link](https://www.kaggle.com/datasets/iammustafatz/diabetes-prediction-dataset?resource=download) and save it as `diabetes_prediction_dataset.csv`, in the same directory as the working notebook. \n",
    "\n",
    "2. Use the pandas `read_csv()` function to read in the data in to a Dataframe, as displayed below. "
   ]
  },
  {
   "cell_type": "code",
   "execution_count": 86,
   "metadata": {},
   "outputs": [
    {
     "data": {
      "text/html": [
       "<div>\n",
       "<style scoped>\n",
       "    .dataframe tbody tr th:only-of-type {\n",
       "        vertical-align: middle;\n",
       "    }\n",
       "\n",
       "    .dataframe tbody tr th {\n",
       "        vertical-align: top;\n",
       "    }\n",
       "\n",
       "    .dataframe thead th {\n",
       "        text-align: right;\n",
       "    }\n",
       "</style>\n",
       "<table border=\"1\" class=\"dataframe\">\n",
       "  <thead>\n",
       "    <tr style=\"text-align: right;\">\n",
       "      <th></th>\n",
       "      <th>gender</th>\n",
       "      <th>age</th>\n",
       "      <th>hypertension</th>\n",
       "      <th>heart_disease</th>\n",
       "      <th>smoking_history</th>\n",
       "      <th>bmi</th>\n",
       "      <th>HbA1c_level</th>\n",
       "      <th>blood_glucose_level</th>\n",
       "      <th>diabetes</th>\n",
       "    </tr>\n",
       "  </thead>\n",
       "  <tbody>\n",
       "    <tr>\n",
       "      <th>0</th>\n",
       "      <td>Female</td>\n",
       "      <td>80.0</td>\n",
       "      <td>0</td>\n",
       "      <td>1</td>\n",
       "      <td>never</td>\n",
       "      <td>25.19</td>\n",
       "      <td>6.6</td>\n",
       "      <td>140</td>\n",
       "      <td>0</td>\n",
       "    </tr>\n",
       "    <tr>\n",
       "      <th>1</th>\n",
       "      <td>Female</td>\n",
       "      <td>54.0</td>\n",
       "      <td>0</td>\n",
       "      <td>0</td>\n",
       "      <td>No Info</td>\n",
       "      <td>27.32</td>\n",
       "      <td>6.6</td>\n",
       "      <td>80</td>\n",
       "      <td>0</td>\n",
       "    </tr>\n",
       "    <tr>\n",
       "      <th>2</th>\n",
       "      <td>Male</td>\n",
       "      <td>28.0</td>\n",
       "      <td>0</td>\n",
       "      <td>0</td>\n",
       "      <td>never</td>\n",
       "      <td>27.32</td>\n",
       "      <td>5.7</td>\n",
       "      <td>158</td>\n",
       "      <td>0</td>\n",
       "    </tr>\n",
       "    <tr>\n",
       "      <th>3</th>\n",
       "      <td>Female</td>\n",
       "      <td>36.0</td>\n",
       "      <td>0</td>\n",
       "      <td>0</td>\n",
       "      <td>current</td>\n",
       "      <td>23.45</td>\n",
       "      <td>5.0</td>\n",
       "      <td>155</td>\n",
       "      <td>0</td>\n",
       "    </tr>\n",
       "    <tr>\n",
       "      <th>4</th>\n",
       "      <td>Male</td>\n",
       "      <td>76.0</td>\n",
       "      <td>1</td>\n",
       "      <td>1</td>\n",
       "      <td>current</td>\n",
       "      <td>20.14</td>\n",
       "      <td>4.8</td>\n",
       "      <td>155</td>\n",
       "      <td>0</td>\n",
       "    </tr>\n",
       "  </tbody>\n",
       "</table>\n",
       "</div>"
      ],
      "text/plain": [
       "   gender   age  hypertension  heart_disease smoking_history    bmi  \\\n",
       "0  Female  80.0             0              1           never  25.19   \n",
       "1  Female  54.0             0              0         No Info  27.32   \n",
       "2    Male  28.0             0              0           never  27.32   \n",
       "3  Female  36.0             0              0         current  23.45   \n",
       "4    Male  76.0             1              1         current  20.14   \n",
       "\n",
       "   HbA1c_level  blood_glucose_level  diabetes  \n",
       "0          6.6                  140         0  \n",
       "1          6.6                   80         0  \n",
       "2          5.7                  158         0  \n",
       "3          5.0                  155         0  \n",
       "4          4.8                  155         0  "
      ]
     },
     "execution_count": 86,
     "metadata": {},
     "output_type": "execute_result"
    }
   ],
   "source": [
    "# loading in the dataset after downloading csv from kaggle\n",
    "df = pd.read_csv('diabetes_prediction_dataset.csv')\n",
    "df.head()"
   ]
  },
  {
   "cell_type": "markdown",
   "metadata": {},
   "source": [
    "## Data Cleaning (!)"
   ]
  },
  {
   "cell_type": "markdown",
   "metadata": {},
   "source": [
    "In this section we did the following:\n",
    "\n",
    "1. Removed records where `gender` was listed as `Other`. \n",
    "2. Removed records where age was less than 20 years old. \n",
    "3. Added a column to categorize differnt `bmi` levels as `underweight`, `healthy`, `overweight`, and `obese`.\n",
    "4. Added a column to categorize `HbA1c_level` as `normal` and `high` according to the `age` category.\n",
    "5. Added a column to categorize `blood_glucose_levels` as `low`, `normal`, and `high`.\n",
    "6. Created DataFrames containing data based on whether or not patients have Diabetes.\n",
    "\n",
    "Explanations regarding these decisions and the methods used are described below."
   ]
  },
  {
   "cell_type": "code",
   "execution_count": 87,
   "metadata": {},
   "outputs": [
    {
     "data": {
      "text/plain": [
       "0"
      ]
     },
     "execution_count": 87,
     "metadata": {},
     "output_type": "execute_result"
    }
   ],
   "source": [
    "# check if there is any missing data\n",
    "df.isna().sum().sum()"
   ]
  },
  {
   "cell_type": "code",
   "execution_count": 88,
   "metadata": {},
   "outputs": [
    {
     "data": {
      "text/plain": [
       "gender                  object\n",
       "age                    float64\n",
       "hypertension             int64\n",
       "heart_disease            int64\n",
       "smoking_history         object\n",
       "bmi                    float64\n",
       "HbA1c_level            float64\n",
       "blood_glucose_level      int64\n",
       "diabetes                 int64\n",
       "dtype: object"
      ]
     },
     "execution_count": 88,
     "metadata": {},
     "output_type": "execute_result"
    }
   ],
   "source": [
    "# check the datatypes of each column\n",
    "df.dtypes"
   ]
  },
  {
   "cell_type": "code",
   "execution_count": 89,
   "metadata": {},
   "outputs": [
    {
     "data": {
      "text/plain": [
       "gender\n",
       "Female    58552\n",
       "Male      41430\n",
       "Other        18\n",
       "Name: age, dtype: int64"
      ]
     },
     "execution_count": 89,
     "metadata": {},
     "output_type": "execute_result"
    }
   ],
   "source": [
    "# checking gender of patients\n",
    "df.groupby('gender').count()['age']"
   ]
  },
  {
   "cell_type": "code",
   "execution_count": 90,
   "metadata": {},
   "outputs": [],
   "source": [
    "# removing records where gender is not specified/recorded as it may affect predictions\n",
    "# only 18 records of 100,000 are listed as 'Other'\n",
    "# there is not enough data to analyze for thise group to make conclusions\n",
    "df = df[df['gender'] != 'Other']\n",
    "\n",
    "# removing records for patients less than 20\n",
    "# this is because the rates of diabetes are lower in these populations\n",
    "# and diabetes is less well studied as a result\n",
    "# analyis based on these groups might not generalizable\n",
    "# https://www.cdc.gov/diabetes/data/statistics-report/newly-diagnosed-diabetes.html\n",
    "# https://diabetesjournals.org/care/article/46/3/490/148482/Youth-Onset-Type-2-Diabetes-The-Epidemiology-of-an\n",
    "df = df[df['age'] >= 20]"
   ]
  },
  {
   "cell_type": "code",
   "execution_count": 91,
   "metadata": {},
   "outputs": [],
   "source": [
    "# add in columns to label the levels for `bmi`, `HbA1c_level`, and `blood_glucose_level`\n",
    "# bmi cutoffs: https://www.cdc.gov/obesity/basics/adult-defining.html\n",
    "# HbA1c_level cutoffs: https://bmcendocrdisord.biomedcentral.com/articles/10.1186/s12902-019-0338-7\n",
    "# blood_glucose_level cutoffs: https://medlineplus.gov/ency/patientinstructions/000086.htm\n",
    "\n",
    "# bmi labeling\n",
    "bmi_bins = pd.cut(df['bmi'], [0, 18.5, 25, 30, round(df['bmi'].max())], right=False, \\\n",
    "                  labels=['underweight', 'healthy', 'overweight', 'obese']) \n",
    "df['bmi_label'] = bmi_bins\n",
    "\n",
    "# blood_glucose labeling\n",
    "bg_bins = pd.cut(df['blood_glucose_level'], [0, 90, 130, round(df['blood_glucose_level'].max())], right=False, \\\n",
    "                 labels=['low', 'normal', 'high'])\n",
    "df['bg_label'] = bg_bins\n",
    "\n",
    "# HbA1c labeling\n",
    "age_bins = pd.cut(df['age'], [19, 39, 59, round(df['age'].max())], labels=['g1', 'g2', 'g3'])\n",
    "df['age_label'] = age_bins\n",
    "\n",
    "#setting up thresholds for HbA1c levels\n",
    "conditions = [df['age_label']=='g1', df['age_label']=='g2', df['age_label']=='g3']\n",
    "choices = [6.0, 6.1, 6.5]\n",
    "HbA1c_exp = np.select(conditions, choices)\n",
    "df['HbA1c_label'] = HbA1c_exp\n",
    "\n",
    "#assigning high/normal based on the thresholds and current HbA1c levels\n",
    "df['HbA1c_label'] = (df['HbA1c_level'] <= df['HbA1c_label']).replace({True:'normal', False:'high'})"
   ]
  },
  {
   "cell_type": "code",
   "execution_count": 92,
   "metadata": {},
   "outputs": [
    {
     "data": {
      "text/html": [
       "<div>\n",
       "<style scoped>\n",
       "    .dataframe tbody tr th:only-of-type {\n",
       "        vertical-align: middle;\n",
       "    }\n",
       "\n",
       "    .dataframe tbody tr th {\n",
       "        vertical-align: top;\n",
       "    }\n",
       "\n",
       "    .dataframe thead th {\n",
       "        text-align: right;\n",
       "    }\n",
       "</style>\n",
       "<table border=\"1\" class=\"dataframe\">\n",
       "  <thead>\n",
       "    <tr style=\"text-align: right;\">\n",
       "      <th></th>\n",
       "      <th>gender</th>\n",
       "      <th>age</th>\n",
       "      <th>hypertension</th>\n",
       "      <th>heart_disease</th>\n",
       "      <th>smoking_history</th>\n",
       "      <th>bmi</th>\n",
       "      <th>bmi_label</th>\n",
       "      <th>hba1c</th>\n",
       "      <th>hba1c_label</th>\n",
       "      <th>bg</th>\n",
       "      <th>bg_label</th>\n",
       "      <th>diabetes</th>\n",
       "    </tr>\n",
       "  </thead>\n",
       "  <tbody>\n",
       "    <tr>\n",
       "      <th>0</th>\n",
       "      <td>Female</td>\n",
       "      <td>80.0</td>\n",
       "      <td>0</td>\n",
       "      <td>1</td>\n",
       "      <td>never</td>\n",
       "      <td>25.19</td>\n",
       "      <td>overweight</td>\n",
       "      <td>6.6</td>\n",
       "      <td>high</td>\n",
       "      <td>140</td>\n",
       "      <td>high</td>\n",
       "      <td>0</td>\n",
       "    </tr>\n",
       "    <tr>\n",
       "      <th>1</th>\n",
       "      <td>Female</td>\n",
       "      <td>54.0</td>\n",
       "      <td>0</td>\n",
       "      <td>0</td>\n",
       "      <td>No Info</td>\n",
       "      <td>27.32</td>\n",
       "      <td>overweight</td>\n",
       "      <td>6.6</td>\n",
       "      <td>high</td>\n",
       "      <td>80</td>\n",
       "      <td>low</td>\n",
       "      <td>0</td>\n",
       "    </tr>\n",
       "    <tr>\n",
       "      <th>2</th>\n",
       "      <td>Male</td>\n",
       "      <td>28.0</td>\n",
       "      <td>0</td>\n",
       "      <td>0</td>\n",
       "      <td>never</td>\n",
       "      <td>27.32</td>\n",
       "      <td>overweight</td>\n",
       "      <td>5.7</td>\n",
       "      <td>normal</td>\n",
       "      <td>158</td>\n",
       "      <td>high</td>\n",
       "      <td>0</td>\n",
       "    </tr>\n",
       "    <tr>\n",
       "      <th>3</th>\n",
       "      <td>Female</td>\n",
       "      <td>36.0</td>\n",
       "      <td>0</td>\n",
       "      <td>0</td>\n",
       "      <td>current</td>\n",
       "      <td>23.45</td>\n",
       "      <td>healthy</td>\n",
       "      <td>5.0</td>\n",
       "      <td>normal</td>\n",
       "      <td>155</td>\n",
       "      <td>high</td>\n",
       "      <td>0</td>\n",
       "    </tr>\n",
       "    <tr>\n",
       "      <th>4</th>\n",
       "      <td>Male</td>\n",
       "      <td>76.0</td>\n",
       "      <td>1</td>\n",
       "      <td>1</td>\n",
       "      <td>current</td>\n",
       "      <td>20.14</td>\n",
       "      <td>healthy</td>\n",
       "      <td>4.8</td>\n",
       "      <td>normal</td>\n",
       "      <td>155</td>\n",
       "      <td>high</td>\n",
       "      <td>0</td>\n",
       "    </tr>\n",
       "  </tbody>\n",
       "</table>\n",
       "</div>"
      ],
      "text/plain": [
       "   gender   age  hypertension  heart_disease smoking_history    bmi  \\\n",
       "0  Female  80.0             0              1           never  25.19   \n",
       "1  Female  54.0             0              0         No Info  27.32   \n",
       "2    Male  28.0             0              0           never  27.32   \n",
       "3  Female  36.0             0              0         current  23.45   \n",
       "4    Male  76.0             1              1         current  20.14   \n",
       "\n",
       "    bmi_label  hba1c hba1c_label   bg bg_label  diabetes  \n",
       "0  overweight    6.6        high  140     high         0  \n",
       "1  overweight    6.6        high   80      low         0  \n",
       "2  overweight    5.7      normal  158     high         0  \n",
       "3     healthy    5.0      normal  155     high         0  \n",
       "4     healthy    4.8      normal  155     high         0  "
      ]
     },
     "execution_count": 92,
     "metadata": {},
     "output_type": "execute_result"
    }
   ],
   "source": [
    "#reorderingthe columns\n",
    "df = df[list(df.columns[:6])+\\\n",
    "        ['bmi_label', 'HbA1c_level', 'HbA1c_label', 'blood_glucose_level', 'bg_label', 'diabetes']]\n",
    "\n",
    "#renaming the columns\n",
    "df = df.rename(columns={\"HbA1c_level\": \"hba1c\", \"HbA1c_label\": \"hba1c_label\", \"blood_glucose_level\": \"bg\"})\n",
    "df.head()"
   ]
  },
  {
   "cell_type": "code",
   "execution_count": 93,
   "metadata": {},
   "outputs": [],
   "source": [
    "# creating a DataFrame only for patients without diabetes\n",
    "df0 = df[df['diabetes'] == 0]\n",
    "\n",
    "# creating a DataFrame only for patients with diabetes\n",
    "df1 = df[df['diabetes'] == 1]"
   ]
  },
  {
   "cell_type": "markdown",
   "metadata": {},
   "source": [
    "## Data Analysis & Results (!)"
   ]
  },
  {
   "cell_type": "markdown",
   "metadata": {},
   "source": [
    "## Ethics & Privacy\n",
    "\n",
    "There are potential ethical concerns with respect to privacy with the type of data we are working with. That being said, the data set we are using is from kaggle and it is completely anonymized and is likely a specific subset of a larger collection set. \n",
    "\n",
    "This means that are no single or combinations of identifying factors in the data we are proposing. The data was collected using EHR's (electronic health records) so there might biases in collection due the people who's data is recorded by health care providers and for the EHR's being more likely to develop health conditions. \n",
    "\n",
    "We will assess our research question and the integrity of our projected findings with respect to our data set by considering the role of those biases in the data we are using and how we are using it.\n",
    "\n",
    "It should also be noted that this analysis is purely descriptive and should not be used to draw a conclusion or prediction for real people and real-world applications without further context.\n",
    "\n",
    "There are no other ethical issues that we have found with respect to the dataset we are proposing."
   ]
  },
  {
   "cell_type": "markdown",
   "metadata": {},
   "source": [
    "## Conclusion & Discussion (!)"
   ]
  },
  {
   "cell_type": "markdown",
   "metadata": {},
   "source": [
    " - Based on our analysis there is a statistically significant difference between blood glucose levels in people with and without diabetes.\n",
    " - From A/B testing, we were able to confirm that diabetics and non-diabetics showed siginificant differences in blood glucose levels. This means we will likely be able to use blood glucose levels to predict diabetes. Since we know that higher blood glucose levels correlate with diabetes status, we can make inferences about blood glucose levels based on diabetes status. We found that age, bmi, and hba1c levels, are statistically different between diabetics and non-diabetics. It seems like there is also a statistically significant relationship between age, bmi, and hba1c levels and blood glucose levels.\n",
    " - Our correlation plots showed us that:\n",
    "     --for the overall dataset population, hba1c levels correlate the most to blood glucose levels\n",
    "     --for those with diabetes alone, hba1c levels were slightly more correlated to blood glucose levels than bmi\n",
    "     --for those without diabetes alone, bmi was slightly more correlated to blood glucose levels than hba1c levels\n",
    " - Based on our cluster plot of blood glucose vs. hba1c level we noticed that those with higher blood glucose levels clustered with higher hba1c levels, and those with lower blood glucose levels clustered with lower hba1c levels as well.\n",
    " - Our cluster plot of bmi vs. blood glucose level showede us that these properties do not cluster well and people across blood glucose levels can have ant range of bmi's.\n",
    " - A 3d cluster plot of bmi, blood glucose levels, hba1c level for diabetics and non-diabetics shows us that bmi and hba1c levels cluster very well with respect to diabetes status and these two features set the two groups apart are bg and hba1c levels, in comparison to bmi values.\n",
    " - In order to perform regression testing, we first performed PCA to determine what the most variable features in our dataset(s) were. We found that for non-diabetics, the most variable features were age and hypertension while for diabetics, it was age and heart disease.\n",
    " - After performing regression testing to see the predictablity of blood glucose levels based on age information for patients with and w/o diabetes, we came to the conclusion that age is not a significant predictor of blood glucose levels with RMSE values for diabetics of 58.5 and for non-diabetics: 34.3."
   ]
  },
  {
   "cell_type": "markdown",
   "metadata": {},
   "source": [
    "## Team Contributions (!)\n",
    "\n",
    "**Needs to be fixed**\n",
    "- Harshita Saha: Background, ...\n",
    "- Anastasiya Markova: Prior Research, ...\n",
    "- Conner Hsu: Dataset, ...\n",
    "- Sidharth Srinath: Ethics & Privacy, ..."
   ]
  },
  {
   "cell_type": "code",
   "execution_count": null,
   "metadata": {},
   "outputs": [],
   "source": []
  },
  {
   "cell_type": "code",
   "execution_count": null,
   "metadata": {},
   "outputs": [],
   "source": []
  },
  {
   "cell_type": "code",
   "execution_count": null,
   "metadata": {},
   "outputs": [],
   "source": []
  }
 ],
 "metadata": {
  "kernelspec": {
   "display_name": "Python 3 (ipykernel)",
   "language": "python",
   "name": "python3"
  },
  "language_info": {
   "codemirror_mode": {
    "name": "ipython",
    "version": 3
   },
   "file_extension": ".py",
   "mimetype": "text/x-python",
   "name": "python",
   "nbconvert_exporter": "python",
   "pygments_lexer": "ipython3",
   "version": "3.9.10"
  }
 },
 "nbformat": 4,
 "nbformat_minor": 2
}
