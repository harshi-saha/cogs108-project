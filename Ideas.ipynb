{
 "cells": [
  {
   "cell_type": "code",
   "execution_count": 1,
   "id": "e1a0a4e8",
   "metadata": {},
   "outputs": [
    {
     "ename": "SyntaxError",
     "evalue": "invalid syntax (2661987379.py, line 3)",
     "output_type": "error",
     "traceback": [
      "\u001b[0;36m  Cell \u001b[0;32mIn[1], line 3\u001b[0;36m\u001b[0m\n\u001b[0;31m    Now we want to see how our features of interest (`hba1c`, `bmi`, `age`) differ between different groups of blood glucose levels. In other words are the means of hba1c, bmi, and age levels different between low, normal, and high blood_glucose levels in a meaningful way. To do this we perform a one-way anova tests\u001b[0m\n\u001b[0m        ^\u001b[0m\n\u001b[0;31mSyntaxError\u001b[0m\u001b[0;31m:\u001b[0m invalid syntax\n"
     ]
    }
   ],
   "source": [
    "#### ANOVA\n",
    "\n",
    "Now we want to see how our features of interest (`hba1c`, `bmi`, `age`) differ between different groups of blood glucose levels. In other words are the means of hba1c, bmi, and age levels different between low, normal, and high blood_glucose levels in a meaningful way. To do this we perform a one-way anova tests\n",
    "\n",
    "from scipy.stats import f_oneway\n",
    "\n",
    "#### HbA1c Levels\n",
    "\n",
    "Null: The mean `hba1c` level of patients with high, normal, and low blood glucose levels are the same\n",
    "\n",
    "Alternative: The mean `hba1c` levels of the patients  with high, normal, and low blood glucose levels are not the same.\n",
    "\n",
    "\n",
    "#define groups\n",
    "low = df[df['bg_label'] == 'low']['hba1c']\n",
    "normal = df[df['bg_label'] == 'normal']['hba1c']\n",
    "high =  df[df['bg_label'] == 'high']['hba1c']\n",
    "\n",
    "\n",
    "#Confirm Requirements\n",
    "\n",
    "#samples are independent\n",
    "#each sample comes from a normally distributed population\n",
    "#the standard deviations of each sample are the same\n",
    "print(f'Standard Deviations low: {np.std(low)}, normal: {np.std(normal)}, high: {np.std(high)}')\n",
    "\n",
    "fanova1, ax_anova1 = plt.subplots(1,3)\n",
    "fanova1.suptitle('Distribution of hba1c levels based on blood glucose levels')\n",
    "fanova1.set_figwidth(15) \n",
    "sns.histplot(data=low, ax=ax_anova1[0], bins=10).set(title='low')\n",
    "sns.histplot(data=normal, ax=ax_anova1[1], bins=10).set(title='normal')\n",
    "sns.histplot(data=high, ax=ax_anova1[2], bins=10).set(title='high')\n",
    "\n",
    "def p_vals(col_name):\n",
    "    low = df[df['bg_label'] == 'low'][col_name]\n",
    "    normal = df[df['bg_label'] == 'normal'][col_name]\n",
    "    high =  df[df['bg_label'] == 'high'][col_name]\n",
    "    np.std(low), np.std(normal), np.std(high)\n",
    "    return f_oneway(low, normal, high, axis=0).pvalue\n",
    "\n"
   ]
  },
  {
   "cell_type": "code",
   "execution_count": null,
   "id": "eefb77d5",
   "metadata": {},
   "outputs": [],
   "source": []
  }
 ],
 "metadata": {
  "kernelspec": {
   "display_name": "Python 3 (ipykernel)",
   "language": "python",
   "name": "python3"
  },
  "language_info": {
   "codemirror_mode": {
    "name": "ipython",
    "version": 3
   },
   "file_extension": ".py",
   "mimetype": "text/x-python",
   "name": "python",
   "nbconvert_exporter": "python",
   "pygments_lexer": "ipython3",
   "version": "3.10.9"
  }
 },
 "nbformat": 4,
 "nbformat_minor": 5
}
