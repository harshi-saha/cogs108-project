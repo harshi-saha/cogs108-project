{
 "cells": [
  {
   "cell_type": "markdown",
   "metadata": {},
   "source": [
    "# COGS 108 - Final Project Proposal"
   ]
  },
  {
   "cell_type": "markdown",
   "metadata": {},
   "source": [
    "# Names\n",
    "- Harshita Saha\n",
    "- Anastasiya Markova\n",
    "- Conner Hsu\n",
    "- Sidharth Srinath"
   ]
  },
  {
   "cell_type": "markdown",
   "metadata": {},
   "source": [
    "# Research Question - together"
   ]
  },
  {
   "cell_type": "markdown",
   "metadata": {},
   "source": [
    "-  Include a specific, clear data science question.\n",
    "-  Make sure what you're measuring (variables) to answer the question is clear\n",
    "\n",
    "What is your research question? Include the specific question you're setting out to answer. This question should be specific, answerable with data, be related to data science and clear. A general question with specific subquestions is permitted. You should NOT include a prediction of what you think or assume the outcome will be. This is only a question. (1-2 sentences)\n",
    "\n",
    "---\n",
    "\n",
    "-  Given the features of 'gender', 'age', 'bmi', and 'HbA1c_level', between cohorts with and without diabetes, which features most correlate to the measure of 'blood_glucose_level'?\n",
    "-  Between cohorts with and without diabetes, do the single features that most correlate to the measure of 'blood_glucose_level' differ?\n",
    "\n",
    "(what features most correlate for each cohort, and are they different for each?)b"
   ]
  },
  {
   "cell_type": "markdown",
   "metadata": {},
   "source": [
    "# Background and Prior Work\n",
    "\n",
    "### Background - Harshi\n",
    "### Prior Work - Anastasiya"
   ]
  },
  {
   "cell_type": "markdown",
   "metadata": {},
   "source": [
    "\n",
    "- Include a general introduction to your topic\n",
    "- Include explanation of what work has been done previously\n",
    "- Include citations or links to previous work\n",
    "\n",
    "This section will present the background and context of your topic and question in a few paragraphs. Include a general introduction to your topic and then describe what information you currently know about the topic after doing your initial research. Include references to other projects who have asked similar questions or approached similar problems. Explain what others have learned in their projects.\n",
    "\n",
    "Find some relevant prior work, and reference those sources, summarizing what each did and what they learned. Even if you think you have a totally novel question, find the most similar prior work that you can and discuss how it relates to your project.\n",
    "\n",
    "References can be research publications, but they need not be. Blogs, GitHub repositories, company websites, etc., are all viable references if they are relevant to your project. It must be clear which information comes from which references. (2-3 paragraphs, including at least 2 references)\n",
    "\n",
    " **Use inline citation through Markdown footnotes to specify which references support which statements** \n",
    "\n",
    "---\n",
    "\n",
    " When food enters the body, it is broken down into sugar (glucose), which is then absorbed by cells to use as energy. Specifically, an increase of sugar in the bloodstream signals the pancreas to release insulin, and then insulin in turn signals cells to absorb the sugar, which can then be used as energy (1). \n",
    "    \n",
    " Diabetes is a disease that involves the inability of the body to effectively process sugar in this manner, and when sugar accumulates in the blood stream it results in the symptoms associated with diabetes, such as heart and kidney disease, vision loss, and nerve damage (1). \n",
    "    \n",
    " When cells are exposed to high levels of insulin for long durations, they develop insulin resistance, which means they do not absorb glucose from the bloodstream at levels they are supposed to (2). This is type 2 diabetes, which can develop over many years, and is the type that affects 90-95% of those with diabetes (2).  \n",
    "    \n",
    " In contrast, even when cells have the ability to respond to insulin, autoimmune reactions can cause the body to destroy the cells in the pancreas that produce insulin, so the cells never receive a signal to absorb glucose from the bloodstream (3). This is type 1 diabetes, which involves the trigerring of genetic factors, and is the type that affects 5-10% of those with diabetes (3). \n",
    "\n",
    " The inability of the body to effectively process sugar when affected by diabetes results in higher blood glucose levels, increasing the risk of heart disease and hypertension (4). Diabetes is also linked to increased HbA1c, which refers to the amount of red blood cells coated in glucose as a result of sugar in the bloodstream (5). Factors like age, bmi, and smoking can affect the risk of developing diabetes, and men are also more likely to have diabetes than women (6, 7, 8). \n",
    "\n",
    "- (1) Centers for Disease Control and Prevention. (2023, April 24). What is diabetes?. Centers for Disease Control and Prevention. https://www.cdc.gov/diabetes/basics/diabetes.html \n",
    "- (2) Centers for Disease Control and Prevention. (2023, April 18). Type 2 diabetes. Centers for Disease Control and Prevention. https://www.cdc.gov/diabetes/basics/type2.html \n",
    "- (3) Centers for Disease Control and Prevention. (2022, March 11). What is type 1 diabetes?. Centers for Disease Control and Prevention. https://www.cdc.gov/diabetes/basics/what-is-type-1-diabetes.html \n",
    "- (4) Centers for Disease Control and Prevention. (2022, June 20). Diabetes and your heart. Centers for Disease Control and Prevention. https://www.cdc.gov/diabetes/library/features/diabetes-and-heart.html \n",
    "- (5) Centers for Disease Control and Prevention. (2022, September 30). All about your A1C. Centers for Disease Control and Prevention. https://www.cdc.gov/diabetes/managing/managing-blood-sugar/a1c.html\n",
    "- (6) Centers for Disease Control and Prevention. (2022, April 5). Diabetes risk factors. Centers for Disease Control and Prevention. https://www.cdc.gov/diabetes/basics/risk-factors.html \n",
    "- (7) FDA. (2020, April 5). Cigarette smoking: A risk factor for type 2 diabetes. U.S. Food and Drug Administration. https://www.fda.gov/tobacco-products/health-effects-tobacco-use/cigarette-smoking-risk-factor-type-2-diabetes\n",
    "- (8) Nordstrom, A., Hadrevi, J., Olsson, T., Franks, P. W., Nordstrom, P. (2016, October 16). Higher Prevalence of Type 2 Diabetes in Men Than in Women Is Associated With Differences in Visceral Fat Mass . The Journal of Clinical Endocrinology and Metabolism. https://academic.oup.com/jcem/article/101/10/3740/2764924 \n",
    "\n",
    "\n",
    "**Prior Research**\n",
    "\n",
    "Since diabetes is a very common illness there have been many research studies associated with its risk factors. Previous research study that synthesized multiple data sources and analysis found that there are many different risk factors of diabetes. Some of these risk factos are alcohol consumption, tobacco use, lack of exercise, obesity, high blood pressure, stress, hereditary conditions, and demographics. Overall, they found that the two most influencing factors to developing diabetes are Triglyceride (TG) and hemoglobin (A1C), both heavily influenced by BMI. (1) Other studies seems to agree with this finding. In a study that used logistic regression and classification tree to predict diabetes, the researchers found that the most influential factors in predicting diabetes are BMI, pedigree, and glucose. Using these 3 main features both models were able to achieve accuracy of 78% and 74% respectively. (2) Another study utilized various analysis methods (bivariate Pearson Analysis, network analysis, ROC analysis) and concluded that out of all of the features BMI was the most influention in predicting Diabetes. Furthermore, it also found high colinearity between diabetes, BMI, cholestrol, HbA1c, and age, as well as some other features used in the study. (3) It seems that most of the studies agree that BMI, family history and glucose levels are good predictors of diabetes. BMI appears to be the most influential one, but it also seems to have a relationship with other features. Based on this information we want to further explore if one feature can be predicted by another and whether this differs for those with and without diabetes.\n",
    " \n",
    "- (1)Hussein, W. N., Mohammed, Z. M., &amp; Mohammed, A. N. (2022). Identifying risk factors associated with type 2 diabetes based on data analysis. Measurement: Sensors, 24, 100543. https://doi.org/10.1016/j.measen.2022.100543 \n",
    "- (2)Joshi, R. D., &amp; Dhakal, C. K. (2021). Predicting type 2 diabetes using logistic regression and machine learning approaches. International Journal of Environmental Research and Public Health, 18(14), 7346. https://doi.org/10.3390/ijerph18147346 \n",
    "- (3)Kowsar, R., &amp; Mansouri, A. (2022). Multi-level analysis reveals the association between diabetes, body mass index, and hba1c in an Iraqi population. Scientific Reports, 12(1). https://doi.org/10.1038/s41598-022-25813-y \n"
   ]
  },
  {
   "cell_type": "markdown",
   "metadata": {},
   "source": [
    "# Hypothesis - together\n"
   ]
  },
  {
   "cell_type": "markdown",
   "metadata": {},
   "source": [
    "- Include your team's research hypothesis and null hypothesis\n",
    "- Ensure that this hypothesis is clear and concise\n",
    "\n",
    "Your hypothesis should NOT include your interpretation or assumptions about an outcome, only the highly refined version of your question. Your interpretation should be determined by the analysis and results, and will be discussed in the conclusion of your report.\n",
    " (2-3 sentences)\n",
    "\n",
    "---\n",
    "Note: `hba1c` is an observation of the level of glucose attached to RBCs, due to dysfunction of the glucose uptake pathway in the body. [link](https://www.diabetes.org.uk/guide-to-diabetes/managing-your-diabetes/hba1c)\n",
    "\n",
    "Research hypotheses:\n",
    "\n",
    "-  For cohorts with diabetes, we hypothesize that `hba1c` most correlates to the measure of `blood_glucose_level`. \n",
    "\n",
    "-  For cohorts without diabetes, we hypothesize that `bmi` most correlates to the measure of `blood_glucose_level`. \n",
    "\n",
    "Null hypothesis:\n",
    "\n",
    "- For cohorts with and without diabetes, the same features most correlate to the measure of `blood glucose level`.\n",
    "\n"
   ]
  },
  {
   "cell_type": "markdown",
   "metadata": {},
   "source": [
    "# Data - Conner"
   ]
  },
  {
   "cell_type": "markdown",
   "metadata": {},
   "source": [
    "1. Explain what is the **ideal** dataset for answering this question. (This should include: What variables? How many observations? Who/what/how would this data be collected? How would this data be stored/organized?)\n",
    "1. Search for potential **real** datasets that could provide you with something useful for this project.  You do not have to find every piece of data you will use, but you do need to have demonstrated some idea that (a) this data is available and (b) that this data may be different from what your ideal is, and you are considering strategies to use or adapt it or adapt your question.\n",
    "\n",
    "--- \n",
    "\n",
    "To answer this question, we would require a dataset that has many observations of patients with and without diabetes and records each patient's blood glucose levels and features that are possibly related to diabetes. Some features that come to mind include BMI, age, gender, HbA1c levels, smoking history, hypertension, heart disease, alcohol/drug usage, and exercise habits. With this information, we can draw correlations between these features and blood glucose levels.\n",
    "\n",
    "On Kaggle.com we have found a \n",
    "To answer this question, we have selected a [diabetes prediction dataset](https://www.kaggle.com/datasets/iammustafatz/diabetes-prediction-dataset?resource=download) provided on Kaggle.com. This dataset contains 100,000 observations of people with and without diabetes and records the gender, age, smoking history, hypertension, heart disease, BMI, HbA1c level, and blood glucose level of each person. This dataset is ideal to answer our research questions since it includes data on people with and without diabetes and includes information that is possibly related to blood glucose levels. "
   ]
  },
  {
   "cell_type": "markdown",
   "metadata": {},
   "source": [
    "# Ethics & Privacy - Sidharth"
   ]
  },
  {
   "cell_type": "markdown",
   "metadata": {},
   "source": [
    "There are potential ethical concerns with respect to privacy with the type of data we are working with. That being said, the data set we are using is from kaggle and it is completely anonymized and is likely a specific subset of a larger collection set. This means that are no single or combinations of identifying factors in the data we are propsing.\n",
    "The data was collected using EHR's (electronic health records) so there might biases in collection due the people who's data is recorded by health care providers and for the EHR's being more likely to develop health condiitions. \n",
    "We will assess our research question and the integrity of our projected findings with respect to our data set by considering the role of those biases in the data we are using and how we are using it.\n",
    "There are no other ethical issues that we have found with respect to the dataset we are proposing."
   ]
  },
  {
   "cell_type": "markdown",
   "metadata": {},
   "source": [
    "# Team Expectations - together"
   ]
  },
  {
   "cell_type": "markdown",
   "metadata": {},
   "source": [
    "\n",
    "Read over the [COGS108 Team Policies](https://github.com/drsimpkins-teaching/cogs108/blob/main/main_project/TeamPolicies.md) individually. Then, include your group’s expectations of one another for successful completion of your COGS108 project below. Discuss and agree on what all of your expectations are. Discuss how your team will communicate throughout the quarter and consider how you will communicate respectfully should conflicts arise. By including each member’s name above and by adding their name to the submission, you are indicating that you have read the COGS108 Team Policies, accept your team’s expectations below, and have every intention to fulfill them. These expectations are for your team’s use and benefit — they won’t be graded for their details.\n",
    "\n",
    "* We will communicate via messages and will meet in person or over zoom.\n",
    "* We will meet at least 2-3 times a week, and non-attendance should be communicated 4-6 hours in advance.\n",
    "* The group must meet on Mondays and Wednesdays at the very least.\n",
    "* We will be responsive and will communicate to the best of our availability.\n",
    "* Any messages or similar, that require immediate responses will receive one within 24 hours.\n",
    "* Project related asssignments should be completed 24 hours before the deadline to allow for revisions.\n",
    "* In the case of any struggles, individuals should reach out and delegate responsibilities asap.\n",
    "* In the case of any conflicts, all members of the group will agree to meet and resolve the issues.\n",
    "* We are a judgement free group, all members can come to each other for help with data science."
   ]
  },
  {
   "cell_type": "markdown",
   "metadata": {},
   "source": [
    "# Project Timeline Proposal - together"
   ]
  },
  {
   "cell_type": "markdown",
   "metadata": {},
   "source": [
    "Specify your team's project timeline. An example timeline has been provided. Changes the dates, times, names, and details to fit your group's plan.\n",
    "\n",
    "If you think you will need any special resources or training outside what we have covered in COGS 108 to solve your problem, then your proposal should state these clearly. For example, if you have selected a problem that involves implementing multiple neural networks, please state this so we can make sure you are on track for success and so we can point you to resources you will need to implement your project. Note that you are not required to use outside methods.\n",
    "\n",
    "\n",
    "\n",
    "| Meeting Date  | Meeting Time (PST) | Completed Before Meeting  | Discuss at Meeting |\n",
    "|---|---|---|---|\n",
    "| 7/10 | 12 PM | NA | Begin project proposal and divide work. | \n",
    "| 7/12 | 12 PM | Begin individual contributions to project proposal.  | Finalize project proposal and divide up survey.| \n",
    "| 7/14 | 12 PM | Finalize proposal and survey, and submit. | Begin data wrangling/cleaning, split up work. | \n",
    "| 7/17 | 12 PM | Continue data processing, begin EDA. | Check in with each other's work. | \n",
    "| 7/19 | 12 PM | Finish data processing. | Check in with each other's work. | \n",
    "| 7/21 | 12 PM | Work on EDA. | Check in, finalize checkpoint 1. |\n",
    "| 7/24 | 12 PM | Finish EDA. | Check in, begin final report write up. |\n",
    "| 7/26 | 12 PM | Work on final report. | Check in, begin video slides. |\n",
    "| 7/28 | 12 PM | Work on video slides. | Finalize checkpoint 2, check in. | \n",
    "| 7/31 | 12 PM | Finish video slides. | Record video. |\n",
    "| 8/2  | 12 PM | Finalize report and edit video. | Finalize all submission materials. |\n",
    "| 8/4  | Before 11:59 PM  | Last minute changes. | Turn in Final Project & Group Project Surveys. |"
   ]
  },
  {
   "cell_type": "code",
   "execution_count": null,
   "metadata": {},
   "outputs": [],
   "source": []
  }
 ],
 "metadata": {
  "kernelspec": {
   "display_name": "Python 3 (ipykernel)",
   "language": "python",
   "name": "python3"
  },
  "language_info": {
   "codemirror_mode": {
    "name": "ipython",
    "version": 3
   },
   "file_extension": ".py",
   "mimetype": "text/x-python",
   "name": "python",
   "nbconvert_exporter": "python",
   "pygments_lexer": "ipython3",
   "version": "3.8.15"
  }
 },
 "nbformat": 4,
 "nbformat_minor": 2
}
