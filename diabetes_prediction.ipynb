{
 "cells": [
  {
   "cell_type": "markdown",
   "id": "dd4fb1f9",
   "metadata": {},
   "source": [
    "#### COGS 108 Project"
   ]
  },
  {
   "cell_type": "code",
   "execution_count": 1,
   "id": "7dfe73c7",
   "metadata": {},
   "outputs": [
    {
     "name": "stdout",
     "output_type": "stream",
     "text": [
      "Requirement already satisfied: matplotlib==3.7.2 in /Users/sidharthsrinath/.pyenv/versions/3.9.9/lib/python3.9/site-packages (3.7.2)\n",
      "Requirement already satisfied: kiwisolver>=1.0.1 in /Users/sidharthsrinath/.pyenv/versions/3.9.9/lib/python3.9/site-packages (from matplotlib==3.7.2) (1.4.2)\n",
      "Requirement already satisfied: pillow>=6.2.0 in /Users/sidharthsrinath/.pyenv/versions/3.9.9/lib/python3.9/site-packages (from matplotlib==3.7.2) (9.1.0)\n",
      "Requirement already satisfied: python-dateutil>=2.7 in /Users/sidharthsrinath/.pyenv/versions/3.9.9/lib/python3.9/site-packages (from matplotlib==3.7.2) (2.8.2)\n",
      "Requirement already satisfied: fonttools>=4.22.0 in /Users/sidharthsrinath/.pyenv/versions/3.9.9/lib/python3.9/site-packages (from matplotlib==3.7.2) (4.32.0)\n",
      "Requirement already satisfied: numpy>=1.20 in /Users/sidharthsrinath/.pyenv/versions/3.9.9/lib/python3.9/site-packages (from matplotlib==3.7.2) (1.22.3)\n",
      "Requirement already satisfied: packaging>=20.0 in /Users/sidharthsrinath/.pyenv/versions/3.9.9/lib/python3.9/site-packages (from matplotlib==3.7.2) (21.3)\n",
      "Requirement already satisfied: pyparsing<3.1,>=2.3.1 in /Users/sidharthsrinath/.pyenv/versions/3.9.9/lib/python3.9/site-packages (from matplotlib==3.7.2) (3.0.8)\n",
      "Requirement already satisfied: contourpy>=1.0.1 in /Users/sidharthsrinath/.pyenv/versions/3.9.9/lib/python3.9/site-packages (from matplotlib==3.7.2) (1.1.0)\n",
      "Requirement already satisfied: importlib-resources>=3.2.0 in /Users/sidharthsrinath/.pyenv/versions/3.9.9/lib/python3.9/site-packages (from matplotlib==3.7.2) (6.0.0)\n",
      "Requirement already satisfied: cycler>=0.10 in /Users/sidharthsrinath/.pyenv/versions/3.9.9/lib/python3.9/site-packages (from matplotlib==3.7.2) (0.11.0)\n",
      "Requirement already satisfied: zipp>=3.1.0 in /Users/sidharthsrinath/.pyenv/versions/3.9.9/lib/python3.9/site-packages (from importlib-resources>=3.2.0->matplotlib==3.7.2) (3.16.2)\n",
      "Requirement already satisfied: six>=1.5 in /Users/sidharthsrinath/.pyenv/versions/3.9.9/lib/python3.9/site-packages (from python-dateutil>=2.7->matplotlib==3.7.2) (1.16.0)\n",
      "\u001b[33mWARNING: You are using pip version 21.2.4; however, version 23.2.1 is available.\n",
      "You should consider upgrading via the '/Users/sidharthsrinath/.pyenv/versions/3.9.9/bin/python3.9 -m pip install --upgrade pip' command.\u001b[0m\n",
      "Requirement already satisfied: pandas==2.0.2 in /Users/sidharthsrinath/.pyenv/versions/3.9.9/lib/python3.9/site-packages (2.0.2)\n",
      "Requirement already satisfied: pytz>=2020.1 in /Users/sidharthsrinath/.pyenv/versions/3.9.9/lib/python3.9/site-packages (from pandas==2.0.2) (2023.3)\n",
      "Requirement already satisfied: numpy>=1.20.3 in /Users/sidharthsrinath/.pyenv/versions/3.9.9/lib/python3.9/site-packages (from pandas==2.0.2) (1.22.3)\n",
      "Requirement already satisfied: python-dateutil>=2.8.2 in /Users/sidharthsrinath/.pyenv/versions/3.9.9/lib/python3.9/site-packages (from pandas==2.0.2) (2.8.2)\n",
      "Requirement already satisfied: tzdata>=2022.1 in /Users/sidharthsrinath/.pyenv/versions/3.9.9/lib/python3.9/site-packages (from pandas==2.0.2) (2023.3)\n",
      "Requirement already satisfied: six>=1.5 in /Users/sidharthsrinath/.pyenv/versions/3.9.9/lib/python3.9/site-packages (from python-dateutil>=2.8.2->pandas==2.0.2) (1.16.0)\n",
      "\u001b[33mWARNING: You are using pip version 21.2.4; however, version 23.2.1 is available.\n",
      "You should consider upgrading via the '/Users/sidharthsrinath/.pyenv/versions/3.9.9/bin/python3.9 -m pip install --upgrade pip' command.\u001b[0m\n",
      "\n",
      "Usage:   \n",
      "  pip install [options] <requirement specifier> [package-index-options] ...\n",
      "  pip install [options] -r <requirements file> [package-index-options] ...\n",
      "  pip install [options] [-e] <vcs project url> ...\n",
      "  pip install [options] [-e] <local project path> ...\n",
      "  pip install [options] <archive url/path> ...\n",
      "\n",
      "no such option: --yes\n"
     ]
    }
   ],
   "source": [
    "!pip install matplotlib==3.7.2\n",
    "!pip install pandas==2.0.2\n",
    "!pip install seaborn --yes\n"
   ]
  },
  {
   "cell_type": "code",
   "execution_count": 2,
   "id": "fe9e8cc7",
   "metadata": {},
   "outputs": [],
   "source": [
    "import numpy as np\n",
    "import pandas as pd\n",
    "import matplotlib.pyplot as plt\n",
    "import seaborn as sns"
   ]
  },
  {
   "cell_type": "markdown",
   "id": "97cb6936",
   "metadata": {},
   "source": [
    "#### Fetching data"
   ]
  },
  {
   "cell_type": "markdown",
   "id": "5f139e3a",
   "metadata": {},
   "source": [
    "link to the dataset can be found [here](https://www.kaggle.com/datasets/iammustafatz/diabetes-prediction-dataset?resource=download)."
   ]
  },
  {
   "cell_type": "code",
   "execution_count": 3,
   "id": "f9bfb2e4",
   "metadata": {},
   "outputs": [
    {
     "data": {
      "text/html": [
       "<div>\n",
       "<style scoped>\n",
       "    .dataframe tbody tr th:only-of-type {\n",
       "        vertical-align: middle;\n",
       "    }\n",
       "\n",
       "    .dataframe tbody tr th {\n",
       "        vertical-align: top;\n",
       "    }\n",
       "\n",
       "    .dataframe thead th {\n",
       "        text-align: right;\n",
       "    }\n",
       "</style>\n",
       "<table border=\"1\" class=\"dataframe\">\n",
       "  <thead>\n",
       "    <tr style=\"text-align: right;\">\n",
       "      <th></th>\n",
       "      <th>gender</th>\n",
       "      <th>age</th>\n",
       "      <th>hypertension</th>\n",
       "      <th>heart_disease</th>\n",
       "      <th>smoking_history</th>\n",
       "      <th>bmi</th>\n",
       "      <th>HbA1c_level</th>\n",
       "      <th>blood_glucose_level</th>\n",
       "      <th>diabetes</th>\n",
       "    </tr>\n",
       "  </thead>\n",
       "  <tbody>\n",
       "    <tr>\n",
       "      <th>0</th>\n",
       "      <td>Female</td>\n",
       "      <td>80.0</td>\n",
       "      <td>0</td>\n",
       "      <td>1</td>\n",
       "      <td>never</td>\n",
       "      <td>25.19</td>\n",
       "      <td>6.6</td>\n",
       "      <td>140</td>\n",
       "      <td>0</td>\n",
       "    </tr>\n",
       "    <tr>\n",
       "      <th>1</th>\n",
       "      <td>Female</td>\n",
       "      <td>54.0</td>\n",
       "      <td>0</td>\n",
       "      <td>0</td>\n",
       "      <td>No Info</td>\n",
       "      <td>27.32</td>\n",
       "      <td>6.6</td>\n",
       "      <td>80</td>\n",
       "      <td>0</td>\n",
       "    </tr>\n",
       "    <tr>\n",
       "      <th>2</th>\n",
       "      <td>Male</td>\n",
       "      <td>28.0</td>\n",
       "      <td>0</td>\n",
       "      <td>0</td>\n",
       "      <td>never</td>\n",
       "      <td>27.32</td>\n",
       "      <td>5.7</td>\n",
       "      <td>158</td>\n",
       "      <td>0</td>\n",
       "    </tr>\n",
       "    <tr>\n",
       "      <th>3</th>\n",
       "      <td>Female</td>\n",
       "      <td>36.0</td>\n",
       "      <td>0</td>\n",
       "      <td>0</td>\n",
       "      <td>current</td>\n",
       "      <td>23.45</td>\n",
       "      <td>5.0</td>\n",
       "      <td>155</td>\n",
       "      <td>0</td>\n",
       "    </tr>\n",
       "    <tr>\n",
       "      <th>4</th>\n",
       "      <td>Male</td>\n",
       "      <td>76.0</td>\n",
       "      <td>1</td>\n",
       "      <td>1</td>\n",
       "      <td>current</td>\n",
       "      <td>20.14</td>\n",
       "      <td>4.8</td>\n",
       "      <td>155</td>\n",
       "      <td>0</td>\n",
       "    </tr>\n",
       "  </tbody>\n",
       "</table>\n",
       "</div>"
      ],
      "text/plain": [
       "   gender   age  hypertension  heart_disease smoking_history    bmi  \\\n",
       "0  Female  80.0             0              1           never  25.19   \n",
       "1  Female  54.0             0              0         No Info  27.32   \n",
       "2    Male  28.0             0              0           never  27.32   \n",
       "3  Female  36.0             0              0         current  23.45   \n",
       "4    Male  76.0             1              1         current  20.14   \n",
       "\n",
       "   HbA1c_level  blood_glucose_level  diabetes  \n",
       "0          6.6                  140         0  \n",
       "1          6.6                   80         0  \n",
       "2          5.7                  158         0  \n",
       "3          5.0                  155         0  \n",
       "4          4.8                  155         0  "
      ]
     },
     "execution_count": 3,
     "metadata": {},
     "output_type": "execute_result"
    }
   ],
   "source": [
    "# loading in the datatset \n",
    "# csv assumed to be in the same directory as this notebook\n",
    "df_original = pd.read_csv('diabetes_prediction_dataset.csv')\n",
    "df_original.head()"
   ]
  },
  {
   "cell_type": "code",
   "execution_count": 4,
   "id": "0d3f7936",
   "metadata": {},
   "outputs": [
    {
     "data": {
      "text/plain": [
       "(100000, 9)"
      ]
     },
     "execution_count": 4,
     "metadata": {},
     "output_type": "execute_result"
    }
   ],
   "source": [
    "# there are 100,000 records\n",
    "df_original.shape"
   ]
  },
  {
   "cell_type": "code",
   "execution_count": 5,
   "id": "795260c0",
   "metadata": {},
   "outputs": [
    {
     "data": {
      "text/plain": [
       "gender                 0\n",
       "age                    0\n",
       "hypertension           0\n",
       "heart_disease          0\n",
       "smoking_history        0\n",
       "bmi                    0\n",
       "HbA1c_level            0\n",
       "blood_glucose_level    0\n",
       "diabetes               0\n",
       "dtype: int64"
      ]
     },
     "execution_count": 5,
     "metadata": {},
     "output_type": "execute_result"
    }
   ],
   "source": [
    "# checking for null values\n",
    "df_original.isna().sum()"
   ]
  },
  {
   "cell_type": "code",
   "execution_count": 6,
   "id": "958baf59",
   "metadata": {},
   "outputs": [
    {
     "name": "stdout",
     "output_type": "stream",
     "text": [
      "<class 'pandas.core.frame.DataFrame'>\n",
      "RangeIndex: 100000 entries, 0 to 99999\n",
      "Data columns (total 9 columns):\n",
      " #   Column               Non-Null Count   Dtype  \n",
      "---  ------               --------------   -----  \n",
      " 0   gender               100000 non-null  object \n",
      " 1   age                  100000 non-null  float64\n",
      " 2   hypertension         100000 non-null  int64  \n",
      " 3   heart_disease        100000 non-null  int64  \n",
      " 4   smoking_history      100000 non-null  object \n",
      " 5   bmi                  100000 non-null  float64\n",
      " 6   HbA1c_level          100000 non-null  float64\n",
      " 7   blood_glucose_level  100000 non-null  int64  \n",
      " 8   diabetes             100000 non-null  int64  \n",
      "dtypes: float64(3), int64(4), object(2)\n",
      "memory usage: 6.9+ MB\n"
     ]
    }
   ],
   "source": [
    "# checking the type of each column\n",
    "df_original.info()"
   ]
  },
  {
   "cell_type": "code",
   "execution_count": 7,
   "id": "07f665b7",
   "metadata": {},
   "outputs": [
    {
     "data": {
      "text/html": [
       "<div>\n",
       "<style scoped>\n",
       "    .dataframe tbody tr th:only-of-type {\n",
       "        vertical-align: middle;\n",
       "    }\n",
       "\n",
       "    .dataframe tbody tr th {\n",
       "        vertical-align: top;\n",
       "    }\n",
       "\n",
       "    .dataframe thead th {\n",
       "        text-align: right;\n",
       "    }\n",
       "</style>\n",
       "<table border=\"1\" class=\"dataframe\">\n",
       "  <thead>\n",
       "    <tr style=\"text-align: right;\">\n",
       "      <th></th>\n",
       "      <th>age</th>\n",
       "      <th>bmi</th>\n",
       "      <th>HbA1c_level</th>\n",
       "      <th>blood_glucose_level</th>\n",
       "    </tr>\n",
       "  </thead>\n",
       "  <tbody>\n",
       "    <tr>\n",
       "      <th>count</th>\n",
       "      <td>100000.000000</td>\n",
       "      <td>100000.000000</td>\n",
       "      <td>100000.000000</td>\n",
       "      <td>100000.000000</td>\n",
       "    </tr>\n",
       "    <tr>\n",
       "      <th>mean</th>\n",
       "      <td>41.885856</td>\n",
       "      <td>27.320767</td>\n",
       "      <td>5.527507</td>\n",
       "      <td>138.058060</td>\n",
       "    </tr>\n",
       "    <tr>\n",
       "      <th>std</th>\n",
       "      <td>22.516840</td>\n",
       "      <td>6.636783</td>\n",
       "      <td>1.070672</td>\n",
       "      <td>40.708136</td>\n",
       "    </tr>\n",
       "    <tr>\n",
       "      <th>min</th>\n",
       "      <td>0.080000</td>\n",
       "      <td>10.010000</td>\n",
       "      <td>3.500000</td>\n",
       "      <td>80.000000</td>\n",
       "    </tr>\n",
       "    <tr>\n",
       "      <th>25%</th>\n",
       "      <td>24.000000</td>\n",
       "      <td>23.630000</td>\n",
       "      <td>4.800000</td>\n",
       "      <td>100.000000</td>\n",
       "    </tr>\n",
       "    <tr>\n",
       "      <th>50%</th>\n",
       "      <td>43.000000</td>\n",
       "      <td>27.320000</td>\n",
       "      <td>5.800000</td>\n",
       "      <td>140.000000</td>\n",
       "    </tr>\n",
       "    <tr>\n",
       "      <th>75%</th>\n",
       "      <td>60.000000</td>\n",
       "      <td>29.580000</td>\n",
       "      <td>6.200000</td>\n",
       "      <td>159.000000</td>\n",
       "    </tr>\n",
       "    <tr>\n",
       "      <th>max</th>\n",
       "      <td>80.000000</td>\n",
       "      <td>95.690000</td>\n",
       "      <td>9.000000</td>\n",
       "      <td>300.000000</td>\n",
       "    </tr>\n",
       "  </tbody>\n",
       "</table>\n",
       "</div>"
      ],
      "text/plain": [
       "                 age            bmi    HbA1c_level  blood_glucose_level\n",
       "count  100000.000000  100000.000000  100000.000000        100000.000000\n",
       "mean       41.885856      27.320767       5.527507           138.058060\n",
       "std        22.516840       6.636783       1.070672            40.708136\n",
       "min         0.080000      10.010000       3.500000            80.000000\n",
       "25%        24.000000      23.630000       4.800000           100.000000\n",
       "50%        43.000000      27.320000       5.800000           140.000000\n",
       "75%        60.000000      29.580000       6.200000           159.000000\n",
       "max        80.000000      95.690000       9.000000           300.000000"
      ]
     },
     "execution_count": 7,
     "metadata": {},
     "output_type": "execute_result"
    }
   ],
   "source": [
    "# checking the distribution of numerical values\n",
    "df_original.describe()[['age', 'bmi', 'HbA1c_level', 'blood_glucose_level']]"
   ]
  },
  {
   "cell_type": "code",
   "execution_count": 8,
   "id": "88fb9c62",
   "metadata": {},
   "outputs": [
    {
     "data": {
      "text/plain": [
       "gender\n",
       "Female    58552\n",
       "Male      41430\n",
       "Other        18\n",
       "Name: age, dtype: int64"
      ]
     },
     "execution_count": 8,
     "metadata": {},
     "output_type": "execute_result"
    }
   ],
   "source": [
    "df = df_original.copy()\n",
    "df['smoking_history'] = df['smoking_history'].str.lower()\n",
    "\n",
    "df.groupby(['gender']).count()['age'] "
   ]
  },
  {
   "cell_type": "code",
   "execution_count": 9,
   "id": "d5c9ca3f",
   "metadata": {},
   "outputs": [
    {
     "data": {
      "text/html": [
       "<div>\n",
       "<style scoped>\n",
       "    .dataframe tbody tr th:only-of-type {\n",
       "        vertical-align: middle;\n",
       "    }\n",
       "\n",
       "    .dataframe tbody tr th {\n",
       "        vertical-align: top;\n",
       "    }\n",
       "\n",
       "    .dataframe thead th {\n",
       "        text-align: right;\n",
       "    }\n",
       "</style>\n",
       "<table border=\"1\" class=\"dataframe\">\n",
       "  <thead>\n",
       "    <tr style=\"text-align: right;\">\n",
       "      <th></th>\n",
       "      <th>gender</th>\n",
       "      <th>age</th>\n",
       "      <th>hypertension</th>\n",
       "      <th>heart_disease</th>\n",
       "      <th>smoking_history</th>\n",
       "      <th>bmi</th>\n",
       "      <th>HbA1c_level</th>\n",
       "      <th>blood_glucose_level</th>\n",
       "      <th>diabetes</th>\n",
       "    </tr>\n",
       "  </thead>\n",
       "  <tbody>\n",
       "    <tr>\n",
       "      <th>0</th>\n",
       "      <td>Female</td>\n",
       "      <td>80.0</td>\n",
       "      <td>0</td>\n",
       "      <td>1</td>\n",
       "      <td>never</td>\n",
       "      <td>25.19</td>\n",
       "      <td>6.6</td>\n",
       "      <td>140</td>\n",
       "      <td>0</td>\n",
       "    </tr>\n",
       "    <tr>\n",
       "      <th>1</th>\n",
       "      <td>Female</td>\n",
       "      <td>54.0</td>\n",
       "      <td>0</td>\n",
       "      <td>0</td>\n",
       "      <td>no info</td>\n",
       "      <td>27.32</td>\n",
       "      <td>6.6</td>\n",
       "      <td>80</td>\n",
       "      <td>0</td>\n",
       "    </tr>\n",
       "    <tr>\n",
       "      <th>2</th>\n",
       "      <td>Male</td>\n",
       "      <td>28.0</td>\n",
       "      <td>0</td>\n",
       "      <td>0</td>\n",
       "      <td>never</td>\n",
       "      <td>27.32</td>\n",
       "      <td>5.7</td>\n",
       "      <td>158</td>\n",
       "      <td>0</td>\n",
       "    </tr>\n",
       "    <tr>\n",
       "      <th>3</th>\n",
       "      <td>Female</td>\n",
       "      <td>36.0</td>\n",
       "      <td>0</td>\n",
       "      <td>0</td>\n",
       "      <td>current</td>\n",
       "      <td>23.45</td>\n",
       "      <td>5.0</td>\n",
       "      <td>155</td>\n",
       "      <td>0</td>\n",
       "    </tr>\n",
       "    <tr>\n",
       "      <th>4</th>\n",
       "      <td>Male</td>\n",
       "      <td>76.0</td>\n",
       "      <td>1</td>\n",
       "      <td>1</td>\n",
       "      <td>current</td>\n",
       "      <td>20.14</td>\n",
       "      <td>4.8</td>\n",
       "      <td>155</td>\n",
       "      <td>0</td>\n",
       "    </tr>\n",
       "  </tbody>\n",
       "</table>\n",
       "</div>"
      ],
      "text/plain": [
       "   gender   age  hypertension  heart_disease smoking_history    bmi  \\\n",
       "0  Female  80.0             0              1           never  25.19   \n",
       "1  Female  54.0             0              0         no info  27.32   \n",
       "2    Male  28.0             0              0           never  27.32   \n",
       "3  Female  36.0             0              0         current  23.45   \n",
       "4    Male  76.0             1              1         current  20.14   \n",
       "\n",
       "   HbA1c_level  blood_glucose_level  diabetes  \n",
       "0          6.6                  140         0  \n",
       "1          6.6                   80         0  \n",
       "2          5.7                  158         0  \n",
       "3          5.0                  155         0  \n",
       "4          4.8                  155         0  "
      ]
     },
     "execution_count": 9,
     "metadata": {},
     "output_type": "execute_result"
    }
   ],
   "source": [
    "df = df[df['gender'] != 'Other']\n",
    "df.head()"
   ]
  },
  {
   "cell_type": "markdown",
   "id": "84dc1337",
   "metadata": {},
   "source": [
    "#### EDA"
   ]
  },
  {
   "cell_type": "code",
   "execution_count": 75,
   "id": "09523489",
   "metadata": {},
   "outputs": [
    {
     "data": {
      "text/plain": [
       "<Axes: xlabel='diabetes', ylabel='proportion'>"
      ]
     },
     "execution_count": 75,
     "metadata": {},
     "output_type": "execute_result"
    },
    {
     "data": {
      "image/png": "[encoded data removed]",
      "text/plain": [
       "<Figure size 576x576 with 3 Axes>"
      ]
     },
     "metadata": {
      "needs_background": "light"
     },
     "output_type": "display_data"
    }
   ],
   "source": [
    "gen_hyp = (df.groupby(['gender'])[['hypertension']]\n",
    "                        .value_counts(normalize=True)\n",
    "                        .rename('proportion')\n",
    "                        .rename({0:'No',1:\"Yes\"})\n",
    "                        .reset_index()\n",
    ")\n",
    "gen_hd = (df.groupby(['gender'])[['heart_disease']]\n",
    "                        .value_counts(normalize=True)\n",
    "                        .rename('proportion')\n",
    "                        .rename({0:'No',1:\"Yes\"})\n",
    "                        .reset_index()\n",
    ")\n",
    "gen_d = (df.groupby(['gender'])[['diabetes']]\n",
    "                        .value_counts(normalize=True)\n",
    "                        .rename('proportion')\n",
    "                        .rename({0:'No',1:\"Yes\"})\n",
    "                        .reset_index()\n",
    ")\n",
    "fig, axs = plt.subplots(ncols=3,figsize=(8,8))\n",
    "fig.tight_layout()\n",
    "sns.barplot(x='hypertension',y='proportion',hue='gender',data=gen_hyp,ax=axs[0])\n",
    "sns.barplot(x='heart_disease',y='proportion',hue='gender',data=gen_hd,ax=axs[1])\n",
    "sns.barplot(x='diabetes',y='proportion',hue='gender',data=gen_d,ax=axs[2])"
   ]
  },
  {
   "cell_type": "code",
   "execution_count": 74,
   "id": "f5062ab4",
   "metadata": {},
   "outputs": [
    {
     "data": {
      "text/plain": [
       "<Axes: xlabel='blood_glucose_level', ylabel='proportion'>"
      ]
     },
     "execution_count": 74,
     "metadata": {},
     "output_type": "execute_result"
    },
    {
     "data": {
      "image/png": "[encoded data removed]",
      "text/plain": [
       "<Figure size 576x576 with 4 Axes>"
      ]
     },
     "metadata": {
      "needs_background": "light"
     },
     "output_type": "display_data"
    }
   ],
   "source": [
    "# average 'age', 'bmi', 'HbA1c_level', 'blood_glucose_level' by gender\n",
    "gen_age = (df.groupby(['gender'])[['age']]\n",
    "                        .value_counts(normalize=True)\n",
    "                        .rename('proportion')\n",
    "                        .reset_index()\n",
    ")\n",
    "\n",
    "gen_bmi = (df.groupby(['gender'])[['bmi']]\n",
    "                        .value_counts(normalize=True)\n",
    "                        .rename('proportion')\n",
    "                        .reset_index()\n",
    ")\n",
    "\n",
    "gen_hba = (df.groupby(['gender'])[['HbA1c_level']]\n",
    "                        .value_counts(normalize=True)\n",
    "                        .rename('proportion')\n",
    "                        .reset_index()\n",
    ")\n",
    "gen_bgl= (df.groupby(['gender'])[['blood_glucose_level']]\n",
    "                        .value_counts(normalize=True)\n",
    "                        .rename('proportion')\n",
    "                        .reset_index()\n",
    ")\n",
    "fig, axs = plt.subplots(nrows=4,figsize=(8,8))\n",
    "fig.tight_layout()\n",
    "sns.histplot(x='age',y='proportion',hue='gender',data=gen_age, ax=axs[0])\n",
    "sns.lineplot(x='bmi',y='proportion',data=gen_bmi,ax=axs[1])\n",
    "sns.histplot(x='HbA1c_level',y='proportion',hue='gender',data=gen_hba,ax=axs[2])\n",
    "sns.histplot(x='blood_glucose_level',y='proportion',hue='gender',data=gen_bgl,ax=axs[3])"
   ]
  },
  {
   "cell_type": "code",
   "execution_count": 73,
   "id": "ff489985",
   "metadata": {},
   "outputs": [
    {
     "data": {
      "text/plain": [
       "<Axes: xlabel='labels', ylabel='heart_disease'>"
      ]
     },
     "execution_count": 73,
     "metadata": {},
     "output_type": "execute_result"
    },
    {
     "data": {
      "image/png": "[encoded data removed]",
      "text/plain": [
       "<Figure size 576x576 with 2 Axes>"
      ]
     },
     "metadata": {
      "needs_background": "light"
     },
     "output_type": "display_data"
    }
   ],
   "source": [
    "# proportion of 'hypertension', 'heart_disease' by diabetes status and gender\n",
    "dg_hthd = df.groupby(['diabetes', 'gender'])[['hypertension', 'heart_disease']].mean().rename({'Female':1,'Male':0}).reset_index()\n",
    "labels = ['Females w/o diabetes','Males w/o diabetes','Females w/ diabetes', 'Males w/ diabetes']\n",
    "dg_hthd['labels'] = labels\n",
    "fig, axs = plt.subplots(nrows=2,figsize=(8,8))\n",
    "fig.tight_layout()\n",
    "sns.barplot(x='labels',y='hypertension',data=dg_hthd, ax=axs[0])\n",
    "sns.barplot(x='labels',y='heart_disease',data=dg_hthd, ax=axs[1])\n"
   ]
  },
  {
   "cell_type": "code",
   "execution_count": 72,
   "id": "7cc6cac6",
   "metadata": {},
   "outputs": [
    {
     "data": {
      "text/plain": [
       "<Axes: xlabel='labels', ylabel='blood_glucose_level'>"
      ]
     },
     "execution_count": 72,
     "metadata": {},
     "output_type": "execute_result"
    },
    {
     "data": {
      "image/png": "[encoded data removed]",
      "text/plain": [
       "<Figure size 576x576 with 4 Axes>"
      ]
     },
     "metadata": {
      "needs_background": "light"
     },
     "output_type": "display_data"
    }
   ],
   "source": [
    "data2 = df.groupby(['diabetes', 'gender'])[['age', 'bmi', 'HbA1c_level', 'blood_glucose_level']].mean().reset_index()\n",
    "labels = ['Females w/o diabetes','Males w/o diabetes','Females w/ diabetes', 'Males w/ diabetes']\n",
    "data2['labels'] = labels\n",
    "\n",
    "fig, axs = plt.subplots(nrows=4,figsize=(8,8))\n",
    "fig.tight_layout()\n",
    "sns.barplot(x='labels',y='age',data=data2, ax=axs[0])\n",
    "sns.barplot(x='labels',y='bmi',data=data2, ax=axs[1])\n",
    "sns.barplot(x='labels',y='HbA1c_level',data=data2, ax=axs[2])\n",
    "sns.barplot(x='labels',y='blood_glucose_level',data=data2, ax=axs[3])"
   ]
  },
  {
   "cell_type": "code",
   "execution_count": 49,
   "id": "d8cdafd6",
   "metadata": {},
   "outputs": [],
   "source": [
    "# create age group bins to explore features by age group\n",
    "# justify and/or change ages chosen here\n",
    "bins = pd.cut(df['age'], [0, 5, 13, 18, 30, 45, 60, 80]) \n",
    "df['age_group'] = bins"
   ]
  },
  {
   "cell_type": "code",
   "execution_count": 71,
   "id": "414932c7",
   "metadata": {},
   "outputs": [
    {
     "data": {
      "text/plain": [
       "<Axes: xlabel='age_group', ylabel='heart_disease'>"
      ]
     },
     "execution_count": 71,
     "metadata": {},
     "output_type": "execute_result"
    },
    {
     "data": {
      "image/png": "[encoded data removed]",
      "text/plain": [
       "<Figure size 576x576 with 2 Axes>"
      ]
     },
     "metadata": {
      "needs_background": "light"
     },
     "output_type": "display_data"
    }
   ],
   "source": [
    "# proportion of 'hypertension', 'heart_disease', 'diabetes' by age group\n",
    "data3 = df.groupby(['age_group'])[['hypertension', 'heart_disease']].mean().reset_index()\n",
    "\n",
    "fig, axs = plt.subplots(nrows=2,figsize=(8,8))\n",
    "fig.tight_layout()\n",
    "sns.barplot(x='age_group',y='hypertension',data=data3,ax=axs[0])\n",
    "sns.barplot(x='age_group',y='heart_disease',data=data3,ax=axs[1])"
   ]
  },
  {
   "cell_type": "code",
   "execution_count": 70,
   "id": "ae873c20",
   "metadata": {},
   "outputs": [
    {
     "data": {
      "text/plain": [
       "<Axes: xlabel='age_group', ylabel='blood_glucose_level'>"
      ]
     },
     "execution_count": 70,
     "metadata": {},
     "output_type": "execute_result"
    },
    {
     "data": {
      "image/png": "[encoded data removed]",
      "text/plain": [
       "<Figure size 576x576 with 3 Axes>"
      ]
     },
     "metadata": {
      "needs_background": "light"
     },
     "output_type": "display_data"
    }
   ],
   "source": [
    "# average 'bmi', 'HbA1c_level', 'blood_glucose_level' by age group\n",
    "data4 = df.groupby('age_group')[['bmi', 'HbA1c_level', 'blood_glucose_level']].mean().reset_index() # or median\n",
    "\n",
    "fig, axs = plt.subplots(nrows=3,figsize=(8,8))\n",
    "fig.tight_layout()\n",
    "sns.barplot(x='age_group',y='bmi',data=data4, ax=axs[0])\n",
    "sns.barplot(x='age_group',y='HbA1c_level',data=data4, ax=axs[1])\n",
    "sns.barplot(x='age_group',y='blood_glucose_level',data=data4, ax=axs[2])\n"
   ]
  },
  {
   "cell_type": "code",
   "execution_count": 91,
   "id": "cd08f3bc",
   "metadata": {},
   "outputs": [
    {
     "data": {
      "text/plain": [
       "<Axes: xlabel='hypertension', ylabel='diabetes'>"
      ]
     },
     "execution_count": 91,
     "metadata": {},
     "output_type": "execute_result"
    },
    {
     "data": {
      "image/png": "[encoded data removed]",
      "text/plain": [
       "<Figure size 432x288 with 2 Axes>"
      ]
     },
     "metadata": {
      "needs_background": "light"
     },
     "output_type": "display_data"
    }
   ],
   "source": [
    "# proportion of 'heart_disease', 'diabetes' by hypertension status\n",
    "data5 = df.groupby('hypertension')[['heart_disease', 'diabetes']].mean().reset_index().rename({0:'no hypertension',1:'hypertension'})\n",
    "\n",
    "fig, axs = plt.subplots(nrows=2)\n",
    "fig.tight_layout()\n",
    "sns.barplot(x='hypertension',y='heart_disease',data=data5, ax=axs[0])\n",
    "sns.barplot(x='hypertension',y='diabetes',data=data5, ax=axs[1])"
   ]
  },
  {
   "cell_type": "code",
   "execution_count": 92,
   "id": "8a184fc7",
   "metadata": {},
   "outputs": [
    {
     "data": {
      "text/plain": [
       "<Axes: xlabel='heart_disease', ylabel='diabetes'>"
      ]
     },
     "execution_count": 92,
     "metadata": {},
     "output_type": "execute_result"
    },
    {
     "data": {
      "image/png": "[encoded data removed]",
      "text/plain": [
       "<Figure size 432x288 with 2 Axes>"
      ]
     },
     "metadata": {
      "needs_background": "light"
     },
     "output_type": "display_data"
    }
   ],
   "source": [
    "# proportion of 'hypertension', 'diabetes' by heart_disease status\n",
    "data6 = df.groupby('heart_disease')[['hypertension', 'diabetes']].mean().reset_index()\n",
    "\n",
    "fig, axs = plt.subplots(nrows=2)\n",
    "fig.tight_layout()\n",
    "sns.barplot(x='heart_disease',y='hypertension',data=data6, ax=axs[0])\n",
    "sns.barplot(x='heart_disease',y='diabetes',data=data6, ax=axs[1])"
   ]
  },
  {
   "cell_type": "markdown",
   "id": "90f8615d",
   "metadata": {},
   "source": [
    "To do: \n",
    "\n",
    "- Add bins for `bmi` and see proportions and averages, similarly explore `HbA1c_level` and/or `blood_glucose_level`, using either bins for the numerical values, or by assigning levels such as `high`, `normal`, `low`, etc (see below).\n",
    "\n",
    "\n",
    "- Create plots to visualize EDA.\n",
    "\n",
    "\n",
    "- We are building a classifier to predict `diabetes` status of a patient, we can focus on those 18, and maybe even 13 and above, because for ages below that there are very few records as a proportion of the dataset. \n",
    "\n",
    "\n",
    "- If anyone would like to create a classifier or a regressor that predicts another feature in, or maybe even currently external to the datatset (such as `bmi_level` and not just `bmi`), I am open to suggestions. I chose `diabetes` status since it is the most obvious, but also for this dataset, the most reasonable variable to try to predict."
   ]
  },
  {
   "cell_type": "markdown",
   "id": "00e220f2",
   "metadata": {},
   "source": [
    "#### Data Cleaning and Feature Engineering"
   ]
  },
  {
   "cell_type": "markdown",
   "id": "9a82b136",
   "metadata": {},
   "source": [
    "additional data for feature engineering:\n",
    "- bmi level: [cdc](https://www.cdc.gov/obesity/basics/adult-defining.html)\n",
    "- hba1c level: [bmc](https://bmcendocrdisord.biomedcentral.com/articles/10.1186/s12902-019-0338-7)\n",
    "- blood glucose level: [medlineplus](https://medlineplus.gov/ency/patientinstructions/000086.htm#:~:text=From%2090%20to%20130%20mg,children%20under%206%20years%20old)\n",
    "- diabetes likelihood: [cdc](https://www.cdc.gov/media/releases/2017/p0718-diabetes-report.html)\n",
    "\n",
    "can add more related / relevant links"
   ]
  }
 ],
 "metadata": {
  "kernelspec": {
   "display_name": "Python 3 (ipykernel)",
   "language": "python",
   "name": "python3"
  },
  "language_info": {
   "codemirror_mode": {
    "name": "ipython",
    "version": 3
   },
   "file_extension": ".py",
   "mimetype": "text/x-python",
   "name": "python",
   "nbconvert_exporter": "python",
   "pygments_lexer": "ipython3",
   "version": "3.9.6"
  }
 },
 "nbformat": 4,
 "nbformat_minor": 5
}
